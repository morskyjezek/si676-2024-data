{
 "cells": [
  {
   "cell_type": "markdown",
   "metadata": {},
   "source": [
    "# Using Python to read and print linked data\n",
    "\n",
    "This notebook offers a preliminary and quick introduction to the `rdflib` \n",
    "library, which supports the parsing and serializing of linked data in Python.\n",
    "The library supports output in RDF/XML, N3, Turtle, and JSON-LD.\n",
    "\n",
    "## Setup\n",
    "\n",
    "If you don't have [RDFLib](https://rdflib.readthedocs.io/en/), import it:"
   ]
  },
  {
   "cell_type": "code",
   "execution_count": null,
   "metadata": {},
   "outputs": [],
   "source": [
    "!pip install rdflib"
   ]
  },
  {
   "cell_type": "markdown",
   "metadata": {},
   "source": [
    "## Background\n",
    "\n",
    "Before getting started, it is useful to survey some of the \n",
    "resources and approaches in linked data, or semantic data. \n",
    "These include a few different metadata schemes, which are\n",
    "widely used across the web and provide a core of \"semantic data\n",
    "standards\". These include:\n",
    "\n",
    "* RDF (Resource Description Framework) - the initial Web data linking standard,\n",
    "which was serialized and shared initially in XML according to a W3C standard.\n",
    "* FOAF (Friend of a Friend) - a shared metadata scheme that defines many terms\n",
    "useful for describing people and relationships between them, their work, and\n",
    "sometimes even creations. \n",
    "* Wikidata - a linked data service that is openly sourced by a large\n",
    "user community. The platform offers URIs for each concept, including a basic\n",
    "distinction between entities (Q nodes) and properties (P nodes, which can act as both links and nodes).\n",
    "* ID.loc.gov - the Library of Congress' Linked Data service, which provides URIs for \n",
    "all of the major LOC vocabularies, including subject headings, name authorities, and more.\n",
    "\n",
    "The demonstration below makes use of all of these resources, amongst others."
   ]
  },
  {
   "cell_type": "markdown",
   "metadata": {},
   "source": [
    "For the purposes of the demonstration, let's build a linked data\n",
    "graph of novels by Jane Austen and associated entities. \n",
    "\n",
    "Some useful Wikidata resources: \n",
    "\n",
    "* Instance-of property (`P31`)\n",
    "* Jane Austen, English novelist (`Q36322`)\n",
    "* Pride and Prejudice / by Jane Austen (`Q170583`)\n",
    "* Literary work (`Q7725634`)\n",
    "* title property (`P1476`) - often takes a literal?\n",
    "* author property (`P50`) - note the directionality is particularly clear here (a person is not \"an author of\", but rather a work \"has author\"), so in this case the property applies to works, not agents. "
   ]
  },
  {
   "cell_type": "markdown",
   "metadata": {},
   "source": [
    "## Demonstration\n",
    "\n",
    "The cells below provide a quick demonstration of importing the library,\n",
    "reading and parsing an RDF document, then serializing that data\n",
    "in another format.\n",
    "\n",
    "This demonstrates using the sample data described in lecture. "
   ]
  },
  {
   "cell_type": "code",
   "execution_count": 1,
   "metadata": {},
   "outputs": [],
   "source": [
    "# if you haven't imported rdflib yet, run this cell\n",
    "from rdflib import Graph, Literal, RDF, URIRef, Namespace"
   ]
  },
  {
   "cell_type": "code",
   "execution_count": 2,
   "metadata": {},
   "outputs": [],
   "source": [
    "# you can add specific namespaces, like DublinCore\n",
    "from rdflib.namespace import DCTERMS, FOAF, RDF"
   ]
  },
  {
   "cell_type": "markdown",
   "metadata": {},
   "source": [
    "Set up additional namespaces that aren't default in the module:"
   ]
  },
  {
   "cell_type": "code",
   "execution_count": 3,
   "metadata": {},
   "outputs": [],
   "source": [
    "locid = Namespace('http://id.loc.gov')\n",
    "wdt = Namespace('https://www.wikidata.org/wiki/')\n",
    "wdtprop = Namespace('https://www.wikidata.org/wiki/Property:')\n",
    "mods = Namespace('http://www.loc.gov/mods/v3')\n",
    "viaf = Namespace('https://viaf.org/viaf/')"
   ]
  },
  {
   "cell_type": "code",
   "execution_count": 4,
   "metadata": {},
   "outputs": [],
   "source": [
    "# create a Graph\n",
    "g = Graph()"
   ]
  },
  {
   "cell_type": "markdown",
   "metadata": {},
   "source": [
    "Use the `.bind()` method to attach the namespaces to the specific graph that was just created:"
   ]
  },
  {
   "cell_type": "code",
   "execution_count": 5,
   "metadata": {},
   "outputs": [],
   "source": [
    "# set namespaces\n",
    "g.bind('locid', locid)\n",
    "g.bind('wdt', wdt)\n",
    "g.bind('wdtprop', wdtprop)\n",
    "g.bind('mods', mods)\n",
    "g.bind('foaf', FOAF)\n",
    "g.bind('dcterms', DCTERMS)"
   ]
  },
  {
   "cell_type": "markdown",
   "metadata": {},
   "source": [
    "Let's create some triples about Jane Austen"
   ]
  },
  {
   "cell_type": "code",
   "execution_count": 6,
   "metadata": {},
   "outputs": [
    {
     "data": {
      "text/plain": [
       "<Graph identifier=N5419ce11adcd4f30be524b60ab57dae5 (<class 'rdflib.graph.Graph'>)>"
      ]
     },
     "execution_count": 6,
     "metadata": {},
     "output_type": "execute_result"
    }
   ],
   "source": [
    "jane = URIRef('http://id.loc.gov/authorities/names/n79032879') # assign a URI for the person (in this case, we know already there is an LOC authority URI)\n",
    "name = Literal('Jane Austen') # the name as a string or 'literal'\n",
    "\n",
    "# create triples about Jane Austen & Pride & Prejudice using .add() \n",
    "g.add((jane, RDF.type, FOAF.Person)) # assert that the URI represents a person\n",
    "g.add((jane, FOAF.name, name)) # assert that the literal represents the name of the said person\n",
    "g.add((jane, wdtprop.P31, wdt.Q36322)) # asser that the loc authority is also an instance of the WikiData entity for Jane Austen\n",
    "g.add((jane, DCTERMS.creator, Literal('Pride and Prejudice', lang='en'))) # assert that the URI is the creator of another thing, represented by this string\n",
    "g.add((wdt.Q170583, wdtprop.P1476, Literal('Pride and Prejudice', lang='en'))) # assert that Pride and Prejudice has the title \n",
    "g.add((wdt.Q170583, DCTERMS.creator, jane)) # assert that jane is the creator of Q170583 as well\n",
    "g.add((wdt.Q170583, wdtprop.P50, jane)) # asserts that the novel pride and prejudice has the author Jane\n",
    "g.add((jane, wdtprop.P2963, URIRef('https://www.goodreads.com/author/show/1265')))"
   ]
  },
  {
   "cell_type": "code",
   "execution_count": 7,
   "metadata": {},
   "outputs": [
    {
     "name": "stdout",
     "output_type": "stream",
     "text": [
      "@prefix dcterms: <http://purl.org/dc/terms/> .\n",
      "@prefix foaf: <http://xmlns.com/foaf/0.1/> .\n",
      "@prefix wdt: <https://www.wikidata.org/wiki/> .\n",
      "@prefix wdtprop: <https://www.wikidata.org/wiki/Property:> .\n",
      "\n",
      "wdt:Q170583 dcterms:creator <http://id.loc.gov/authorities/names/n79032879> ;\n",
      "    wdtprop:P1476 \"Pride and Prejudice\"@en ;\n",
      "    wdtprop:P50 <http://id.loc.gov/authorities/names/n79032879> .\n",
      "\n",
      "<http://id.loc.gov/authorities/names/n79032879> a foaf:Person ;\n",
      "    dcterms:creator \"Pride and Prejudice\"@en ;\n",
      "    foaf:name \"Jane Austen\" ;\n",
      "    wdtprop:P2963 <https://www.goodreads.com/author/show/1265> ;\n",
      "    wdtprop:P31 wdt:Q36322 .\n",
      "\n",
      "\n"
     ]
    }
   ],
   "source": [
    "print(g.serialize(format='ttl'))"
   ]
  },
  {
   "cell_type": "code",
   "execution_count": 8,
   "metadata": {},
   "outputs": [
    {
     "name": "stdout",
     "output_type": "stream",
     "text": [
      "[\n",
      "  {\n",
      "    \"@id\": \"http://id.loc.gov/authorities/names/n79032879\",\n",
      "    \"@type\": [\n",
      "      \"http://xmlns.com/foaf/0.1/Person\"\n",
      "    ],\n",
      "    \"http://purl.org/dc/terms/creator\": [\n",
      "      {\n",
      "        \"@language\": \"en\",\n",
      "        \"@value\": \"Pride and Prejudice\"\n",
      "      }\n",
      "    ],\n",
      "    \"http://xmlns.com/foaf/0.1/name\": [\n",
      "      {\n",
      "        \"@value\": \"Jane Austen\"\n",
      "      }\n",
      "    ],\n",
      "    \"https://www.wikidata.org/wiki/Property:P2963\": [\n",
      "      {\n",
      "        \"@id\": \"https://www.goodreads.com/author/show/1265\"\n",
      "      }\n",
      "    ],\n",
      "    \"https://www.wikidata.org/wiki/Property:P31\": [\n",
      "      {\n",
      "        \"@id\": \"https://www.wikidata.org/wiki/Q36322\"\n",
      "      }\n",
      "    ]\n",
      "  },\n",
      "  {\n",
      "    \"@id\": \"https://www.wikidata.org/wiki/Q170583\",\n",
      "    \"http://purl.org/dc/terms/creator\": [\n",
      "      {\n",
      "        \"@id\": \"http://id.loc.gov/authorities/names/n79032879\"\n",
      "      }\n",
      "    ],\n",
      "    \"https://www.wikidata.org/wiki/Property:P1476\": [\n",
      "      {\n",
      "        \"@language\": \"en\",\n",
      "        \"@value\": \"Pride and Prejudice\"\n",
      "      }\n",
      "    ],\n",
      "    \"https://www.wikidata.org/wiki/Property:P50\": [\n",
      "      {\n",
      "        \"@id\": \"http://id.loc.gov/authorities/names/n79032879\"\n",
      "      }\n",
      "    ]\n",
      "  }\n",
      "]\n"
     ]
    }
   ],
   "source": [
    "print(g.serialize(format='json-ld'))"
   ]
  },
  {
   "cell_type": "markdown",
   "metadata": {},
   "source": [
    "Now, add some more information. For example, add triples about two of Austen's novels: _Pride and Prejudice_ and _Emma_."
   ]
  },
  {
   "cell_type": "code",
   "execution_count": 9,
   "metadata": {},
   "outputs": [
    {
     "data": {
      "text/plain": [
       "<Graph identifier=N5419ce11adcd4f30be524b60ab57dae5 (<class 'rdflib.graph.Graph'>)>"
      ]
     },
     "execution_count": 9,
     "metadata": {},
     "output_type": "execute_result"
    }
   ],
   "source": [
    "# add information about two novels\n",
    "\n",
    "g.add((jane, DCTERMS.creator, Literal(\"Emma\",lang=\"en\"))) #add Emma as a literal\n",
    "g.add((jane, DCTERMS.creator, wdt.Q223880)) #add Emma as a wikidata URI\n",
    "g.add((wdt.Q223880, wdtprop.P31, wdt.Q7725634)) # Emma is an instance of (P31) a literary work, (Q7725634)"
   ]
  },
  {
   "cell_type": "code",
   "execution_count": 10,
   "metadata": {},
   "outputs": [
    {
     "name": "stdout",
     "output_type": "stream",
     "text": [
      "@prefix dcterms: <http://purl.org/dc/terms/> .\n",
      "@prefix foaf: <http://xmlns.com/foaf/0.1/> .\n",
      "@prefix wdt: <https://www.wikidata.org/wiki/> .\n",
      "@prefix wdtprop: <https://www.wikidata.org/wiki/Property:> .\n",
      "\n",
      "wdt:Q170583 dcterms:creator <http://id.loc.gov/authorities/names/n79032879> ;\n",
      "    wdtprop:P1476 \"Pride and Prejudice\"@en ;\n",
      "    wdtprop:P50 <http://id.loc.gov/authorities/names/n79032879> .\n",
      "\n",
      "wdt:Q223880 wdtprop:P31 wdt:Q7725634 .\n",
      "\n",
      "<http://id.loc.gov/authorities/names/n79032879> a foaf:Person ;\n",
      "    dcterms:creator wdt:Q223880,\n",
      "        \"Emma\"@en,\n",
      "        \"Pride and Prejudice\"@en ;\n",
      "    foaf:name \"Jane Austen\" ;\n",
      "    wdtprop:P2963 <https://www.goodreads.com/author/show/1265> ;\n",
      "    wdtprop:P31 wdt:Q36322 .\n",
      "\n",
      "\n"
     ]
    }
   ],
   "source": [
    "print(g.serialize(format='ttl'))"
   ]
  },
  {
   "cell_type": "markdown",
   "metadata": {},
   "source": [
    "Let's link the \"Emma\" literal to the Emma Q URI (`Q223880`), using P1476, has title"
   ]
  },
  {
   "cell_type": "code",
   "execution_count": 11,
   "metadata": {},
   "outputs": [
    {
     "data": {
      "text/plain": [
       "<Graph identifier=N5419ce11adcd4f30be524b60ab57dae5 (<class 'rdflib.graph.Graph'>)>"
      ]
     },
     "execution_count": 11,
     "metadata": {},
     "output_type": "execute_result"
    }
   ],
   "source": [
    "# add title for Emma Q identifier\n",
    "g.add((wdt.Q223880, wdtprop.P1476, Literal(\"Emma\",lang=\"en\")))"
   ]
  },
  {
   "cell_type": "code",
   "execution_count": 12,
   "metadata": {},
   "outputs": [
    {
     "name": "stdout",
     "output_type": "stream",
     "text": [
      "@prefix dcterms: <http://purl.org/dc/terms/> .\n",
      "@prefix foaf: <http://xmlns.com/foaf/0.1/> .\n",
      "@prefix wdt: <https://www.wikidata.org/wiki/> .\n",
      "@prefix wdtprop: <https://www.wikidata.org/wiki/Property:> .\n",
      "\n",
      "wdt:Q170583 dcterms:creator <http://id.loc.gov/authorities/names/n79032879> ;\n",
      "    wdtprop:P1476 \"Pride and Prejudice\"@en ;\n",
      "    wdtprop:P50 <http://id.loc.gov/authorities/names/n79032879> .\n",
      "\n",
      "wdt:Q223880 wdtprop:P1476 \"Emma\"@en ;\n",
      "    wdtprop:P31 wdt:Q7725634 .\n",
      "\n",
      "<http://id.loc.gov/authorities/names/n79032879> a foaf:Person ;\n",
      "    dcterms:creator wdt:Q223880,\n",
      "        \"Emma\"@en,\n",
      "        \"Pride and Prejudice\"@en ;\n",
      "    foaf:name \"Jane Austen\" ;\n",
      "    wdtprop:P2963 <https://www.goodreads.com/author/show/1265> ;\n",
      "    wdtprop:P31 wdt:Q36322 .\n",
      "\n",
      "\n"
     ]
    }
   ],
   "source": [
    "print(g.serialize(format=\"ttl\"))"
   ]
  },
  {
   "cell_type": "markdown",
   "metadata": {},
   "source": [
    "### Basic example: Octavia\n",
    "\n",
    "Simple \"graph\" (one statement) about Octavia Butler: "
   ]
  },
  {
   "cell_type": "code",
   "execution_count": 13,
   "metadata": {},
   "outputs": [
    {
     "data": {
      "text/plain": [
       "<Graph identifier=N0a7bcebd3a7e436d89fb210c1bf6aa69 (<class 'rdflib.graph.Graph'>)>"
      ]
     },
     "execution_count": 13,
     "metadata": {},
     "output_type": "execute_result"
    }
   ],
   "source": [
    "# initialize graph\n",
    "octavia = Graph()\n",
    "\n",
    "# bind prefixes / import namespaces\n",
    "octavia.bind('wdt', wdt)\n",
    "octavia.bind('wdtprop', wdtprop)\n",
    "octavia.bind('viaf', viaf)\n",
    "octavia.bind('dcterms', DCTERMS)\n",
    "\n",
    "octavia"
   ]
  },
  {
   "cell_type": "code",
   "execution_count": 14,
   "metadata": {},
   "outputs": [
    {
     "name": "stdout",
     "output_type": "stream",
     "text": [
      "@prefix viaf: <https://viaf.org/viaf/> .\n",
      "@prefix wdt: <https://www.wikidata.org/wiki/> .\n",
      "@prefix wdtprop: <https://www.wikidata.org/wiki/Property:> .\n",
      "\n",
      "viaf:v34453955 wdtprop:P31 wdt:P5 .\n",
      "\n",
      "\n"
     ]
    }
   ],
   "source": [
    "# create a statement\n",
    "octavia.add((viaf.v34453955, wdtprop.P31, wdt.P5))\n",
    "\n",
    "# display\n",
    "print(octavia.serialize(format='ttl'))"
   ]
  },
  {
   "cell_type": "markdown",
   "metadata": {},
   "source": [
    "## Working with a Bibliographic Example\n",
    "\n",
    "The following illustrate a graph with various URIs tied to LoC's linked data service"
   ]
  },
  {
   "cell_type": "code",
   "execution_count": 15,
   "metadata": {},
   "outputs": [],
   "source": [
    "# Create an RDF URI node to use as the subject for multiple triples\n",
    "huckfinnURI = URIRef(\"http://id.loc.gov/authorities/names/n79132705\")"
   ]
  },
  {
   "cell_type": "code",
   "execution_count": 16,
   "metadata": {},
   "outputs": [],
   "source": [
    "# Add another resource\n",
    "twainURI = URIRef(\"http://id.loc.gov/authorities/names/n79021164\")"
   ]
  },
  {
   "cell_type": "markdown",
   "metadata": {},
   "source": [
    "The `.add()` method is a way to add specific triple statements:"
   ]
  },
  {
   "cell_type": "code",
   "execution_count": 18,
   "metadata": {},
   "outputs": [
    {
     "data": {
      "text/plain": [
       "<Graph identifier=N5419ce11adcd4f30be524b60ab57dae5 (<class 'rdflib.graph.Graph'>)>"
      ]
     },
     "execution_count": 18,
     "metadata": {},
     "output_type": "execute_result"
    }
   ],
   "source": [
    "g.add((huckfinnURI, wdt.P50, twainURI))"
   ]
  },
  {
   "cell_type": "code",
   "execution_count": 20,
   "metadata": {},
   "outputs": [
    {
     "data": {
      "text/plain": [
       "<Graph identifier=N5419ce11adcd4f30be524b60ab57dae5 (<class 'rdflib.graph.Graph'>)>"
      ]
     },
     "execution_count": 20,
     "metadata": {},
     "output_type": "execute_result"
    }
   ],
   "source": [
    "g.add((huckfinnURI, DCTERMS.title, Literal('Adventures of Huckleberry Finn', lang='en')))"
   ]
  },
  {
   "cell_type": "code",
   "execution_count": 21,
   "metadata": {},
   "outputs": [
    {
     "name": "stdout",
     "output_type": "stream",
     "text": [
      "@prefix dcterms: <http://purl.org/dc/terms/> .\n",
      "@prefix foaf: <http://xmlns.com/foaf/0.1/> .\n",
      "@prefix wdt: <https://www.wikidata.org/wiki/> .\n",
      "@prefix wdtprop: <https://www.wikidata.org/wiki/Property:> .\n",
      "\n",
      "<http://id.loc.gov/authorities/names/n79132705> dcterms:title \"Adventures of Huckleberry Finn\"@en ;\n",
      "    wdt:P50 <http://id.loc.gov/authorities/names/n79021164> .\n",
      "\n",
      "wdt:Q170583 dcterms:creator <http://id.loc.gov/authorities/names/n79032879> ;\n",
      "    wdtprop:P1476 \"Pride and Prejudice\"@en ;\n",
      "    wdtprop:P50 <http://id.loc.gov/authorities/names/n79032879> .\n",
      "\n",
      "wdt:Q223880 wdtprop:P1476 \"Emma\"@en ;\n",
      "    wdtprop:P31 wdt:Q7725634 .\n",
      "\n",
      "<http://id.loc.gov/authorities/names/n79032879> a foaf:Person ;\n",
      "    dcterms:creator wdt:Q223880,\n",
      "        \"Emma\"@en,\n",
      "        \"Pride and Prejudice\"@en ;\n",
      "    foaf:name \"Jane Austen\" ;\n",
      "    wdtprop:P2963 <https://www.goodreads.com/author/show/1265> ;\n",
      "    wdtprop:P31 wdt:Q36322 .\n",
      "\n",
      "\n"
     ]
    }
   ],
   "source": [
    "print(g.serialize(format='n3'))"
   ]
  },
  {
   "cell_type": "code",
   "execution_count": 22,
   "metadata": {},
   "outputs": [
    {
     "name": "stdout",
     "output_type": "stream",
     "text": [
      "[\n",
      "  {\n",
      "    \"@id\": \"http://id.loc.gov/authorities/names/n79032879\",\n",
      "    \"@type\": [\n",
      "      \"http://xmlns.com/foaf/0.1/Person\"\n",
      "    ],\n",
      "    \"http://purl.org/dc/terms/creator\": [\n",
      "      {\n",
      "        \"@language\": \"en\",\n",
      "        \"@value\": \"Pride and Prejudice\"\n",
      "      },\n",
      "      {\n",
      "        \"@language\": \"en\",\n",
      "        \"@value\": \"Emma\"\n",
      "      },\n",
      "      {\n",
      "        \"@id\": \"https://www.wikidata.org/wiki/Q223880\"\n",
      "      }\n",
      "    ],\n",
      "    \"http://xmlns.com/foaf/0.1/name\": [\n",
      "      {\n",
      "        \"@value\": \"Jane Austen\"\n",
      "      }\n",
      "    ],\n",
      "    \"https://www.wikidata.org/wiki/Property:P2963\": [\n",
      "      {\n",
      "        \"@id\": \"https://www.goodreads.com/author/show/1265\"\n",
      "      }\n",
      "    ],\n",
      "    \"https://www.wikidata.org/wiki/Property:P31\": [\n",
      "      {\n",
      "        \"@id\": \"https://www.wikidata.org/wiki/Q36322\"\n",
      "      }\n",
      "    ]\n",
      "  },\n",
      "  {\n",
      "    \"@id\": \"https://www.wikidata.org/wiki/Q223880\",\n",
      "    \"https://www.wikidata.org/wiki/Property:P1476\": [\n",
      "      {\n",
      "        \"@language\": \"en\",\n",
      "        \"@value\": \"Emma\"\n",
      "      }\n",
      "    ],\n",
      "    \"https://www.wikidata.org/wiki/Property:P31\": [\n",
      "      {\n",
      "        \"@id\": \"https://www.wikidata.org/wiki/Q7725634\"\n",
      "      }\n",
      "    ]\n",
      "  },\n",
      "  {\n",
      "    \"@id\": \"http://id.loc.gov/authorities/names/n79132705\",\n",
      "    \"http://purl.org/dc/terms/title\": [\n",
      "      {\n",
      "        \"@language\": \"en\",\n",
      "        \"@value\": \"Adventures of Huckleberry Finn\"\n",
      "      }\n",
      "    ],\n",
      "    \"https://www.wikidata.org/wiki/P50\": [\n",
      "      {\n",
      "        \"@id\": \"http://id.loc.gov/authorities/names/n79021164\"\n",
      "      }\n",
      "    ]\n",
      "  },\n",
      "  {\n",
      "    \"@id\": \"https://www.wikidata.org/wiki/Q170583\",\n",
      "    \"http://purl.org/dc/terms/creator\": [\n",
      "      {\n",
      "        \"@id\": \"http://id.loc.gov/authorities/names/n79032879\"\n",
      "      }\n",
      "    ],\n",
      "    \"https://www.wikidata.org/wiki/Property:P1476\": [\n",
      "      {\n",
      "        \"@language\": \"en\",\n",
      "        \"@value\": \"Pride and Prejudice\"\n",
      "      }\n",
      "    ],\n",
      "    \"https://www.wikidata.org/wiki/Property:P50\": [\n",
      "      {\n",
      "        \"@id\": \"http://id.loc.gov/authorities/names/n79032879\"\n",
      "      }\n",
      "    ]\n",
      "  }\n",
      "]\n"
     ]
    }
   ],
   "source": [
    "print(g.serialize(format='json-ld'))"
   ]
  }
 ],
 "metadata": {
  "kernelspec": {
   "display_name": "base",
   "language": "python",
   "name": "python3"
  },
  "language_info": {
   "codemirror_mode": {
    "name": "ipython",
    "version": 3
   },
   "file_extension": ".py",
   "mimetype": "text/x-python",
   "name": "python",
   "nbconvert_exporter": "python",
   "pygments_lexer": "ipython3",
   "version": "3.9.18"
  },
  "orig_nbformat": 4
 },
 "nbformat": 4,
 "nbformat_minor": 2
}
