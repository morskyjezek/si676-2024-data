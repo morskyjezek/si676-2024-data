{
 "cells": [
  {
   "cell_type": "markdown",
   "metadata": {},
   "source": [
    "# Using Python to read and print linked data\n",
    "\n",
    "This notebook offers a preliminary and quick introduction to the `rdflib` \n",
    "library, which supports the parsing and serializing of linked data in Python.\n",
    "The library supports output in RDF/XML, N3, Turtle, and JSON-LD.\n",
    "\n",
    "## Setup\n",
    "\n",
    "If you don't have [RDFLib](https://rdflib.readthedocs.io/en/), import it:"
   ]
  },
  {
   "cell_type": "code",
   "execution_count": null,
   "metadata": {},
   "outputs": [],
   "source": [
    "!pip install rdflib"
   ]
  },
  {
   "cell_type": "markdown",
   "metadata": {},
   "source": [
    "## Demonstration\n",
    "\n",
    "The cells below provide a quick demonstration of importing the library,\n",
    "reading and parsing an RDF document, then serializing that data\n",
    "in another format. "
   ]
  },
  {
   "cell_type": "code",
   "execution_count": 1,
   "metadata": {},
   "outputs": [],
   "source": [
    "from rdflib import Graph"
   ]
  },
  {
   "cell_type": "code",
   "execution_count": 3,
   "metadata": {},
   "outputs": [
    {
     "data": {
      "text/plain": [
       "<Graph identifier=N838a8a0dacce402b8aab3aa24a17f3cc (<class 'rdflib.graph.Graph'>)>"
      ]
     },
     "execution_count": 3,
     "metadata": {},
     "output_type": "execute_result"
    }
   ],
   "source": [
    "# create a graph\n",
    "g = Graph()\n",
    "\n",
    "# parse the data\n",
    "g.parse('../data/xml/jajohnst-foaf.rdf')"
   ]
  },
  {
   "cell_type": "markdown",
   "metadata": {},
   "source": [
    "To see how many statements are in the graph, use the `len()` function:"
   ]
  },
  {
   "cell_type": "code",
   "execution_count": 4,
   "metadata": {},
   "outputs": [
    {
     "name": "stdout",
     "output_type": "stream",
     "text": [
      "The graph contains 31 statements.\n"
     ]
    }
   ],
   "source": [
    "print('The graph contains '+str(len(g))+' statements.')"
   ]
  },
  {
   "cell_type": "markdown",
   "metadata": {},
   "source": [
    "Each statement should be a tuple with three values: subject, predicate, object. Let's take a look:"
   ]
  },
  {
   "cell_type": "code",
   "execution_count": 5,
   "metadata": {},
   "outputs": [
    {
     "name": "stdout",
     "output_type": "stream",
     "text": [
      "file:///Users/jajohnst/Desktop/si676-2024-data/data/xml/jajohnst-foaf.rdf#ricky http://xmlns.com/foaf/0.1/mbox_sha1sum None\n",
      "http://lh3.ggpht.com/VJzsbZ4cCNHmdaLDRxDBU14AapsOWxnJ8M-OTLopbw0-SAXxbsbyTyAb4OYN9QAa04WIWtSYy7Zin0rxmpvWYCp7=s200-c http://www.w3.org/1999/02/22-rdf-syntax-ns#type http://xmlns.com/foaf/0.1/Image\n",
      "file:///Users/jajohnst/Desktop/si676-2024-data/data/xml/jajohnst-foaf.rdf#jamis-2010 http://purl.org/dc/terms/abstract This article presents an English-language introduction to the cimbalom, known in Czech as cimbál, as it is played in the Czech Republic. The article presents a holistic perspective on the cimbalom in Moravia, beginning with a descriptive organography, which covers Moravian organology evidence, historical iconography, and ethnographic evidence, with particular attention to the nineteenth-century ethnographic expeditions of Leos Janácek and folkloric nationalism. The article also proceeds to discuss musical style and the cimbalom's role in traditional ensemble music. The article concludes that, while the cimbalom's significance in Moravia has changed over time, the instrument has over the twentieth century become central to Moravian traditional music.\n",
      "file:///Users/jajohnst/Desktop/si676-2024-data/data/xml/jajohnst-foaf.rdf#jesse http://xmlns.com/foaf/0.1/title Ph.D.\n",
      "file:///Users/jajohnst/Desktop/si676-2024-data/data/xml/jajohnst-foaf.rdf#jamis-2010 http://purl.org/dc/elements/1.1/title The Cimbál (Cimbalom) and Folk Music in Moravian Slovakia and Valachia\n",
      "file:///Users/jajohnst/Desktop/si676-2024-data/data/xml/jajohnst-foaf.rdf#jamis-2010 http://purl.org/dc/elements/1.1/creator Jesse A. Johnston\n",
      "file:///Users/jajohnst/Desktop/si676-2024-data/data/xml/jajohnst-foaf.rdf#jamis-2010 http://purl.org/dc/terms/bibliographicCitation Journal of the American Musical Instrument Society 36 (2010): pp. 78–117\n",
      "file:///Users/jajohnst/Desktop/si676-2024-data/data/xml/jajohnst-foaf.rdf#ricky http://xmlns.com/foaf/0.1/homepage http://www.rpunzalan.com/\n",
      "file:///Users/jajohnst/Desktop/si676-2024-data/data/xml/jajohnst-foaf.rdf#jesse http://xmlns.com/foaf/0.1/knows file:///Users/jajohnst/Desktop/si676-2024-data/data/xml/jajohnst-foaf.rdf#ricky\n",
      "http://lh3.ggpht.com/VJzsbZ4cCNHmdaLDRxDBU14AapsOWxnJ8M-OTLopbw0-SAXxbsbyTyAb4OYN9QAa04WIWtSYy7Zin0rxmpvWYCp7=s200-c http://purl.org/dc/elements/1.1/description Photo of Jesse Johnston\n",
      "file:///Users/jajohnst/Desktop/si676-2024-data/data/xml/jajohnst-foaf.rdf#jesse http://xmlns.com/foaf/0.1/firstName Jesse\n",
      "file:///Users/jajohnst/Desktop/si676-2024-data/data/xml/jajohnst-foaf.rdf#jamis-2010 http://www.w3.org/1999/02/22-rdf-syntax-ns#type http://xmlns.com/foaf/0.1/Document\n",
      "file:///Users/jajohnst/Desktop/si676-2024-data/data/xml/jajohnst-foaf.rdf#ricky http://www.w3.org/2000/01/rdf-schema#seeAlso http://www.rpunzalan.com/\n",
      "file:///Users/jajohnst/Desktop/si676-2024-data/data/xml/jajohnst-foaf.rdf#jesse http://www.w3.org/1999/02/22-rdf-syntax-ns#type http://xmlns.com/foaf/0.1/Person\n",
      "file:///Users/jajohnst/Desktop/si676-2024-data/data/xml/jajohnst-foaf.rdf#jamis-2010 http://purl.org/dc/terms/uri http://deepblue.lib.umich.edu/handle/2027.42/87955\n",
      "file:///Users/jajohnst/Desktop/si676-2024-data/data/xml/jajohnst-foaf.rdf#ricky http://www.w3.org/1999/02/22-rdf-syntax-ns#type http://xmlns.com/foaf/0.1/Person\n",
      "file:///Users/jajohnst/Desktop/si676-2024-data/data/xml/jajohnst-foaf.rdf#jesse http://xmlns.com/foaf/0.1/publications file:///Users/jajohnst/Desktop/si676-2024-data/data/xml/jajohnst-foaf.rdf#jamis-2010\n",
      "file:///Users/jajohnst/Desktop/si676-2024-data/data/xml/jajohnst-foaf.rdf#jesse http://xmlns.com/foaf/0.1/depiction http://lh3.ggpht.com/VJzsbZ4cCNHmdaLDRxDBU14AapsOWxnJ8M-OTLopbw0-SAXxbsbyTyAb4OYN9QAa04WIWtSYy7Zin0rxmpvWYCp7=s200-c\n",
      "file:///Users/jajohnst/Desktop/si676-2024-data/data/xml/jajohnst-foaf.rdf#ricky http://xmlns.com/foaf/0.1/name Ricardo Punzalan\n",
      "http://lh3.ggpht.com/VJzsbZ4cCNHmdaLDRxDBU14AapsOWxnJ8M-OTLopbw0-SAXxbsbyTyAb4OYN9QAa04WIWtSYy7Zin0rxmpvWYCp7=s200-c http://purl.org/dc/elements/1.1/date 2010\n",
      "file:///Users/jajohnst/Desktop/si676-2024-data/data/xml/jajohnst-foaf.rdf#jamis-2010 http://purl.org/dc/elements/1.1/type Text\n",
      "file:///Users/jajohnst/Desktop/si676-2024-data/data/xml/jajohnst-foaf.rdf#jesse http://xmlns.com/foaf/0.1/workplaceHomepage http://www.neh.gov/\n",
      "file:///Users/jajohnst/Desktop/si676-2024-data/data/xml/jajohnst-foaf.rdf#jesse http://xmlns.com/foaf/0.1/homepage http://www.jesseajohnston.net/\n",
      "file:///Users/jajohnst/Desktop/si676-2024-data/data/xml/jajohnst-foaf.rdf#jamis-2010 http://purl.org/dc/elements/1.1/identifier Journal of the American Musical Instrument Society\n",
      "file:///Users/jajohnst/Desktop/si676-2024-data/data/xml/jajohnst-foaf.rdf#jamis-2010 http://purl.org/dc/elements/1.1/date 2010\n",
      "file:///Users/jajohnst/Desktop/si676-2024-data/data/xml/jajohnst-foaf.rdf#jesse http://xmlns.com/foaf/0.1/schoolHomepage http://www.umich.edu/\n",
      "http://lh3.ggpht.com/VJzsbZ4cCNHmdaLDRxDBU14AapsOWxnJ8M-OTLopbw0-SAXxbsbyTyAb4OYN9QAa04WIWtSYy7Zin0rxmpvWYCp7=s200-c http://purl.org/dc/elements/1.1/creator Ricardo Punzalan\n",
      "file:///Users/jajohnst/Desktop/si676-2024-data/data/xml/jajohnst-foaf.rdf#jamis-2010 http://purl.org/dc/elements/1.1/description This is a journal article published by Jesse A. Johnston in the Journal of the American Musical Instrument Society, volume 36, pages 78-117, published in the year 2010.\n",
      "file:///Users/jajohnst/Desktop/si676-2024-data/data/xml/jajohnst-foaf.rdf#jesse http://xmlns.com/foaf/0.1/name Jesse A. Johnston\n",
      "file:///Users/jajohnst/Desktop/si676-2024-data/data/xml/jajohnst-foaf.rdf#jesse http://xmlns.com/foaf/0.1/family_name Johnston\n",
      "http://deepblue.lib.umich.edu/handle/2027.42/87955 http://purl.org/dc/elements/1.1/format pdf\n"
     ]
    }
   ],
   "source": [
    "# call the triples and loop through\n",
    "for subj, pred, obj in g:\n",
    "    print(subj, pred, obj)"
   ]
  },
  {
   "cell_type": "markdown",
   "metadata": {},
   "source": [
    "To then output, or serialize, the data, you can request different formats like turtle or JSON-LD:"
   ]
  },
  {
   "cell_type": "code",
   "execution_count": 6,
   "metadata": {},
   "outputs": [
    {
     "name": "stdout",
     "output_type": "stream",
     "text": [
      "@prefix dc: <http://purl.org/dc/elements/1.1/> .\n",
      "@prefix dcterms: <http://purl.org/dc/terms/> .\n",
      "@prefix foaf: <http://xmlns.com/foaf/0.1/> .\n",
      "@prefix rdfs: <http://www.w3.org/2000/01/rdf-schema#> .\n",
      "\n",
      "<file:///Users/jajohnst/Desktop/si676-2024-data/data/xml/jajohnst-foaf.rdf#jesse> a foaf:Person ;\n",
      "    foaf:depiction <http://lh3.ggpht.com/VJzsbZ4cCNHmdaLDRxDBU14AapsOWxnJ8M-OTLopbw0-SAXxbsbyTyAb4OYN9QAa04WIWtSYy7Zin0rxmpvWYCp7=s200-c> ;\n",
      "    foaf:family_name \"Johnston\" ;\n",
      "    foaf:firstName \"Jesse\" ;\n",
      "    foaf:homepage <http://www.jesseajohnston.net/> ;\n",
      "    foaf:knows <file:///Users/jajohnst/Desktop/si676-2024-data/data/xml/jajohnst-foaf.rdf#ricky> ;\n",
      "    foaf:name \"Jesse A. Johnston\" ;\n",
      "    foaf:publications <file:///Users/jajohnst/Desktop/si676-2024-data/data/xml/jajohnst-foaf.rdf#jamis-2010> ;\n",
      "    foaf:schoolHomepage <http://www.umich.edu/> ;\n",
      "    foaf:title \"Ph.D.\" ;\n",
      "    foaf:workplaceHomepage <http://www.neh.gov/> .\n",
      "\n",
      "<file:///Users/jajohnst/Desktop/si676-2024-data/data/xml/jajohnst-foaf.rdf#jamis-2010> a foaf:Document ;\n",
      "    dc:creator \"Jesse A. Johnston\" ;\n",
      "    dc:date \"2010\" ;\n",
      "    dc:description \"This is a journal article published by Jesse A. Johnston in the Journal of the American Musical Instrument Society, volume 36, pages 78-117, published in the year 2010.\" ;\n",
      "    dc:identifier \"Journal of the American Musical Instrument Society\" ;\n",
      "    dc:title \"The Cimbál (Cimbalom) and Folk Music in Moravian Slovakia and Valachia\" ;\n",
      "    dc:type \"Text\" ;\n",
      "    dcterms:abstract \"This article presents an English-language introduction to the cimbalom, known in Czech as cimbál, as it is played in the Czech Republic. The article presents a holistic perspective on the cimbalom in Moravia, beginning with a descriptive organography, which covers Moravian organology evidence, historical iconography, and ethnographic evidence, with particular attention to the nineteenth-century ethnographic expeditions of Leos Janácek and folkloric nationalism. The article also proceeds to discuss musical style and the cimbalom's role in traditional ensemble music. The article concludes that, while the cimbalom's significance in Moravia has changed over time, the instrument has over the twentieth century become central to Moravian traditional music.\" ;\n",
      "    dcterms:bibliographicCitation \"Journal of the American Musical Instrument Society 36 (2010): pp. 78–117\" ;\n",
      "    dcterms:uri <http://deepblue.lib.umich.edu/handle/2027.42/87955> .\n",
      "\n",
      "<file:///Users/jajohnst/Desktop/si676-2024-data/data/xml/jajohnst-foaf.rdf#ricky> a foaf:Person ;\n",
      "    rdfs:seeAlso <http://www.rpunzalan.com/> ;\n",
      "    foaf:homepage <http://www.rpunzalan.com/> ;\n",
      "    foaf:mbox_sha1sum \"None\" ;\n",
      "    foaf:name \"Ricardo Punzalan\" .\n",
      "\n",
      "<http://deepblue.lib.umich.edu/handle/2027.42/87955> dc:format \"pdf\" .\n",
      "\n",
      "<http://lh3.ggpht.com/VJzsbZ4cCNHmdaLDRxDBU14AapsOWxnJ8M-OTLopbw0-SAXxbsbyTyAb4OYN9QAa04WIWtSYy7Zin0rxmpvWYCp7=s200-c> a foaf:Image ;\n",
      "    dc:creator \"Ricardo Punzalan\" ;\n",
      "    dc:date \"2010\" ;\n",
      "    dc:description \"Photo of Jesse Johnston\" .\n",
      "\n",
      "\n"
     ]
    }
   ],
   "source": [
    "# serialize in turtle\n",
    "print(g.serialize(format=\"turtle\"))"
   ]
  },
  {
   "cell_type": "markdown",
   "metadata": {},
   "source": [
    "Or try output to JSON-LD:"
   ]
  },
  {
   "cell_type": "code",
   "execution_count": 7,
   "metadata": {},
   "outputs": [
    {
     "name": "stdout",
     "output_type": "stream",
     "text": [
      "[\n",
      "  {\n",
      "    \"@id\": \"http://deepblue.lib.umich.edu/handle/2027.42/87955\",\n",
      "    \"http://purl.org/dc/elements/1.1/format\": [\n",
      "      {\n",
      "        \"@value\": \"pdf\"\n",
      "      }\n",
      "    ]\n",
      "  },\n",
      "  {\n",
      "    \"@id\": \"http://lh3.ggpht.com/VJzsbZ4cCNHmdaLDRxDBU14AapsOWxnJ8M-OTLopbw0-SAXxbsbyTyAb4OYN9QAa04WIWtSYy7Zin0rxmpvWYCp7=s200-c\",\n",
      "    \"@type\": [\n",
      "      \"http://xmlns.com/foaf/0.1/Image\"\n",
      "    ],\n",
      "    \"http://purl.org/dc/elements/1.1/creator\": [\n",
      "      {\n",
      "        \"@value\": \"Ricardo Punzalan\"\n",
      "      }\n",
      "    ],\n",
      "    \"http://purl.org/dc/elements/1.1/date\": [\n",
      "      {\n",
      "        \"@value\": \"2010\"\n",
      "      }\n",
      "    ],\n",
      "    \"http://purl.org/dc/elements/1.1/description\": [\n",
      "      {\n",
      "        \"@value\": \"Photo of Jesse Johnston\"\n",
      "      }\n",
      "    ]\n",
      "  },\n",
      "  {\n",
      "    \"@id\": \"file:///Users/jajohnst/Desktop/si676-2024-data/data/xml/jajohnst-foaf.rdf#ricky\",\n",
      "    \"@type\": [\n",
      "      \"http://xmlns.com/foaf/0.1/Person\"\n",
      "    ],\n",
      "    \"http://www.w3.org/2000/01/rdf-schema#seeAlso\": [\n",
      "      {\n",
      "        \"@id\": \"http://www.rpunzalan.com/\"\n",
      "      }\n",
      "    ],\n",
      "    \"http://xmlns.com/foaf/0.1/homepage\": [\n",
      "      {\n",
      "        \"@id\": \"http://www.rpunzalan.com/\"\n",
      "      }\n",
      "    ],\n",
      "    \"http://xmlns.com/foaf/0.1/mbox_sha1sum\": [\n",
      "      {\n",
      "        \"@value\": \"None\"\n",
      "      }\n",
      "    ],\n",
      "    \"http://xmlns.com/foaf/0.1/name\": [\n",
      "      {\n",
      "        \"@value\": \"Ricardo Punzalan\"\n",
      "      }\n",
      "    ]\n",
      "  },\n",
      "  {\n",
      "    \"@id\": \"file:///Users/jajohnst/Desktop/si676-2024-data/data/xml/jajohnst-foaf.rdf#jamis-2010\",\n",
      "    \"@type\": [\n",
      "      \"http://xmlns.com/foaf/0.1/Document\"\n",
      "    ],\n",
      "    \"http://purl.org/dc/elements/1.1/creator\": [\n",
      "      {\n",
      "        \"@value\": \"Jesse A. Johnston\"\n",
      "      }\n",
      "    ],\n",
      "    \"http://purl.org/dc/elements/1.1/date\": [\n",
      "      {\n",
      "        \"@value\": \"2010\"\n",
      "      }\n",
      "    ],\n",
      "    \"http://purl.org/dc/elements/1.1/description\": [\n",
      "      {\n",
      "        \"@value\": \"This is a journal article published by Jesse A. Johnston in the Journal of the American Musical Instrument Society, volume 36, pages 78-117, published in the year 2010.\"\n",
      "      }\n",
      "    ],\n",
      "    \"http://purl.org/dc/elements/1.1/identifier\": [\n",
      "      {\n",
      "        \"@value\": \"Journal of the American Musical Instrument Society\"\n",
      "      }\n",
      "    ],\n",
      "    \"http://purl.org/dc/elements/1.1/title\": [\n",
      "      {\n",
      "        \"@value\": \"The Cimbál (Cimbalom) and Folk Music in Moravian Slovakia and Valachia\"\n",
      "      }\n",
      "    ],\n",
      "    \"http://purl.org/dc/elements/1.1/type\": [\n",
      "      {\n",
      "        \"@value\": \"Text\"\n",
      "      }\n",
      "    ],\n",
      "    \"http://purl.org/dc/terms/abstract\": [\n",
      "      {\n",
      "        \"@value\": \"This article presents an English-language introduction to the cimbalom, known in Czech as cimbál, as it is played in the Czech Republic. The article presents a holistic perspective on the cimbalom in Moravia, beginning with a descriptive organography, which covers Moravian organology evidence, historical iconography, and ethnographic evidence, with particular attention to the nineteenth-century ethnographic expeditions of Leos Janácek and folkloric nationalism. The article also proceeds to discuss musical style and the cimbalom's role in traditional ensemble music. The article concludes that, while the cimbalom's significance in Moravia has changed over time, the instrument has over the twentieth century become central to Moravian traditional music.\"\n",
      "      }\n",
      "    ],\n",
      "    \"http://purl.org/dc/terms/bibliographicCitation\": [\n",
      "      {\n",
      "        \"@value\": \"Journal of the American Musical Instrument Society 36 (2010): pp. 78–117\"\n",
      "      }\n",
      "    ],\n",
      "    \"http://purl.org/dc/terms/uri\": [\n",
      "      {\n",
      "        \"@id\": \"http://deepblue.lib.umich.edu/handle/2027.42/87955\"\n",
      "      }\n",
      "    ]\n",
      "  },\n",
      "  {\n",
      "    \"@id\": \"file:///Users/jajohnst/Desktop/si676-2024-data/data/xml/jajohnst-foaf.rdf#jesse\",\n",
      "    \"@type\": [\n",
      "      \"http://xmlns.com/foaf/0.1/Person\"\n",
      "    ],\n",
      "    \"http://xmlns.com/foaf/0.1/depiction\": [\n",
      "      {\n",
      "        \"@id\": \"http://lh3.ggpht.com/VJzsbZ4cCNHmdaLDRxDBU14AapsOWxnJ8M-OTLopbw0-SAXxbsbyTyAb4OYN9QAa04WIWtSYy7Zin0rxmpvWYCp7=s200-c\"\n",
      "      }\n",
      "    ],\n",
      "    \"http://xmlns.com/foaf/0.1/family_name\": [\n",
      "      {\n",
      "        \"@value\": \"Johnston\"\n",
      "      }\n",
      "    ],\n",
      "    \"http://xmlns.com/foaf/0.1/firstName\": [\n",
      "      {\n",
      "        \"@value\": \"Jesse\"\n",
      "      }\n",
      "    ],\n",
      "    \"http://xmlns.com/foaf/0.1/homepage\": [\n",
      "      {\n",
      "        \"@id\": \"http://www.jesseajohnston.net/\"\n",
      "      }\n",
      "    ],\n",
      "    \"http://xmlns.com/foaf/0.1/knows\": [\n",
      "      {\n",
      "        \"@id\": \"file:///Users/jajohnst/Desktop/si676-2024-data/data/xml/jajohnst-foaf.rdf#ricky\"\n",
      "      }\n",
      "    ],\n",
      "    \"http://xmlns.com/foaf/0.1/name\": [\n",
      "      {\n",
      "        \"@value\": \"Jesse A. Johnston\"\n",
      "      }\n",
      "    ],\n",
      "    \"http://xmlns.com/foaf/0.1/publications\": [\n",
      "      {\n",
      "        \"@id\": \"file:///Users/jajohnst/Desktop/si676-2024-data/data/xml/jajohnst-foaf.rdf#jamis-2010\"\n",
      "      }\n",
      "    ],\n",
      "    \"http://xmlns.com/foaf/0.1/schoolHomepage\": [\n",
      "      {\n",
      "        \"@id\": \"http://www.umich.edu/\"\n",
      "      }\n",
      "    ],\n",
      "    \"http://xmlns.com/foaf/0.1/title\": [\n",
      "      {\n",
      "        \"@value\": \"Ph.D.\"\n",
      "      }\n",
      "    ],\n",
      "    \"http://xmlns.com/foaf/0.1/workplaceHomepage\": [\n",
      "      {\n",
      "        \"@id\": \"http://www.neh.gov/\"\n",
      "      }\n",
      "    ]\n",
      "  }\n",
      "]\n"
     ]
    }
   ],
   "source": [
    "print(g.serialize(format=\"json-ld\", indent=2))"
   ]
  },
  {
   "cell_type": "markdown",
   "metadata": {},
   "source": [
    "## Try a larger example\n",
    "\n",
    "This takes in another graph and . . . "
   ]
  },
  {
   "cell_type": "code",
   "execution_count": 8,
   "metadata": {},
   "outputs": [],
   "source": [
    "# if you haven't imported rdflib yet, run this cell\n",
    "from rdflib import Graph, Literal, RDF, URIRef"
   ]
  },
  {
   "cell_type": "markdown",
   "metadata": {},
   "source": [
    "You can also import namespaces in RDF (not all, see the list of available namespaces here):"
   ]
  },
  {
   "cell_type": "code",
   "execution_count": 9,
   "metadata": {},
   "outputs": [],
   "source": [
    "# rdflib knows about some namespaces, like FOAF\n",
    "from rdflib.namespace import FOAF , XSD"
   ]
  },
  {
   "cell_type": "code",
   "execution_count": 10,
   "metadata": {},
   "outputs": [],
   "source": [
    "# create a Graph\n",
    "g = Graph()"
   ]
  },
  {
   "cell_type": "code",
   "execution_count": 12,
   "metadata": {},
   "outputs": [],
   "source": [
    "# Create an RDF URI node to use as the subject for multiple triples\n",
    "jane = URIRef(\"http://id.loc.gov/authorities/names/n79032879\")"
   ]
  },
  {
   "cell_type": "code",
   "execution_count": 13,
   "metadata": {},
   "outputs": [
    {
     "data": {
      "text/plain": [
       "<Graph identifier=Nfe6e135c348e4453a746ae0a7ba06752 (<class 'rdflib.graph.Graph'>)>"
      ]
     },
     "execution_count": 13,
     "metadata": {},
     "output_type": "execute_result"
    }
   ],
   "source": [
    "# Add triples using store's add() method.\n",
    "g.add((jane, RDF.type, FOAF.Person))\n",
    "g.add((jane, FOAF.nick, Literal(\"jane\", lang=\"en\")))\n",
    "g.add((jane, FOAF.name, Literal(\"Jane Austen\")))\n",
    "g.add((jane, FOAF.mbox, URIRef(\"mailto:jane@austen.org\")))"
   ]
  },
  {
   "cell_type": "code",
   "execution_count": 14,
   "metadata": {},
   "outputs": [],
   "source": [
    "# Add another person\n",
    "jajohnst = URIRef(\"http://jesseajohnston.net/about\")"
   ]
  },
  {
   "cell_type": "code",
   "execution_count": 18,
   "metadata": {},
   "outputs": [
    {
     "data": {
      "text/plain": [
       "<Graph identifier=Nfe6e135c348e4453a746ae0a7ba06752 (<class 'rdflib.graph.Graph'>)>"
      ]
     },
     "execution_count": 18,
     "metadata": {},
     "output_type": "execute_result"
    }
   ],
   "source": [
    "# Add triples using store's add() method.\n",
    "g.add((jajohnst, RDF.type, FOAF.Person))\n",
    "g.add((jajohnst, FOAF.nick, Literal(\"Jesse\", datatype=XSD.string)))\n",
    "g.add((jajohnst, FOAF.name, Literal(\"Jesse A. Johnston\")))\n",
    "g.add((jajohnst, FOAF.mbox, URIRef(\"mailto:jajohnst@umich.edu\")))"
   ]
  },
  {
   "cell_type": "code",
   "execution_count": 17,
   "metadata": {},
   "outputs": [
    {
     "name": "stdout",
     "output_type": "stream",
     "text": [
      "--- printing raw triples ---\n",
      "(rdflib.term.URIRef('http://jesseajohnston.net/about'), rdflib.term.URIRef('http://xmlns.com/foaf/0.1/nick'), rdflib.term.Literal('Jesse', datatype=rdflib.term.URIRef('http://www.w3.org/2001/XMLSchema#string')))\n",
      "(rdflib.term.URIRef('http://id.loc.gov/authorities/names/n79032879'), rdflib.term.URIRef('http://xmlns.com/foaf/0.1/name'), rdflib.term.Literal('Jane Austen'))\n",
      "(rdflib.term.URIRef('http://id.loc.gov/authorities/names/n79032879'), rdflib.term.URIRef('http://www.w3.org/1999/02/22-rdf-syntax-ns#type'), rdflib.term.URIRef('http://xmlns.com/foaf/0.1/Person'))\n",
      "(rdflib.term.URIRef('http://jesseajohnston.net/about'), rdflib.term.URIRef('http://www.w3.org/1999/02/22-rdf-syntax-ns#type'), rdflib.term.URIRef('http://xmlns.com/foaf/0.1/Person'))\n",
      "(rdflib.term.URIRef('http://jesseajohnston.net/about'), rdflib.term.URIRef('http://xmlns.com/foaf/0.1/name'), rdflib.term.Literal('Jesse A. Johnston'))\n",
      "(rdflib.term.URIRef('http://jesseajohnston.net/about'), rdflib.term.URIRef('http://xmlns.com/foaf/0.1/mbox'), rdflib.term.URIRef('mailto:e.jajohnst@umich.edu'))\n",
      "(rdflib.term.URIRef('http://id.loc.gov/authorities/names/n79032879'), rdflib.term.URIRef('http://xmlns.com/foaf/0.1/nick'), rdflib.term.Literal('jane', lang='en'))\n",
      "(rdflib.term.URIRef('http://id.loc.gov/authorities/names/n79032879'), rdflib.term.URIRef('http://xmlns.com/foaf/0.1/mbox'), rdflib.term.URIRef('mailto:jane@austen.org'))\n"
     ]
    }
   ],
   "source": [
    "# Iterate over triples in store and print them out.\n",
    "print(\"--- printing raw triples ---\")\n",
    "for s, p, o in g:\n",
    "    print((s, p, o))"
   ]
  },
  {
   "cell_type": "code",
   "execution_count": 19,
   "metadata": {},
   "outputs": [
    {
     "name": "stdout",
     "output_type": "stream",
     "text": [
      "--- printing mboxes ---\n",
      "mailto:jane@austen.org\n",
      "mailto:e.jajohnst@umich.edu\n",
      "mailto:jajohnst@umich.edu\n"
     ]
    }
   ],
   "source": [
    "# For each foaf:Person in the store, print out their mbox property's value.\n",
    "print(\"--- printing mboxes ---\")\n",
    "for person in g.subjects(RDF.type, FOAF.Person):\n",
    "    for mbox in g.objects(person, FOAF.mbox):\n",
    "        print(mbox)\n"
   ]
  },
  {
   "cell_type": "code",
   "execution_count": 20,
   "metadata": {},
   "outputs": [],
   "source": [
    "# Bind the FOAF namespace to a prefix for more readable output\n",
    "g.bind(\"foaf\", FOAF)"
   ]
  },
  {
   "cell_type": "code",
   "execution_count": 21,
   "metadata": {},
   "outputs": [
    {
     "name": "stdout",
     "output_type": "stream",
     "text": [
      "--- printing mboxes ---\n",
      "@prefix foaf: <http://xmlns.com/foaf/0.1/> .\n",
      "@prefix xsd: <http://www.w3.org/2001/XMLSchema#> .\n",
      "\n",
      "<http://id.loc.gov/authorities/names/n79032879> a foaf:Person ;\n",
      "    foaf:mbox <mailto:jane@austen.org> ;\n",
      "    foaf:name \"Jane Austen\" ;\n",
      "    foaf:nick \"jane\"@en .\n",
      "\n",
      "<http://jesseajohnston.net/about> a foaf:Person ;\n",
      "    foaf:mbox <mailto:e.jajohnst@umich.edu>,\n",
      "        <mailto:jajohnst@umich.edu> ;\n",
      "    foaf:name \"Jesse A. Johnston\" ;\n",
      "    foaf:nick \"Jesse\"^^xsd:string .\n",
      "\n",
      "\n"
     ]
    }
   ],
   "source": [
    "# print all the data in the Notation3 format\n",
    "print(\"--- printing mboxes ---\")\n",
    "print(g.serialize(format='n3'))"
   ]
  }
 ],
 "metadata": {
  "kernelspec": {
   "display_name": "base",
   "language": "python",
   "name": "python3"
  },
  "language_info": {
   "codemirror_mode": {
    "name": "ipython",
    "version": 3
   },
   "file_extension": ".py",
   "mimetype": "text/x-python",
   "name": "python",
   "nbconvert_exporter": "python",
   "pygments_lexer": "ipython3",
   "version": "3.9.18"
  },
  "orig_nbformat": 4
 },
 "nbformat": 4,
 "nbformat_minor": 2
}
