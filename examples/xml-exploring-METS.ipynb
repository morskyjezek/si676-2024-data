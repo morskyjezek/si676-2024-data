{
 "cells": [
  {
   "cell_type": "code",
   "execution_count": 65,
   "metadata": {},
   "outputs": [],
   "source": [
    "import xml.etree.ElementTree as ET\n",
    "import requests\n",
    "from os.path import join\n",
    "\n",
    "# if using lxml for string serialisation\n",
    "from lxml import etree"
   ]
  },
  {
   "cell_type": "code",
   "execution_count": 2,
   "metadata": {},
   "outputs": [],
   "source": [
    "url = \"https://oac.cdlib.org/mets/ark:/13030/tf238nb201/?brand=oac4\""
   ]
  },
  {
   "cell_type": "code",
   "execution_count": 3,
   "metadata": {},
   "outputs": [
    {
     "data": {
      "text/plain": [
       "{'Server': 'CloudFront', 'Date': 'Mon, 25 Nov 2024 02:56:01 GMT', 'Content-Length': '0', 'Connection': 'keep-alive', 'x-amzn-waf-action': 'challenge', 'Cache-Control': 'no-store, max-age=0', 'Content-Type': 'text/html; charset=UTF-8', 'Access-Control-Allow-Origin': '*', 'Access-Control-Max-Age': '86400', 'Access-Control-Allow-Methods': 'OPTIONS,GET,POST', 'X-Cache': 'Error from cloudfront', 'Via': '1.1 b4fc286f293048277ad4f4edc41487aa.cloudfront.net (CloudFront)', 'X-Amz-Cf-Pop': 'ORD58-P10', 'X-Amz-Cf-Id': 'byyAbyPtwktwPcGiwsbefQ_xnKvweSBbmzYxRzQIWono7fXsgEYd7w=='}"
      ]
     },
     "execution_count": 3,
     "metadata": {},
     "output_type": "execute_result"
    }
   ],
   "source": [
    "r = requests.get(url)\n",
    "\n",
    "r.status_code\n",
    "r.headers"
   ]
  },
  {
   "cell_type": "markdown",
   "metadata": {},
   "source": [
    "## Parse Sample METS\n",
    "\n",
    "An OAC collection: https://oac.cdlib.org/findaid/ark:/13030/tf6b69p1kk/dsc/\n",
    "From an OAC item: https://oac.cdlib.org/ark:/13030/tf238nb201/?brand=oac4 \n",
    "\n",
    "Sample METS for the above item: https://oac.cdlib.org/mets/ark:/13030/tf238nb201/?brand=oac4 (also in course files, as linked below)"
   ]
  },
  {
   "cell_type": "code",
   "execution_count": 4,
   "metadata": {},
   "outputs": [],
   "source": [
    "mets_path = join('..','data','xml','oac_tf238nb201_mets.xml')"
   ]
  },
  {
   "cell_type": "code",
   "execution_count": 5,
   "metadata": {},
   "outputs": [],
   "source": [
    "mets_tree = ET.parse(mets_path).getroot()"
   ]
  },
  {
   "cell_type": "code",
   "execution_count": 6,
   "metadata": {},
   "outputs": [
    {
     "data": {
      "text/plain": [
       "xml.etree.ElementTree.Element"
      ]
     },
     "execution_count": 6,
     "metadata": {},
     "output_type": "execute_result"
    }
   ],
   "source": [
    "type(mets_tree)"
   ]
  },
  {
   "cell_type": "code",
   "execution_count": 7,
   "metadata": {},
   "outputs": [
    {
     "data": {
      "text/plain": [
       "'{http://www.loc.gov/METS/}mets'"
      ]
     },
     "execution_count": 7,
     "metadata": {},
     "output_type": "execute_result"
    }
   ],
   "source": [
    "mets_tree.tag"
   ]
  },
  {
   "cell_type": "code",
   "execution_count": 8,
   "metadata": {},
   "outputs": [
    {
     "data": {
      "text/plain": [
       "{'{http://www.w3.org/2001/XMLSchema-instance}schemaLocation': 'http://www.loc.gov/METS/  http://www.loc.gov/standards/mets/mets.xsd  http://www.loc.gov/standards/rights/METSRights.xsd  http://www.loc.gov/mods/v3/  http://www.loc.gov/standards/mods/v3/mods-3-4.xsd  http://www.loc.gov/mix/v10/  http://www.loc.gov/standards/mix/mix10/mix10.xsd  info:lc/xmlns/premis-v2/  http://www.loc.gov/standards/premis/premis.xsd',\n",
       " 'OBJID': 'ark:/13030/tf238nb201',\n",
       " 'LABEL': 'Cable spinning',\n",
       " 'PROFILE': 'http://www.loc.gov/mets/profiles/00000013.xml',\n",
       " 'TYPE': 'generic'}"
      ]
     },
     "execution_count": 8,
     "metadata": {},
     "output_type": "execute_result"
    }
   ],
   "source": [
    "mets_tree.attrib"
   ]
  },
  {
   "cell_type": "markdown",
   "metadata": {},
   "source": [
    "Set up namespace dictionary"
   ]
  },
  {
   "cell_type": "code",
   "execution_count": 9,
   "metadata": {},
   "outputs": [],
   "source": [
    "ns = {\n",
    "    'mets':'http://www.loc.gov/METS/', \n",
    "    'mix':'http://www.loc.gov/mix/',\n",
    "    'moa2':'http://sunsite.berkeley.edu/MOA2/',\n",
    "    'cdl':'http://www.cdlib.org/',\n",
    "    'xsi':'http://www.w3.org/2001/XMLSchema-instance',\n",
    "    'premis':'http://www.loc.gov/standards/premis/v2',\n",
    "    'xlink':'http://www.w3.org/1999/xlink',\n",
    "    'rts':'http://cosimo.stanford.edu/sdr/metsrights/',\n",
    "    'mods':'http://www.loc.gov/mods/v3'\n",
    "}"
   ]
  },
  {
   "cell_type": "markdown",
   "metadata": {},
   "source": [
    "## Explore the METS File\n",
    "\n",
    "* Find `amdSec`, `dmdSec`, `fileSec`, `structMap`\n",
    "* "
   ]
  },
  {
   "cell_type": "code",
   "execution_count": 10,
   "metadata": {},
   "outputs": [
    {
     "name": "stdout",
     "output_type": "stream",
     "text": [
      "{http://www.loc.gov/METS/}metsHdr {'CREATEDATE': '2009-05-26T02:15:02', 'LASTMODDATE': '2016-05-25T09:38:37'}\n",
      "{http://www.loc.gov/METS/}dmdSec {'ID': 'DMR1'}\n",
      "{http://www.loc.gov/METS/}dmdSec {'ID': 'DMR2'}\n",
      "{http://www.loc.gov/METS/}dmdSec {'ID': 'DM1'}\n",
      "{http://www.loc.gov/METS/}amdSec {}\n",
      "{http://www.loc.gov/METS/}fileSec {}\n",
      "{http://www.loc.gov/METS/}structMap {}\n"
     ]
    }
   ],
   "source": [
    "for element in mets_tree:\n",
    "    print(element.tag, element.attrib)"
   ]
  },
  {
   "cell_type": "code",
   "execution_count": 73,
   "metadata": {},
   "outputs": [
    {
     "name": "stdout",
     "output_type": "stream",
     "text": [
      "{http://www.loc.gov/METS/}mets\n"
     ]
    }
   ],
   "source": [
    "# to use etree .tostring, must parse with etree parse?\n",
    "mets_tree_lxml = etree.parse(mets_path).getroot()\n",
    "\n",
    "print(mets_tree_lxml.tag)"
   ]
  },
  {
   "cell_type": "markdown",
   "metadata": {},
   "source": [
    "The `structMap` is the only required element. What's in it?"
   ]
  },
  {
   "cell_type": "code",
   "execution_count": 74,
   "metadata": {},
   "outputs": [
    {
     "name": "stdout",
     "output_type": "stream",
     "text": [
      "{http://www.loc.gov/METS/}div {'TYPE': 'item', 'LABEL': 'Cable spinning', 'ADMID': 'RMD1', 'DMDID': 'DMR1 DMR2 DM1'}\n"
     ]
    }
   ],
   "source": [
    "structMap = mets_tree_lxml.find('.//mets:structMap', ns)\n",
    "\n",
    "for element in structMap:\n",
    "    print(element.tag, element.attrib)"
   ]
  },
  {
   "cell_type": "code",
   "execution_count": 75,
   "metadata": {},
   "outputs": [
    {
     "name": "stdout",
     "output_type": "stream",
     "text": [
      "<mets:structMap xmlns:mets=\"http://www.loc.gov/METS/\" xmlns=\"http://www.loc.gov/METS/\" xmlns:mix=\"http://www.loc.gov/mix/\" xmlns:moa2=\"http://sunsite.berkeley.edu/MOA2/\" xmlns:cdl=\"http://www.cdlib.org/\" xmlns:xsi=\"http://www.w3.org/2001/XMLSchema-instance\" xmlns:premis=\"http://www.loc.gov/standards/premis/v2\" xmlns:xlink=\"http://www.w3.org/1999/xlink\" xmlns:rts=\"http://cosimo.stanford.edu/sdr/metsrights/\" xmlns:mods=\"http://www.loc.gov/mods/v3\">\n",
      " <mets:div TYPE=\"item\" LABEL=\"Cable spinning\" ADMID=\"RMD1\" DMDID=\"DMR1 DMR2 DM1\">\n",
      "   <mets:div TYPE=\"image/master\"><mets:fptr FILEID=\"FID1\"/></mets:div>\n",
      "   <mets:div TYPE=\"image/thumbnail\"><mets:fptr FILEID=\"thumbnail\" cdl:X=\"192\" cdl:Y=\"128\"/></mets:div>\n",
      "   <mets:div TYPE=\"image/reference\"><mets:fptr FILEID=\"FID3\" cdl:X=\"768\" cdl:Y=\"512\"/></mets:div>\n",
      "   <mets:div TYPE=\"image/reference\"><mets:fptr FILEID=\"FID4\" cdl:X=\"1536\" cdl:Y=\"1024\"/></mets:div>\n",
      " </mets:div>\n",
      "</mets:structMap>\n",
      "\n",
      "\n",
      "\n"
     ]
    }
   ],
   "source": [
    "# display using `.tostring()`\n",
    "print(etree.tostring(structMap, encoding='utf-8', pretty_print=True).decode('utf-8'))"
   ]
  },
  {
   "cell_type": "markdown",
   "metadata": {},
   "source": [
    "* look at the metsHdr"
   ]
  },
  {
   "cell_type": "code",
   "execution_count": 77,
   "metadata": {},
   "outputs": [
    {
     "name": "stdout",
     "output_type": "stream",
     "text": [
      "<mets:metsHdr xmlns:mets=\"http://www.loc.gov/METS/\" xmlns=\"http://www.loc.gov/METS/\" xmlns:mix=\"http://www.loc.gov/mix/\" xmlns:moa2=\"http://sunsite.berkeley.edu/MOA2/\" xmlns:cdl=\"http://www.cdlib.org/\" xmlns:xsi=\"http://www.w3.org/2001/XMLSchema-instance\" xmlns:premis=\"http://www.loc.gov/standards/premis/v2\" xmlns:xlink=\"http://www.w3.org/1999/xlink\" xmlns:rts=\"http://cosimo.stanford.edu/sdr/metsrights/\" xmlns:mods=\"http://www.loc.gov/mods/v3\" CREATEDATE=\"2009-05-26T02:15:02\" LASTMODDATE=\"2016-05-25T09:38:37\">\n",
      "  <mets:agent ROLE=\"CREATOR\" TYPE=\"ORGANIZATION\">\n",
      "   <mets:name>University of California, Berkeley::Bancroft Library</mets:name>\n",
      "  </mets:agent>\n",
      "<altRecordID>http://nma.berkeley.edu/ark:/13030/tf238nb201</altRecordID></mets:metsHdr>\n",
      "\n",
      "\n",
      "\n"
     ]
    }
   ],
   "source": [
    "metsHdr = mets_tree_lxml.find('.//mets:metsHdr', ns)\n",
    "\n",
    "print(etree.tostring(metsHdr, encoding='utf-8', pretty_print=True).decode('utf-8'))"
   ]
  },
  {
   "cell_type": "markdown",
   "metadata": {},
   "source": [
    "* look at `dmdSec` (note there may be multiple)"
   ]
  },
  {
   "cell_type": "code",
   "execution_count": 78,
   "metadata": {},
   "outputs": [
    {
     "name": "stdout",
     "output_type": "stream",
     "text": [
      "found 3 dmdSecs \n",
      "\n"
     ]
    }
   ],
   "source": [
    "dmdSecs = mets_tree_lxml.findall('.//mets:dmdSec', ns)\n",
    "\n",
    "print('found',len(dmdSecs),'dmdSecs','\\n')"
   ]
  },
  {
   "cell_type": "code",
   "execution_count": 79,
   "metadata": {},
   "outputs": [
    {
     "name": "stdout",
     "output_type": "stream",
     "text": [
      "<mets:dmdSec xmlns:mets=\"http://www.loc.gov/METS/\" xmlns=\"http://www.loc.gov/METS/\" xmlns:mix=\"http://www.loc.gov/mix/\" xmlns:moa2=\"http://sunsite.berkeley.edu/MOA2/\" xmlns:cdl=\"http://www.cdlib.org/\" xmlns:xsi=\"http://www.w3.org/2001/XMLSchema-instance\" xmlns:premis=\"http://www.loc.gov/standards/premis/v2\" xmlns:xlink=\"http://www.w3.org/1999/xlink\" xmlns:rts=\"http://cosimo.stanford.edu/sdr/metsrights/\" xmlns:mods=\"http://www.loc.gov/mods/v3\" ID=\"DMR1\">\n",
      "<mets:mdRef xlink:href=\"http://oskicat.berkeley.edu/record=b10707847\" LOCTYPE=\"URL\" MDTYPE=\"MARC\" LABEL=\"Catalog Record\"/>\n",
      "</mets:dmdSec>\n",
      "\n",
      "\n",
      "\n"
     ]
    }
   ],
   "source": [
    "print(etree.tostring(dmdSecs[0], encoding='utf-8', pretty_print=True).decode('utf-8'))"
   ]
  },
  {
   "cell_type": "code",
   "execution_count": 80,
   "metadata": {},
   "outputs": [
    {
     "name": "stdout",
     "output_type": "stream",
     "text": [
      "<mets:dmdSec xmlns:mets=\"http://www.loc.gov/METS/\" xmlns=\"http://www.loc.gov/METS/\" xmlns:mix=\"http://www.loc.gov/mix/\" xmlns:moa2=\"http://sunsite.berkeley.edu/MOA2/\" xmlns:cdl=\"http://www.cdlib.org/\" xmlns:xsi=\"http://www.w3.org/2001/XMLSchema-instance\" xmlns:premis=\"http://www.loc.gov/standards/premis/v2\" xmlns:xlink=\"http://www.w3.org/1999/xlink\" xmlns:rts=\"http://cosimo.stanford.edu/sdr/metsrights/\" xmlns:mods=\"http://www.loc.gov/mods/v3\" ID=\"DMR2\">\n",
      "<mets:mdRef xlink:href=\"http://www.oac.cdlib.org/findaid/ark:/13030/tf6b69p1kk\" XPTR=\"xpointer(id('m252266534'))\" LOCTYPE=\"URL\" MDTYPE=\"EAD\" LABEL=\"Construction Photographs of the Golden Gate Bridge\"/>\n",
      "</mets:dmdSec>\n",
      "\n",
      "\n"
     ]
    }
   ],
   "source": [
    "print(etree.tostring(dmdSecs[1], encoding='utf-8').decode('utf-8'))"
   ]
  },
  {
   "cell_type": "code",
   "execution_count": 81,
   "metadata": {},
   "outputs": [
    {
     "name": "stdout",
     "output_type": "stream",
     "text": [
      "<mets:dmdSec xmlns:mets=\"http://www.loc.gov/METS/\" xmlns=\"http://www.loc.gov/METS/\" xmlns:mix=\"http://www.loc.gov/mix/\" xmlns:moa2=\"http://sunsite.berkeley.edu/MOA2/\" xmlns:cdl=\"http://www.cdlib.org/\" xmlns:xsi=\"http://www.w3.org/2001/XMLSchema-instance\" xmlns:premis=\"http://www.loc.gov/standards/premis/v2\" xmlns:xlink=\"http://www.w3.org/1999/xlink\" xmlns:rts=\"http://cosimo.stanford.edu/sdr/metsrights/\" xmlns:mods=\"http://www.loc.gov/mods/v3\" ID=\"DM1\">\n",
      " <mets:mdWrap MDTYPE=\"MODS\" LABEL=\"Cable spinning\">\n",
      "  <mets:xmlData>\n",
      "    <mods:mods><mods:titleInfo>\n",
      "      <mods:title>Cable spinning</mods:title>\n",
      "     </mods:titleInfo><mods:typeOfResource>still image</mods:typeOfResource><mods:relatedItem displayLabel=\"Metacollection\" type=\"host\">\n",
      "      <mods:titleInfo>\n",
      "       <mods:title>California Heritage Collection</mods:title>\n",
      "      </mods:titleInfo>\n",
      "      <mods:identifier type=\"uri\">http://bancroft.berkeley.edu/collections/calheritage.html</mods:identifier>\n",
      "     </mods:relatedItem><mods:relatedItem displayLabel=\"Collection\" type=\"host\">\n",
      "      <mods:titleInfo>\n",
      "       <mods:title>Construction Photographs of the Golden Gate Bridge</mods:title>\n",
      "      </mods:titleInfo>\n",
      "      <mods:identifier type=\"local\">BANC PIC 1905.14251-.14284--PIC</mods:identifier>\n",
      "      <mods:identifier type=\"uri\">http://www.oac.cdlib.org/findaid/ark:/13030/tf6b69p1kk</mods:identifier>\n",
      "     </mods:relatedItem><mods:identifier displayLabel=\"Local Call Number\" type=\"local\">BANC PIC 1905.14253:001--PIC</mods:identifier><mods:identifier type=\"filename\" displayLabel=\"Filename\">I0036656a.tif</mods:identifier><mods:location>\n",
      "    <mods:physicalLocation>The Bancroft Library;;, University of California, Berkeley, Berkeley, CA 94720-6000, Phone: (510) 642-6481, Fax: (510) 642-7589, Email: bancref@library.berkeley.edu;;, URL: http://bancroft.berkeley.edu/</mods:physicalLocation>\n",
      "   </mods:location><mods:accessCondition displayLabel=\"Copyright Note\">Some materials in these collections may be protected by the U.S. Copyright Law (Title 17, U.S.C.). In addition, the reproduction of some materials may be restricted by terms of University of California gift or purchase agreements, donor restrictions, privacy and publicity rights, licensing and trademarks. Transmission or reproduction of materials protected by copyright beyond that allowed by fair use requires the written permission of the copyright owners. Works not in the public domain cannot be commercially exploited without permission of the copyright owner. Responsibility for any use rests exclusively with the user.</mods:accessCondition>\n",
      "<mods:accessCondition displayLabel=\"Copyright Owner Note\">All requests to reproduce, publish, quote from, or otherwise use collection materials must be submitted in writing to the Head of Public Services, The Bancroft Library, University of California, Berkeley 94720-6000. See: http://bancroft.berkeley.edu/reference/permissions.html</mods:accessCondition>\n",
      "</mods:mods>\n",
      "  </mets:xmlData>\n",
      " </mets:mdWrap>\n",
      "</mets:dmdSec>\n",
      "\n",
      "\n",
      "\n"
     ]
    }
   ],
   "source": [
    "print(etree.tostring(dmdSecs[2], encoding='utf-8', pretty_print=True).decode('utf-8'))"
   ]
  },
  {
   "cell_type": "code",
   "execution_count": 82,
   "metadata": {},
   "outputs": [
    {
     "name": "stdout",
     "output_type": "stream",
     "text": [
      "<mets:dmdSec xmlns:mets=\"http://www.loc.gov/METS/\" xmlns=\"http://www.loc.gov/METS/\" xmlns:mix=\"http://www.loc.gov/mix/\" xmlns:moa2=\"http://sunsite.berkeley.edu/MOA2/\" xmlns:cdl=\"http://www.cdlib.org/\" xmlns:xsi=\"http://www.w3.org/2001/XMLSchema-instance\" xmlns:premis=\"http://www.loc.gov/standards/premis/v2\" xmlns:xlink=\"http://www.w3.org/1999/xlink\" xmlns:rts=\"http://cosimo.stanford.edu/sdr/metsrights/\" xmlns:mods=\"http://www.loc.gov/mods/v3\" ID=\"DMR1\">\n",
      "<mets:mdRef xlink:href=\"http://oskicat.berkeley.edu/record=b10707847\" LOCTYPE=\"URL\" MDTYPE=\"MARC\" LABEL=\"Catalog Record\"/>\n",
      "</mets:dmdSec>\n",
      "\n",
      "\n",
      "\n",
      "<mets:dmdSec xmlns:mets=\"http://www.loc.gov/METS/\" xmlns=\"http://www.loc.gov/METS/\" xmlns:mix=\"http://www.loc.gov/mix/\" xmlns:moa2=\"http://sunsite.berkeley.edu/MOA2/\" xmlns:cdl=\"http://www.cdlib.org/\" xmlns:xsi=\"http://www.w3.org/2001/XMLSchema-instance\" xmlns:premis=\"http://www.loc.gov/standards/premis/v2\" xmlns:xlink=\"http://www.w3.org/1999/xlink\" xmlns:rts=\"http://cosimo.stanford.edu/sdr/metsrights/\" xmlns:mods=\"http://www.loc.gov/mods/v3\" ID=\"DMR2\">\n",
      "<mets:mdRef xlink:href=\"http://www.oac.cdlib.org/findaid/ark:/13030/tf6b69p1kk\" XPTR=\"xpointer(id('m252266534'))\" LOCTYPE=\"URL\" MDTYPE=\"EAD\" LABEL=\"Construction Photographs of the Golden Gate Bridge\"/>\n",
      "</mets:dmdSec>\n",
      "\n",
      "\n",
      "\n",
      "<mets:dmdSec xmlns:mets=\"http://www.loc.gov/METS/\" xmlns=\"http://www.loc.gov/METS/\" xmlns:mix=\"http://www.loc.gov/mix/\" xmlns:moa2=\"http://sunsite.berkeley.edu/MOA2/\" xmlns:cdl=\"http://www.cdlib.org/\" xmlns:xsi=\"http://www.w3.org/2001/XMLSchema-instance\" xmlns:premis=\"http://www.loc.gov/standards/premis/v2\" xmlns:xlink=\"http://www.w3.org/1999/xlink\" xmlns:rts=\"http://cosimo.stanford.edu/sdr/metsrights/\" xmlns:mods=\"http://www.loc.gov/mods/v3\" ID=\"DM1\">\n",
      " <mets:mdWrap MDTYPE=\"MODS\" LABEL=\"Cable spinning\">\n",
      "  <mets:xmlData>\n",
      "    <mods:mods><mods:titleInfo>\n",
      "      <mods:title>Cable spinning</mods:title>\n",
      "     </mods:titleInfo><mods:typeOfResource>still image</mods:typeOfResource><mods:relatedItem displayLabel=\"Metacollection\" type=\"host\">\n",
      "      <mods:titleInfo>\n",
      "       <mods:title>California Heritage Collection</mods:title>\n",
      "      </mods:titleInfo>\n",
      "      <mods:identifier type=\"uri\">http://bancroft.berkeley.edu/collections/calheritage.html</mods:identifier>\n",
      "     </mods:relatedItem><mods:relatedItem displayLabel=\"Collection\" type=\"host\">\n",
      "      <mods:titleInfo>\n",
      "       <mods:title>Construction Photographs of the Golden Gate Bridge</mods:title>\n",
      "      </mods:titleInfo>\n",
      "      <mods:identifier type=\"local\">BANC PIC 1905.14251-.14284--PIC</mods:identifier>\n",
      "      <mods:identifier type=\"uri\">http://www.oac.cdlib.org/findaid/ark:/13030/tf6b69p1kk</mods:identifier>\n",
      "     </mods:relatedItem><mods:identifier displayLabel=\"Local Call Number\" type=\"local\">BANC PIC 1905.14253:001--PIC</mods:identifier><mods:identifier type=\"filename\" displayLabel=\"Filename\">I0036656a.tif</mods:identifier><mods:location>\n",
      "    <mods:physicalLocation>The Bancroft Library;;, University of California, Berkeley, Berkeley, CA 94720-6000, Phone: (510) 642-6481, Fax: (510) 642-7589, Email: bancref@library.berkeley.edu;;, URL: http://bancroft.berkeley.edu/</mods:physicalLocation>\n",
      "   </mods:location><mods:accessCondition displayLabel=\"Copyright Note\">Some materials in these collections may be protected by the U.S. Copyright Law (Title 17, U.S.C.). In addition, the reproduction of some materials may be restricted by terms of University of California gift or purchase agreements, donor restrictions, privacy and publicity rights, licensing and trademarks. Transmission or reproduction of materials protected by copyright beyond that allowed by fair use requires the written permission of the copyright owners. Works not in the public domain cannot be commercially exploited without permission of the copyright owner. Responsibility for any use rests exclusively with the user.</mods:accessCondition>\n",
      "<mods:accessCondition displayLabel=\"Copyright Owner Note\">All requests to reproduce, publish, quote from, or otherwise use collection materials must be submitted in writing to the Head of Public Services, The Bancroft Library, University of California, Berkeley 94720-6000. See: http://bancroft.berkeley.edu/reference/permissions.html</mods:accessCondition>\n",
      "</mods:mods>\n",
      "  </mets:xmlData>\n",
      " </mets:mdWrap>\n",
      "</mets:dmdSec>\n",
      "\n",
      "\n",
      "\n"
     ]
    }
   ],
   "source": [
    "for i in range(len(dmdSecs)):\n",
    "    print(etree.tostring(dmdSecs[i], encoding='utf-8', pretty_print=True).decode('utf-8'))"
   ]
  },
  {
   "cell_type": "code",
   "execution_count": 83,
   "metadata": {},
   "outputs": [
    {
     "name": "stdout",
     "output_type": "stream",
     "text": [
      "1\n"
     ]
    }
   ],
   "source": [
    "amdSecs = mets_tree_lxml.findall('.//mets:amdSec', ns)\n",
    "\n",
    "print(len(amdSecs))"
   ]
  },
  {
   "cell_type": "code",
   "execution_count": 84,
   "metadata": {},
   "outputs": [
    {
     "name": "stdout",
     "output_type": "stream",
     "text": [
      "<mets:amdSec xmlns:mets=\"http://www.loc.gov/METS/\" xmlns=\"http://www.loc.gov/METS/\" xmlns:mix=\"http://www.loc.gov/mix/\" xmlns:moa2=\"http://sunsite.berkeley.edu/MOA2/\" xmlns:cdl=\"http://www.cdlib.org/\" xmlns:xsi=\"http://www.w3.org/2001/XMLSchema-instance\" xmlns:premis=\"http://www.loc.gov/standards/premis/v2\" xmlns:xlink=\"http://www.w3.org/1999/xlink\" xmlns:rts=\"http://cosimo.stanford.edu/sdr/metsrights/\" xmlns:mods=\"http://www.loc.gov/mods/v3\">\n",
      "\n",
      " <mets:techMD ID=\"ADM1\">\n",
      "  <mets:mdWrap MDTYPE=\"NISOIMG\">\n",
      "   <mets:xmlData>\n",
      "    <mix:mix xmlns:mix=\"http://www.loc.gov/mix/v10\">\n",
      "\n",
      "     <mix:BasicDigitalObjectInformation>\n",
      "       <mix:FormatDesignation>\n",
      "   <mix:formatName>image/tiff</mix:formatName>\n",
      "       </mix:FormatDesignation>\n",
      "     </mix:BasicDigitalObjectInformation>\n",
      "\n",
      "    </mix:mix>\n",
      "   </mets:xmlData>\n",
      "  </mets:mdWrap>\n",
      " </mets:techMD>\n",
      "\n",
      " <mets:techMD ID=\"ADM2\">\n",
      "  <mets:mdWrap MDTYPE=\"NISOIMG\">\n",
      "   <mets:xmlData>\n",
      "    <mix:mix xmlns:mix=\"http://www.loc.gov/mix/v10\">\n",
      "\n",
      "     <mix:BasicDigitalObjectInformation>\n",
      "       <mix:FormatDesignation>\n",
      "   <mix:formatName>image/gif</mix:formatName> \n",
      "       </mix:FormatDesignation>\n",
      "       <mix:Compression>\n",
      "   <mix:compressionScheme>LZW</mix:compressionScheme>\n",
      "       </mix:Compression>\n",
      "     </mix:BasicDigitalObjectInformation>\n",
      "     <mix:BasicImageInformation>\n",
      "       <mix:BasicImageCharacteristics>\n",
      "   <mix:PhotometricInterpretation>\n",
      "     <mix:colorSpace>PaletteColor</mix:colorSpace>\n",
      "   </mix:PhotometricInterpretation>\n",
      "       </mix:BasicImageCharacteristics>\n",
      "     </mix:BasicImageInformation>\n",
      "     <mix:ImageAssessmentMetadata>\n",
      "       <mix:ImageColorEncoding>\n",
      "   <mix:bitsPerSample>\n",
      "     <mix:bitsPerSampleValue>8</mix:bitsPerSampleValue>\n",
      "     <mix:bitsPerSampleUnit>integer</mix:bitsPerSampleUnit>\n",
      "   </mix:bitsPerSample>\n",
      "   <mix:samplesPerPixel>1</mix:samplesPerPixel>\n",
      "       </mix:ImageColorEncoding>\n",
      "     </mix:ImageAssessmentMetadata>\n",
      "\n",
      "    </mix:mix>\n",
      "   </mets:xmlData>\n",
      "  </mets:mdWrap>\n",
      " </mets:techMD>\n",
      "\n",
      " <mets:techMD ID=\"ADM3\">\n",
      "  <mets:mdWrap MDTYPE=\"NISOIMG\">\n",
      "   <mets:xmlData>\n",
      "    <mix:mix xmlns:mix=\"http://www.loc.gov/mix/v10\">\n",
      "\n",
      "     <mix:BasicDigitalObjectInformation>\n",
      "       <mix:FormatDesignation>\n",
      "   <mix:formatName>image/jpeg</mix:formatName> \n",
      "       </mix:FormatDesignation>\n",
      "       <mix:Compression>\n",
      "   <mix:compressionScheme>JPEG Baseline Sequential</mix:compressionScheme>\n",
      "       </mix:Compression>\n",
      "     </mix:BasicDigitalObjectInformation>\n",
      "     <mix:BasicImageInformation>\n",
      "       <mix:BasicImageCharacteristics>\n",
      "   <mix:PhotometricInterpretation>\n",
      "     <mix:colorSpace>YCbCr</mix:colorSpace>\n",
      "   </mix:PhotometricInterpretation>\n",
      "       </mix:BasicImageCharacteristics>\n",
      "     </mix:BasicImageInformation>\n",
      "     <mix:ImageAssessmentMetadata>\n",
      "       <mix:ImageColorEncoding>\n",
      "   <mix:bitsPerSample>\n",
      "     <mix:bitsPerSampleValue>8,8,8</mix:bitsPerSampleValue>\n",
      "     <mix:bitsPerSampleUnit>integer</mix:bitsPerSampleUnit>\n",
      "   </mix:bitsPerSample>\n",
      "   <mix:samplesPerPixel>3</mix:samplesPerPixel>\n",
      "       </mix:ImageColorEncoding>\n",
      "     </mix:ImageAssessmentMetadata>\n",
      "\n",
      "    </mix:mix>\n",
      "   </mets:xmlData>\n",
      "  </mets:mdWrap>\n",
      " </mets:techMD>\n",
      "\n",
      " <mets:techMD ID=\"ADM4\">\n",
      "  <mets:mdWrap MDTYPE=\"NISOIMG\">\n",
      "   <mets:xmlData>\n",
      "    <mix:mix xmlns:mix=\"http://www.loc.gov/mix/v10\">\n",
      "     <mix:BasicDigitalObjectInformation>\n",
      "       <mix:ObjectIdentifier>\n",
      "   <mix:objectIdentifierType>ark</mix:objectIdentifierType>\n",
      "   <mix:objectIdentifierValue>ark:/28722/bk000556f23</mix:objectIdentifierValue>\n",
      "       </mix:ObjectIdentifier>\n",
      "     </mix:BasicDigitalObjectInformation>\n",
      "     <mix:BasicImageInformation>\n",
      "       <mix:BasicImageCharacteristics>\n",
      "       </mix:BasicImageCharacteristics>\n",
      "     </mix:BasicImageInformation>\n",
      "     <mix:ImageCaptureMetadata>\n",
      "       <mix:SourceInformation>\n",
      "   <mix:sourceType>still image/item</mix:sourceType>\n",
      "   <mix:SourceID>\n",
      "     <mix:sourceIDType>Local identifier</mix:sourceIDType>\n",
      "     <mix:sourceIDValue>BANC PIC 1905.14253:001--PIC</mix:sourceIDValue>\n",
      "   </mix:SourceID>\n",
      "       </mix:SourceInformation>\n",
      "       <mix:GeneralCaptureInformation>\n",
      "   <mix:dateTimeCreated>2009-05-06</mix:dateTimeCreated>\n",
      "       </mix:GeneralCaptureInformation>\n",
      "     </mix:ImageCaptureMetadata>\n",
      "    </mix:mix>\n",
      "   </mets:xmlData>\n",
      "  </mets:mdWrap>\n",
      " </mets:techMD>\n",
      "\n",
      " <mets:techMD ID=\"ADM5\">\n",
      "  <mets:mdWrap MDTYPE=\"NISOIMG\">\n",
      "   <mets:xmlData>\n",
      "    <mix:mix xmlns:mix=\"http://www.loc.gov/mix/v10\">\n",
      "     <mix:BasicDigitalObjectInformation>\n",
      "       <mix:ObjectIdentifier>\n",
      "   <mix:objectIdentifierType>ark</mix:objectIdentifierType>\n",
      "   <mix:objectIdentifierValue>ark:/28722/bk000556f3n</mix:objectIdentifierValue>\n",
      "       </mix:ObjectIdentifier>\n",
      "     </mix:BasicDigitalObjectInformation>\n",
      "     <mix:BasicImageInformation>\n",
      "       <mix:BasicImageCharacteristics>\n",
      "   <mix:imageWidth>192</mix:imageWidth>\n",
      "   <mix:imageHeight>128</mix:imageHeight>\n",
      "       </mix:BasicImageCharacteristics>\n",
      "     </mix:BasicImageInformation>\n",
      "     <mix:ChangeHistory>\n",
      "       <mix:ImageProcessing>\n",
      "   <mix:dateTimeProcessed>2009-05-06</mix:dateTimeProcessed>\n",
      "   <mix:sourceData>http://nma.berkeley.edu/ark:/28722/bk000556f23</mix:sourceData>\n",
      "       </mix:ImageProcessing>\n",
      "     </mix:ChangeHistory>\n",
      "    </mix:mix>\n",
      "   </mets:xmlData>\n",
      "  </mets:mdWrap>\n",
      " </mets:techMD>\n",
      "\n",
      " <mets:techMD ID=\"ADM6\">\n",
      "  <mets:mdWrap MDTYPE=\"NISOIMG\">\n",
      "   <mets:xmlData>\n",
      "    <mix:mix xmlns:mix=\"http://www.loc.gov/mix/v10\">\n",
      "     <mix:BasicDigitalObjectInformation>\n",
      "       <mix:ObjectIdentifier>\n",
      "   <mix:objectIdentifierType>ark</mix:objectIdentifierType>\n",
      "   <mix:objectIdentifierValue>ark:/28722/bk000556f46</mix:objectIdentifierValue>\n",
      "       </mix:ObjectIdentifier>\n",
      "     </mix:BasicDigitalObjectInformation>\n",
      "     <mix:BasicImageInformation>\n",
      "       <mix:BasicImageCharacteristics>\n",
      "   <mix:imageWidth>768</mix:imageWidth>\n",
      "   <mix:imageHeight>512</mix:imageHeight>\n",
      "       </mix:BasicImageCharacteristics>\n",
      "     </mix:BasicImageInformation>\n",
      "     <mix:ChangeHistory>\n",
      "       <mix:ImageProcessing>\n",
      "   <mix:dateTimeProcessed>2009-05-06</mix:dateTimeProcessed>\n",
      "   <mix:sourceData>http://nma.berkeley.edu/ark:/28722/bk000556f23</mix:sourceData>\n",
      "       </mix:ImageProcessing>\n",
      "     </mix:ChangeHistory>\n",
      "    </mix:mix>\n",
      "   </mets:xmlData>\n",
      "  </mets:mdWrap>\n",
      " </mets:techMD>\n",
      "\n",
      " <mets:techMD ID=\"ADM7\">\n",
      "  <mets:mdWrap MDTYPE=\"NISOIMG\">\n",
      "   <mets:xmlData>\n",
      "    <mix:mix xmlns:mix=\"http://www.loc.gov/mix/v10\">\n",
      "     <mix:BasicDigitalObjectInformation>\n",
      "       <mix:ObjectIdentifier>\n",
      "   <mix:objectIdentifierType>ark</mix:objectIdentifierType>\n",
      "   <mix:objectIdentifierValue>ark:/28722/bk000556f5r</mix:objectIdentifierValue>\n",
      "       </mix:ObjectIdentifier>\n",
      "     </mix:BasicDigitalObjectInformation>\n",
      "     <mix:BasicImageInformation>\n",
      "       <mix:BasicImageCharacteristics>\n",
      "   <mix:imageWidth>1536</mix:imageWidth>\n",
      "   <mix:imageHeight>1024</mix:imageHeight>\n",
      "       </mix:BasicImageCharacteristics>\n",
      "     </mix:BasicImageInformation>\n",
      "     <mix:ChangeHistory>\n",
      "       <mix:ImageProcessing>\n",
      "   <mix:dateTimeProcessed>2009-05-06</mix:dateTimeProcessed>\n",
      "   <mix:sourceData>http://nma.berkeley.edu/ark:/28722/bk000556f23</mix:sourceData>\n",
      "       </mix:ImageProcessing>\n",
      "     </mix:ChangeHistory>\n",
      "    </mix:mix>\n",
      "   </mets:xmlData>\n",
      "  </mets:mdWrap>\n",
      " </mets:techMD>\n",
      "\n",
      " <mets:rightsMD ID=\"RMD1\">\n",
      "  <mets:mdWrap MDTYPE=\"OTHER\" OTHERMDTYPE=\"METSRights\">\n",
      "   <mets:xmlData>\n",
      "    <rts:RightsDeclarationMD RIGHTSCATEGORY=\"OTHER\" OTHERCATEGORYTYPE=\"UNKNOWN\">\n",
      "     <rts:RightsHolder>\n",
      "      <rts:RightsHolderComments>All requests to reproduce, publish, quote from, or otherwise use collection materials must be submitted in writing to the Head of Public Services, The Bancroft Library, University of California, Berkeley 94720-6000. See: http://bancroft.berkeley.edu/reference/permissions.html</rts:RightsHolderComments>\n",
      "     </rts:RightsHolder>\n",
      "     <rts:Context CONTEXTCLASS=\"GENERAL PUBLIC\">\n",
      "      <rts:Constraints>\n",
      "       <rts:ConstraintDescription>Some materials in these collections may be protected by the U.S. Copyright Law (Title 17, U.S.C.). In addition, the reproduction of some materials may be restricted by terms of University of California gift or purchase agreements, donor restrictions, privacy and publicity rights, licensing and trademarks. Transmission or reproduction of materials protected by copyright beyond that allowed by fair use requires the written permission of the copyright owners. Works not in the public domain cannot be commercially exploited without permission of the copyright owner. Responsibility for any use rests exclusively with the user.</rts:ConstraintDescription>\n",
      "      </rts:Constraints>\n",
      "     </rts:Context>\n",
      "    </rts:RightsDeclarationMD>\n",
      "\n",
      "   </mets:xmlData>\n",
      "  </mets:mdWrap>\n",
      " </mets:rightsMD>\n",
      "\n",
      "</mets:amdSec>\n",
      "\n",
      "\n",
      "\n"
     ]
    }
   ],
   "source": [
    "for i in range(len(amdSecs)):\n",
    "    print(etree.tostring(amdSecs[i], encoding='utf-8', pretty_print=True).decode('utf-8'))"
   ]
  },
  {
   "cell_type": "markdown",
   "metadata": {},
   "source": [
    "* exploring `fileSec`"
   ]
  },
  {
   "cell_type": "code",
   "execution_count": 45,
   "metadata": {},
   "outputs": [
    {
     "name": "stdout",
     "output_type": "stream",
     "text": [
      "1\n"
     ]
    }
   ],
   "source": [
    "fileSecs = mets_tree.findall('.//mets:fileSec', ns)\n",
    "\n",
    "print(len(fileSecs))"
   ]
  },
  {
   "cell_type": "code",
   "execution_count": 46,
   "metadata": {},
   "outputs": [
    {
     "name": "stdout",
     "output_type": "stream",
     "text": [
      "<ns0:fileSec xmlns:ns0=\"http://www.loc.gov/METS/\" xmlns:ns1=\"http://www.w3.org/1999/xlink\">\n",
      "\n",
      " <ns0:fileGrp USE=\"image/master\">\n",
      "   <ns0:file ID=\"FID1\" MIMETYPE=\"image/tiff\" SEQ=\"1\" CREATED=\"2009-05-06T15:54:51.77\" ADMID=\"ADM1 ADM4\" GROUPID=\"GID1\">\n",
      "    <ns0:FLocat ns1:href=\"http://nma.berkeley.edu/ark:/28722/bk000556f23\" LOCTYPE=\"URL\" />\n",
      "   </ns0:file>\n",
      " </ns0:fileGrp>\n",
      "\n",
      " <ns0:fileGrp USE=\"image/thumbnail\">\n",
      "   <ns0:file ID=\"thumbnail\" MIMETYPE=\"image/gif\" SEQ=\"1\" CREATED=\"2009-05-06T15:54:51.77\" ADMID=\"ADM2\" GROUPID=\"GID1\" SIZE=\"19839\" CHECKSUM=\"69d9fcbe6345176db779b7ff7b5ecd6e5bcd8bc8\" CHECKSUMTYPE=\"SHA-256\">\n",
      "    <ns0:FLocat ns1:href=\"http://content.cdlib.org/dynaxml/data/13030/01/tf238nb201/files/tf238nb201-FID2.gif\" /><ns0:FLocat ns1:href=\"http://nma.berkeley.edu/ark:/28722/bk000556f3n\" LOCTYPE=\"URL\" />\n",
      "   </ns0:file>\n",
      " </ns0:fileGrp>\n",
      "\n",
      " <ns0:fileGrp USE=\"image/reference\">\n",
      "   <ns0:file ID=\"FID3\" MIMETYPE=\"image/jpeg\" SEQ=\"1\" CREATED=\"2009-05-06T15:54:51.787\" ADMID=\"ADM3\" GROUPID=\"GID1\" SIZE=\"44099\" CHECKSUM=\"d3d2ce953205f9de8618f18b934e12af2920a119\" CHECKSUMTYPE=\"SHA-256\">\n",
      "    <ns0:FLocat ns1:href=\"http://content.cdlib.org/dynaxml/data/13030/01/tf238nb201/files/tf238nb201-FID3.jpg\" /><ns0:FLocat ns1:href=\"http://nma.berkeley.edu/ark:/28722/bk000556f46\" LOCTYPE=\"URL\" />\n",
      "   </ns0:file>\n",
      " </ns0:fileGrp>\n",
      "\n",
      " <ns0:fileGrp USE=\"image/reference\">\n",
      "   <ns0:file ID=\"FID4\" MIMETYPE=\"image/jpeg\" SEQ=\"1\" CREATED=\"2009-05-06T15:54:51.8\" ADMID=\"ADM3\" GROUPID=\"GID1\" SIZE=\"162167\" CHECKSUM=\"43c50f91bb6b1f45f4bc35a123f3a435b3ea7277\" CHECKSUMTYPE=\"SHA-256\">\n",
      "    <ns0:FLocat ns1:href=\"http://content.cdlib.org/dynaxml/data/13030/01/tf238nb201/files/tf238nb201-FID4.jpg\" /><ns0:FLocat ns1:href=\"http://nma.berkeley.edu/ark:/28722/bk000556f5r\" LOCTYPE=\"URL\" />\n",
      "   </ns0:file>\n",
      " </ns0:fileGrp>\n",
      "\n",
      "</ns0:fileSec>\n",
      "\n",
      "\n"
     ]
    }
   ],
   "source": [
    "print(ET.tostring(fileSecs[0], encoding='utf-8').decode('utf-8'))"
   ]
  },
  {
   "cell_type": "markdown",
   "metadata": {},
   "source": [
    "* find everything with ID \"FID1\""
   ]
  },
  {
   "cell_type": "code",
   "execution_count": 64,
   "metadata": {},
   "outputs": [
    {
     "name": "stdout",
     "output_type": "stream",
     "text": [
      "{http://www.loc.gov/METS/}file {'ID': 'FID1', 'MIMETYPE': 'image/tiff', 'SEQ': '1', 'CREATED': '2009-05-06T15:54:51.77', 'ADMID': 'ADM1 ADM4', 'GROUPID': 'GID1'}\n"
     ]
    }
   ],
   "source": [
    "fileID1 = mets_tree.findall('.//*[@ID=\"FID1\"]', ns)\n",
    "\n",
    "for ref in fileID1:\n",
    "    print(ref.tag, ref.attrib)"
   ]
  },
  {
   "cell_type": "markdown",
   "metadata": {},
   "source": [
    "* find all of the MODS fields"
   ]
  },
  {
   "cell_type": "code",
   "execution_count": 14,
   "metadata": {},
   "outputs": [
    {
     "name": "stdout",
     "output_type": "stream",
     "text": [
      "{http://www.loc.gov/mods/v3}mods {} \n",
      " None\n",
      "{http://www.loc.gov/mods/v3}titleInfo {} \n",
      " \n",
      "      \n",
      "{http://www.loc.gov/mods/v3}title {} \n",
      " Cable spinning\n",
      "{http://www.loc.gov/mods/v3}typeOfResource {} \n",
      " still image\n",
      "{http://www.loc.gov/mods/v3}relatedItem {'displayLabel': 'Metacollection', 'type': 'host'} \n",
      " \n",
      "      \n",
      "{http://www.loc.gov/mods/v3}titleInfo {} \n",
      " \n",
      "       \n",
      "{http://www.loc.gov/mods/v3}title {} \n",
      " California Heritage Collection\n",
      "{http://www.loc.gov/mods/v3}identifier {'type': 'uri'} \n",
      " http://bancroft.berkeley.edu/collections/calheritage.html\n",
      "{http://www.loc.gov/mods/v3}relatedItem {'displayLabel': 'Collection', 'type': 'host'} \n",
      " \n",
      "      \n",
      "{http://www.loc.gov/mods/v3}titleInfo {} \n",
      " \n",
      "       \n",
      "{http://www.loc.gov/mods/v3}title {} \n",
      " Construction Photographs of the Golden Gate Bridge\n",
      "{http://www.loc.gov/mods/v3}identifier {'type': 'local'} \n",
      " BANC PIC 1905.14251-.14284--PIC\n",
      "{http://www.loc.gov/mods/v3}identifier {'type': 'uri'} \n",
      " http://www.oac.cdlib.org/findaid/ark:/13030/tf6b69p1kk\n",
      "{http://www.loc.gov/mods/v3}identifier {'displayLabel': 'Local Call Number', 'type': 'local'} \n",
      " BANC PIC 1905.14253:001--PIC\n",
      "{http://www.loc.gov/mods/v3}identifier {'type': 'filename', 'displayLabel': 'Filename'} \n",
      " I0036656a.tif\n",
      "{http://www.loc.gov/mods/v3}location {} \n",
      " \n",
      "    \n",
      "{http://www.loc.gov/mods/v3}physicalLocation {} \n",
      " The Bancroft Library;;, University of California, Berkeley, Berkeley, CA 94720-6000, Phone: (510) 642-6481, Fax: (510) 642-7589, Email: bancref@library.berkeley.edu;;, URL: http://bancroft.berkeley.edu/\n",
      "{http://www.loc.gov/mods/v3}accessCondition {'displayLabel': 'Copyright Note'} \n",
      " Some materials in these collections may be protected by the U.S. Copyright Law (Title 17, U.S.C.). In addition, the reproduction of some materials may be restricted by terms of University of California gift or purchase agreements, donor restrictions, privacy and publicity rights, licensing and trademarks. Transmission or reproduction of materials protected by copyright beyond that allowed by fair use requires the written permission of the copyright owners. Works not in the public domain cannot be commercially exploited without permission of the copyright owner. Responsibility for any use rests exclusively with the user.\n",
      "{http://www.loc.gov/mods/v3}accessCondition {'displayLabel': 'Copyright Owner Note'} \n",
      " All requests to reproduce, publish, quote from, or otherwise use collection materials must be submitted in writing to the Head of Public Services, The Bancroft Library, University of California, Berkeley 94720-6000. See: http://bancroft.berkeley.edu/reference/permissions.html\n"
     ]
    }
   ],
   "source": [
    "mods = mets_tree.findall('.//mods:*', namespaces=ns)\n",
    "\n",
    "for element in mods:\n",
    "    print(element.tag, element.attrib, '\\n', element.text)"
   ]
  }
 ],
 "metadata": {
  "kernelspec": {
   "display_name": "base",
   "language": "python",
   "name": "python3"
  },
  "language_info": {
   "codemirror_mode": {
    "name": "ipython",
    "version": 3
   },
   "file_extension": ".py",
   "mimetype": "text/x-python",
   "name": "python",
   "nbconvert_exporter": "python",
   "pygments_lexer": "ipython3",
   "version": "3.9.18"
  }
 },
 "nbformat": 4,
 "nbformat_minor": 2
}
