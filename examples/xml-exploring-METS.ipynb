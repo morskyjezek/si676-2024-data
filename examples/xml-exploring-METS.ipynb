{
 "cells": [
  {
   "cell_type": "code",
   "execution_count": 1,
   "metadata": {},
   "outputs": [],
   "source": [
    "import xml.etree.ElementTree as ET\n",
    "import requests\n",
    "from os.path import join"
   ]
  },
  {
   "cell_type": "code",
   "execution_count": 2,
   "metadata": {},
   "outputs": [],
   "source": [
    "url = \"https://oac.cdlib.org/mets/ark:/13030/tf238nb201/?brand=oac4\""
   ]
  },
  {
   "cell_type": "code",
   "execution_count": 3,
   "metadata": {},
   "outputs": [
    {
     "data": {
      "text/plain": [
       "{'Server': 'CloudFront', 'Date': 'Mon, 25 Nov 2024 02:56:01 GMT', 'Content-Length': '0', 'Connection': 'keep-alive', 'x-amzn-waf-action': 'challenge', 'Cache-Control': 'no-store, max-age=0', 'Content-Type': 'text/html; charset=UTF-8', 'Access-Control-Allow-Origin': '*', 'Access-Control-Max-Age': '86400', 'Access-Control-Allow-Methods': 'OPTIONS,GET,POST', 'X-Cache': 'Error from cloudfront', 'Via': '1.1 b4fc286f293048277ad4f4edc41487aa.cloudfront.net (CloudFront)', 'X-Amz-Cf-Pop': 'ORD58-P10', 'X-Amz-Cf-Id': 'byyAbyPtwktwPcGiwsbefQ_xnKvweSBbmzYxRzQIWono7fXsgEYd7w=='}"
      ]
     },
     "execution_count": 3,
     "metadata": {},
     "output_type": "execute_result"
    }
   ],
   "source": [
    "r = requests.get(url)\n",
    "\n",
    "r.status_code\n",
    "r.headers"
   ]
  },
  {
   "cell_type": "markdown",
   "metadata": {},
   "source": [
    "## Parse Sample METS\n",
    "\n",
    "An OAC collection: https://oac.cdlib.org/findaid/ark:/13030/tf6b69p1kk/dsc/\n",
    "From an OAC item: https://oac.cdlib.org/ark:/13030/tf238nb201/?brand=oac4 \n",
    "\n",
    "Sample METS for the above item: https://oac.cdlib.org/mets/ark:/13030/tf238nb201/?brand=oac4 (also in course files, as linked below)"
   ]
  },
  {
   "cell_type": "code",
   "execution_count": 4,
   "metadata": {},
   "outputs": [],
   "source": [
    "mets_path = join('..','data','xml','oac_tf238nb201_mets.xml')"
   ]
  },
  {
   "cell_type": "code",
   "execution_count": 5,
   "metadata": {},
   "outputs": [],
   "source": [
    "mets_tree = ET.parse(mets_path).getroot()"
   ]
  },
  {
   "cell_type": "code",
   "execution_count": 6,
   "metadata": {},
   "outputs": [
    {
     "data": {
      "text/plain": [
       "xml.etree.ElementTree.Element"
      ]
     },
     "execution_count": 6,
     "metadata": {},
     "output_type": "execute_result"
    }
   ],
   "source": [
    "type(mets_tree)"
   ]
  },
  {
   "cell_type": "code",
   "execution_count": 7,
   "metadata": {},
   "outputs": [
    {
     "data": {
      "text/plain": [
       "'{http://www.loc.gov/METS/}mets'"
      ]
     },
     "execution_count": 7,
     "metadata": {},
     "output_type": "execute_result"
    }
   ],
   "source": [
    "mets_tree.tag"
   ]
  },
  {
   "cell_type": "code",
   "execution_count": 8,
   "metadata": {},
   "outputs": [
    {
     "data": {
      "text/plain": [
       "{'{http://www.w3.org/2001/XMLSchema-instance}schemaLocation': 'http://www.loc.gov/METS/  http://www.loc.gov/standards/mets/mets.xsd  http://www.loc.gov/standards/rights/METSRights.xsd  http://www.loc.gov/mods/v3/  http://www.loc.gov/standards/mods/v3/mods-3-4.xsd  http://www.loc.gov/mix/v10/  http://www.loc.gov/standards/mix/mix10/mix10.xsd  info:lc/xmlns/premis-v2/  http://www.loc.gov/standards/premis/premis.xsd',\n",
       " 'OBJID': 'ark:/13030/tf238nb201',\n",
       " 'LABEL': 'Cable spinning',\n",
       " 'PROFILE': 'http://www.loc.gov/mets/profiles/00000013.xml',\n",
       " 'TYPE': 'generic'}"
      ]
     },
     "execution_count": 8,
     "metadata": {},
     "output_type": "execute_result"
    }
   ],
   "source": [
    "mets_tree.attrib"
   ]
  },
  {
   "cell_type": "markdown",
   "metadata": {},
   "source": [
    "Set up namespace dictionary"
   ]
  },
  {
   "cell_type": "code",
   "execution_count": 9,
   "metadata": {},
   "outputs": [],
   "source": [
    "ns = {\n",
    "    'mets':'http://www.loc.gov/METS/', \n",
    "    'mix':'http://www.loc.gov/mix/',\n",
    "    'moa2':'http://sunsite.berkeley.edu/MOA2/',\n",
    "    'cdl':'http://www.cdlib.org/',\n",
    "    'xsi':'http://www.w3.org/2001/XMLSchema-instance',\n",
    "    'premis':'http://www.loc.gov/standards/premis/v2',\n",
    "    'xlink':'http://www.w3.org/1999/xlink',\n",
    "    'rts':'http://cosimo.stanford.edu/sdr/metsrights/',\n",
    "    'mods':'http://www.loc.gov/mods/v3'\n",
    "}"
   ]
  },
  {
   "cell_type": "markdown",
   "metadata": {},
   "source": [
    "## Explore the METS File\n",
    "\n",
    "* Find `amdSec`, `dmdSec`, `fileSec`, `structMap`\n",
    "* "
   ]
  },
  {
   "cell_type": "code",
   "execution_count": 10,
   "metadata": {},
   "outputs": [
    {
     "name": "stdout",
     "output_type": "stream",
     "text": [
      "{http://www.loc.gov/METS/}metsHdr {'CREATEDATE': '2009-05-26T02:15:02', 'LASTMODDATE': '2016-05-25T09:38:37'}\n",
      "{http://www.loc.gov/METS/}dmdSec {'ID': 'DMR1'}\n",
      "{http://www.loc.gov/METS/}dmdSec {'ID': 'DMR2'}\n",
      "{http://www.loc.gov/METS/}dmdSec {'ID': 'DM1'}\n",
      "{http://www.loc.gov/METS/}amdSec {}\n",
      "{http://www.loc.gov/METS/}fileSec {}\n",
      "{http://www.loc.gov/METS/}structMap {}\n"
     ]
    }
   ],
   "source": [
    "for element in mets_tree:\n",
    "    print(element.tag, element.attrib)"
   ]
  },
  {
   "cell_type": "markdown",
   "metadata": {},
   "source": [
    "The `structMap` is the only required element. What's in it?"
   ]
  },
  {
   "cell_type": "code",
   "execution_count": 11,
   "metadata": {},
   "outputs": [
    {
     "name": "stdout",
     "output_type": "stream",
     "text": [
      "{http://www.loc.gov/METS/}div {'TYPE': 'item', 'LABEL': 'Cable spinning', 'ADMID': 'RMD1', 'DMDID': 'DMR1 DMR2 DM1'}\n"
     ]
    }
   ],
   "source": [
    "structMap = mets_tree.find('.//mets:structMap', ns)\n",
    "\n",
    "for element in structMap:\n",
    "    print(element.tag, element.attrib)"
   ]
  },
  {
   "cell_type": "code",
   "execution_count": 12,
   "metadata": {},
   "outputs": [
    {
     "name": "stdout",
     "output_type": "stream",
     "text": [
      "b'<ns0:structMap xmlns:ns0=\"http://www.loc.gov/METS/\" xmlns:ns1=\"http://www.cdlib.org/\">\\n <ns0:div TYPE=\"item\" LABEL=\"Cable spinning\" ADMID=\"RMD1\" DMDID=\"DMR1 DMR2 DM1\">\\n   <ns0:div TYPE=\"image/master\"><ns0:fptr FILEID=\"FID1\" /></ns0:div>\\n   <ns0:div TYPE=\"image/thumbnail\"><ns0:fptr FILEID=\"thumbnail\" ns1:X=\"192\" ns1:Y=\"128\" /></ns0:div>\\n   <ns0:div TYPE=\"image/reference\"><ns0:fptr FILEID=\"FID3\" ns1:X=\"768\" ns1:Y=\"512\" /></ns0:div>\\n   <ns0:div TYPE=\"image/reference\"><ns0:fptr FILEID=\"FID4\" ns1:X=\"1536\" ns1:Y=\"1024\" /></ns0:div>\\n </ns0:div>\\n</ns0:structMap>\\n\\n'\n"
     ]
    }
   ],
   "source": [
    "# display using `.tostring()`\n",
    "print(ET.tostring(structMap))"
   ]
  },
  {
   "cell_type": "markdown",
   "metadata": {},
   "source": [
    "* look at the metsHdr"
   ]
  },
  {
   "cell_type": "code",
   "execution_count": 13,
   "metadata": {},
   "outputs": [
    {
     "name": "stdout",
     "output_type": "stream",
     "text": [
      "b'<ns0:metsHdr xmlns:ns0=\"http://www.loc.gov/METS/\" CREATEDATE=\"2009-05-26T02:15:02\" LASTMODDATE=\"2016-05-25T09:38:37\">\\n  <ns0:agent ROLE=\"CREATOR\" TYPE=\"ORGANIZATION\">\\n   <ns0:name>University of California, Berkeley::Bancroft Library</ns0:name>\\n  </ns0:agent>\\n<ns0:altRecordID>http://nma.berkeley.edu/ark:/13030/tf238nb201</ns0:altRecordID></ns0:metsHdr>\\n\\n'\n"
     ]
    }
   ],
   "source": [
    "metsHdr = mets_tree.find('.//mets:metsHdr', ns)\n",
    "\n",
    "print(ET.tostring(metsHdr))"
   ]
  },
  {
   "cell_type": "markdown",
   "metadata": {},
   "source": [
    "* find all of the MODS fields"
   ]
  },
  {
   "cell_type": "code",
   "execution_count": 14,
   "metadata": {},
   "outputs": [
    {
     "name": "stdout",
     "output_type": "stream",
     "text": [
      "{http://www.loc.gov/mods/v3}mods {} \n",
      " None\n",
      "{http://www.loc.gov/mods/v3}titleInfo {} \n",
      " \n",
      "      \n",
      "{http://www.loc.gov/mods/v3}title {} \n",
      " Cable spinning\n",
      "{http://www.loc.gov/mods/v3}typeOfResource {} \n",
      " still image\n",
      "{http://www.loc.gov/mods/v3}relatedItem {'displayLabel': 'Metacollection', 'type': 'host'} \n",
      " \n",
      "      \n",
      "{http://www.loc.gov/mods/v3}titleInfo {} \n",
      " \n",
      "       \n",
      "{http://www.loc.gov/mods/v3}title {} \n",
      " California Heritage Collection\n",
      "{http://www.loc.gov/mods/v3}identifier {'type': 'uri'} \n",
      " http://bancroft.berkeley.edu/collections/calheritage.html\n",
      "{http://www.loc.gov/mods/v3}relatedItem {'displayLabel': 'Collection', 'type': 'host'} \n",
      " \n",
      "      \n",
      "{http://www.loc.gov/mods/v3}titleInfo {} \n",
      " \n",
      "       \n",
      "{http://www.loc.gov/mods/v3}title {} \n",
      " Construction Photographs of the Golden Gate Bridge\n",
      "{http://www.loc.gov/mods/v3}identifier {'type': 'local'} \n",
      " BANC PIC 1905.14251-.14284--PIC\n",
      "{http://www.loc.gov/mods/v3}identifier {'type': 'uri'} \n",
      " http://www.oac.cdlib.org/findaid/ark:/13030/tf6b69p1kk\n",
      "{http://www.loc.gov/mods/v3}identifier {'displayLabel': 'Local Call Number', 'type': 'local'} \n",
      " BANC PIC 1905.14253:001--PIC\n",
      "{http://www.loc.gov/mods/v3}identifier {'type': 'filename', 'displayLabel': 'Filename'} \n",
      " I0036656a.tif\n",
      "{http://www.loc.gov/mods/v3}location {} \n",
      " \n",
      "    \n",
      "{http://www.loc.gov/mods/v3}physicalLocation {} \n",
      " The Bancroft Library;;, University of California, Berkeley, Berkeley, CA 94720-6000, Phone: (510) 642-6481, Fax: (510) 642-7589, Email: bancref@library.berkeley.edu;;, URL: http://bancroft.berkeley.edu/\n",
      "{http://www.loc.gov/mods/v3}accessCondition {'displayLabel': 'Copyright Note'} \n",
      " Some materials in these collections may be protected by the U.S. Copyright Law (Title 17, U.S.C.). In addition, the reproduction of some materials may be restricted by terms of University of California gift or purchase agreements, donor restrictions, privacy and publicity rights, licensing and trademarks. Transmission or reproduction of materials protected by copyright beyond that allowed by fair use requires the written permission of the copyright owners. Works not in the public domain cannot be commercially exploited without permission of the copyright owner. Responsibility for any use rests exclusively with the user.\n",
      "{http://www.loc.gov/mods/v3}accessCondition {'displayLabel': 'Copyright Owner Note'} \n",
      " All requests to reproduce, publish, quote from, or otherwise use collection materials must be submitted in writing to the Head of Public Services, The Bancroft Library, University of California, Berkeley 94720-6000. See: http://bancroft.berkeley.edu/reference/permissions.html\n"
     ]
    }
   ],
   "source": [
    "mods = mets_tree.findall('.//mods:*', namespaces=ns)\n",
    "\n",
    "for element in mods:\n",
    "    print(element.tag, element.attrib, '\\n', element.text)"
   ]
  }
 ],
 "metadata": {
  "kernelspec": {
   "display_name": "base",
   "language": "python",
   "name": "python3"
  },
  "language_info": {
   "codemirror_mode": {
    "name": "ipython",
    "version": 3
   },
   "file_extension": ".py",
   "mimetype": "text/x-python",
   "name": "python",
   "nbconvert_exporter": "python",
   "pygments_lexer": "ipython3",
   "version": "3.9.18"
  }
 },
 "nbformat": 4,
 "nbformat_minor": 2
}
