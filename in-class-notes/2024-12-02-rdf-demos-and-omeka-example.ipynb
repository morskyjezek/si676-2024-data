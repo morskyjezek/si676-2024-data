{
 "cells": [
  {
   "cell_type": "markdown",
   "metadata": {},
   "source": [
    "# Class Notes / Demos\n",
    "\n",
    "_December 2, 2024_"
   ]
  },
  {
   "cell_type": "markdown",
   "metadata": {},
   "source": [
    "### Setup\n",
    "\n",
    "If you need to import, and have bash access in your terminal, you can `pip install rdflib` or use homebrew (MacOS) or Chocolatey (or other package manager for Windows)"
   ]
  },
  {
   "cell_type": "markdown",
   "metadata": {},
   "source": [
    "## Parse and transform RDF/XML to Turtle"
   ]
  },
  {
   "cell_type": "code",
   "execution_count": 1,
   "metadata": {},
   "outputs": [],
   "source": [
    "import rdflib\n",
    "from rdflib import Graph"
   ]
  },
  {
   "cell_type": "code",
   "execution_count": 2,
   "metadata": {},
   "outputs": [
    {
     "data": {
      "text/plain": [
       "<Graph identifier=N877a71e6916a4e1fa24156a4d4644f0c (<class 'rdflib.graph.Graph'>)>"
      ]
     },
     "execution_count": 2,
     "metadata": {},
     "output_type": "execute_result"
    }
   ],
   "source": [
    "# basic structure is a Graph\n",
    "g = Graph()\n",
    "\n",
    "g.parse('../data/xml/jajohnst-foaf.rdf')"
   ]
  },
  {
   "cell_type": "code",
   "execution_count": 3,
   "metadata": {},
   "outputs": [
    {
     "name": "stdout",
     "output_type": "stream",
     "text": [
      "file:///Users/jajohnst/Desktop/si676-2024-data/data/xml/jajohnst-foaf.rdf#jesse -> http://xmlns.com/foaf/0.1/workplaceHomepage -> http://www.neh.gov/\n",
      "file:///Users/jajohnst/Desktop/si676-2024-data/data/xml/jajohnst-foaf.rdf#jamis-2010 -> http://www.w3.org/1999/02/22-rdf-syntax-ns#type -> http://xmlns.com/foaf/0.1/Document\n",
      "file:///Users/jajohnst/Desktop/si676-2024-data/data/xml/jajohnst-foaf.rdf#jamis-2010 -> http://purl.org/dc/elements/1.1/creator -> Jesse A. Johnston\n",
      "file:///Users/jajohnst/Desktop/si676-2024-data/data/xml/jajohnst-foaf.rdf#jamis-2010 -> http://purl.org/dc/elements/1.1/title -> The Cimbál (Cimbalom) and Folk Music in Moravian Slovakia and Valachia\n",
      "file:///Users/jajohnst/Desktop/si676-2024-data/data/xml/jajohnst-foaf.rdf#jesse -> http://xmlns.com/foaf/0.1/knows -> file:///Users/jajohnst/Desktop/si676-2024-data/data/xml/jajohnst-foaf.rdf#ricky\n",
      "file:///Users/jajohnst/Desktop/si676-2024-data/data/xml/jajohnst-foaf.rdf#jesse -> http://xmlns.com/foaf/0.1/firstName -> Jesse\n",
      "file:///Users/jajohnst/Desktop/si676-2024-data/data/xml/jajohnst-foaf.rdf#ricky -> http://xmlns.com/foaf/0.1/name -> Ricardo Punzalan\n",
      "file:///Users/jajohnst/Desktop/si676-2024-data/data/xml/jajohnst-foaf.rdf#jesse -> http://xmlns.com/foaf/0.1/depiction -> http://lh3.ggpht.com/VJzsbZ4cCNHmdaLDRxDBU14AapsOWxnJ8M-OTLopbw0-SAXxbsbyTyAb4OYN9QAa04WIWtSYy7Zin0rxmpvWYCp7=s200-c\n",
      "file:///Users/jajohnst/Desktop/si676-2024-data/data/xml/jajohnst-foaf.rdf#jesse -> http://xmlns.com/foaf/0.1/publications -> file:///Users/jajohnst/Desktop/si676-2024-data/data/xml/jajohnst-foaf.rdf#jamis-2010\n",
      "file:///Users/jajohnst/Desktop/si676-2024-data/data/xml/jajohnst-foaf.rdf#jamis-2010 -> http://purl.org/dc/elements/1.1/type -> Text\n",
      "http://lh3.ggpht.com/VJzsbZ4cCNHmdaLDRxDBU14AapsOWxnJ8M-OTLopbw0-SAXxbsbyTyAb4OYN9QAa04WIWtSYy7Zin0rxmpvWYCp7=s200-c -> http://purl.org/dc/elements/1.1/date -> 2010\n",
      "file:///Users/jajohnst/Desktop/si676-2024-data/data/xml/jajohnst-foaf.rdf#jesse -> http://xmlns.com/foaf/0.1/homepage -> http://www.jesseajohnston.net/\n",
      "file:///Users/jajohnst/Desktop/si676-2024-data/data/xml/jajohnst-foaf.rdf#ricky -> http://www.w3.org/2000/01/rdf-schema#seeAlso -> http://www.rpunzalan.com/\n",
      "file:///Users/jajohnst/Desktop/si676-2024-data/data/xml/jajohnst-foaf.rdf#jesse -> http://xmlns.com/foaf/0.1/name -> Jesse A. Johnston\n",
      "http://lh3.ggpht.com/VJzsbZ4cCNHmdaLDRxDBU14AapsOWxnJ8M-OTLopbw0-SAXxbsbyTyAb4OYN9QAa04WIWtSYy7Zin0rxmpvWYCp7=s200-c -> http://www.w3.org/1999/02/22-rdf-syntax-ns#type -> http://xmlns.com/foaf/0.1/Image\n",
      "file:///Users/jajohnst/Desktop/si676-2024-data/data/xml/jajohnst-foaf.rdf#jamis-2010 -> http://purl.org/dc/elements/1.1/date -> 2010\n",
      "file:///Users/jajohnst/Desktop/si676-2024-data/data/xml/jajohnst-foaf.rdf#ricky -> http://xmlns.com/foaf/0.1/mbox_sha1sum -> None\n",
      "file:///Users/jajohnst/Desktop/si676-2024-data/data/xml/jajohnst-foaf.rdf#jesse -> http://www.w3.org/1999/02/22-rdf-syntax-ns#type -> http://xmlns.com/foaf/0.1/Person\n",
      "file:///Users/jajohnst/Desktop/si676-2024-data/data/xml/jajohnst-foaf.rdf#ricky -> http://xmlns.com/foaf/0.1/homepage -> http://www.rpunzalan.com/\n",
      "http://deepblue.lib.umich.edu/handle/2027.42/87955 -> http://purl.org/dc/elements/1.1/format -> pdf\n",
      "file:///Users/jajohnst/Desktop/si676-2024-data/data/xml/jajohnst-foaf.rdf#jesse -> http://xmlns.com/foaf/0.1/schoolHomepage -> http://www.umich.edu/\n",
      "file:///Users/jajohnst/Desktop/si676-2024-data/data/xml/jajohnst-foaf.rdf#jamis-2010 -> http://purl.org/dc/elements/1.1/description -> This is a journal article published by Jesse A. Johnston in the Journal of the American Musical Instrument Society, volume 36, pages 78-117, published in the year 2010.\n",
      "file:///Users/jajohnst/Desktop/si676-2024-data/data/xml/jajohnst-foaf.rdf#jamis-2010 -> http://purl.org/dc/terms/bibliographicCitation -> Journal of the American Musical Instrument Society 36 (2010): pp. 78–117\n",
      "file:///Users/jajohnst/Desktop/si676-2024-data/data/xml/jajohnst-foaf.rdf#jamis-2010 -> http://purl.org/dc/elements/1.1/identifier -> Journal of the American Musical Instrument Society\n",
      "file:///Users/jajohnst/Desktop/si676-2024-data/data/xml/jajohnst-foaf.rdf#jamis-2010 -> http://purl.org/dc/terms/uri -> http://deepblue.lib.umich.edu/handle/2027.42/87955\n",
      "file:///Users/jajohnst/Desktop/si676-2024-data/data/xml/jajohnst-foaf.rdf#jesse -> http://xmlns.com/foaf/0.1/family_name -> Johnston\n",
      "http://lh3.ggpht.com/VJzsbZ4cCNHmdaLDRxDBU14AapsOWxnJ8M-OTLopbw0-SAXxbsbyTyAb4OYN9QAa04WIWtSYy7Zin0rxmpvWYCp7=s200-c -> http://purl.org/dc/elements/1.1/description -> Photo of Jesse Johnston\n",
      "file:///Users/jajohnst/Desktop/si676-2024-data/data/xml/jajohnst-foaf.rdf#jesse -> http://xmlns.com/foaf/0.1/title -> Ph.D.\n",
      "file:///Users/jajohnst/Desktop/si676-2024-data/data/xml/jajohnst-foaf.rdf#jamis-2010 -> http://purl.org/dc/terms/abstract -> This article presents an English-language introduction to the cimbalom, known in Czech as cimbál, as it is played in the Czech Republic. The article presents a holistic perspective on the cimbalom in Moravia, beginning with a descriptive organography, which covers Moravian organology evidence, historical iconography, and ethnographic evidence, with particular attention to the nineteenth-century ethnographic expeditions of Leos Janácek and folkloric nationalism. The article also proceeds to discuss musical style and the cimbalom's role in traditional ensemble music. The article concludes that, while the cimbalom's significance in Moravia has changed over time, the instrument has over the twentieth century become central to Moravian traditional music.\n",
      "file:///Users/jajohnst/Desktop/si676-2024-data/data/xml/jajohnst-foaf.rdf#ricky -> http://www.w3.org/1999/02/22-rdf-syntax-ns#type -> http://xmlns.com/foaf/0.1/Person\n",
      "http://lh3.ggpht.com/VJzsbZ4cCNHmdaLDRxDBU14AapsOWxnJ8M-OTLopbw0-SAXxbsbyTyAb4OYN9QAa04WIWtSYy7Zin0rxmpvWYCp7=s200-c -> http://purl.org/dc/elements/1.1/creator -> Ricardo Punzalan\n"
     ]
    }
   ],
   "source": [
    "for s, p, o in g:\n",
    "    print(f\"{s} -> {p} -> {o}\")"
   ]
  },
  {
   "cell_type": "code",
   "execution_count": 4,
   "metadata": {},
   "outputs": [
    {
     "data": {
      "text/plain": [
       "31"
      ]
     },
     "execution_count": 4,
     "metadata": {},
     "output_type": "execute_result"
    }
   ],
   "source": [
    "len(g)"
   ]
  },
  {
   "cell_type": "code",
   "execution_count": 5,
   "metadata": {},
   "outputs": [
    {
     "name": "stdout",
     "output_type": "stream",
     "text": [
      "@prefix dc: <http://purl.org/dc/elements/1.1/> .\n",
      "@prefix dcterms: <http://purl.org/dc/terms/> .\n",
      "@prefix foaf: <http://xmlns.com/foaf/0.1/> .\n",
      "@prefix rdfs: <http://www.w3.org/2000/01/rdf-schema#> .\n",
      "\n",
      "<file:///Users/jajohnst/Desktop/si676-2024-data/data/xml/jajohnst-foaf.rdf#jesse> a foaf:Person ;\n",
      "    foaf:depiction <http://lh3.ggpht.com/VJzsbZ4cCNHmdaLDRxDBU14AapsOWxnJ8M-OTLopbw0-SAXxbsbyTyAb4OYN9QAa04WIWtSYy7Zin0rxmpvWYCp7=s200-c> ;\n",
      "    foaf:family_name \"Johnston\" ;\n",
      "    foaf:firstName \"Jesse\" ;\n",
      "    foaf:homepage <http://www.jesseajohnston.net/> ;\n",
      "    foaf:knows <file:///Users/jajohnst/Desktop/si676-2024-data/data/xml/jajohnst-foaf.rdf#ricky> ;\n",
      "    foaf:name \"Jesse A. Johnston\" ;\n",
      "    foaf:publications <file:///Users/jajohnst/Desktop/si676-2024-data/data/xml/jajohnst-foaf.rdf#jamis-2010> ;\n",
      "    foaf:schoolHomepage <http://www.umich.edu/> ;\n",
      "    foaf:title \"Ph.D.\" ;\n",
      "    foaf:workplaceHomepage <http://www.neh.gov/> .\n",
      "\n",
      "<file:///Users/jajohnst/Desktop/si676-2024-data/data/xml/jajohnst-foaf.rdf#jamis-2010> a foaf:Document ;\n",
      "    dc:creator \"Jesse A. Johnston\" ;\n",
      "    dc:date \"2010\" ;\n",
      "    dc:description \"This is a journal article published by Jesse A. Johnston in the Journal of the American Musical Instrument Society, volume 36, pages 78-117, published in the year 2010.\" ;\n",
      "    dc:identifier \"Journal of the American Musical Instrument Society\" ;\n",
      "    dc:title \"The Cimbál (Cimbalom) and Folk Music in Moravian Slovakia and Valachia\" ;\n",
      "    dc:type \"Text\" ;\n",
      "    dcterms:abstract \"This article presents an English-language introduction to the cimbalom, known in Czech as cimbál, as it is played in the Czech Republic. The article presents a holistic perspective on the cimbalom in Moravia, beginning with a descriptive organography, which covers Moravian organology evidence, historical iconography, and ethnographic evidence, with particular attention to the nineteenth-century ethnographic expeditions of Leos Janácek and folkloric nationalism. The article also proceeds to discuss musical style and the cimbalom's role in traditional ensemble music. The article concludes that, while the cimbalom's significance in Moravia has changed over time, the instrument has over the twentieth century become central to Moravian traditional music.\" ;\n",
      "    dcterms:bibliographicCitation \"Journal of the American Musical Instrument Society 36 (2010): pp. 78–117\" ;\n",
      "    dcterms:uri <http://deepblue.lib.umich.edu/handle/2027.42/87955> .\n",
      "\n",
      "<file:///Users/jajohnst/Desktop/si676-2024-data/data/xml/jajohnst-foaf.rdf#ricky> a foaf:Person ;\n",
      "    rdfs:seeAlso <http://www.rpunzalan.com/> ;\n",
      "    foaf:homepage <http://www.rpunzalan.com/> ;\n",
      "    foaf:mbox_sha1sum \"None\" ;\n",
      "    foaf:name \"Ricardo Punzalan\" .\n",
      "\n",
      "<http://deepblue.lib.umich.edu/handle/2027.42/87955> dc:format \"pdf\" .\n",
      "\n",
      "<http://lh3.ggpht.com/VJzsbZ4cCNHmdaLDRxDBU14AapsOWxnJ8M-OTLopbw0-SAXxbsbyTyAb4OYN9QAa04WIWtSYy7Zin0rxmpvWYCp7=s200-c> a foaf:Image ;\n",
      "    dc:creator \"Ricardo Punzalan\" ;\n",
      "    dc:date \"2010\" ;\n",
      "    dc:description \"Photo of Jesse Johnston\" .\n",
      "\n",
      "\n"
     ]
    }
   ],
   "source": [
    "print(g.serialize(format='turtle'))"
   ]
  },
  {
   "cell_type": "code",
   "execution_count": 6,
   "metadata": {},
   "outputs": [
    {
     "name": "stdout",
     "output_type": "stream",
     "text": [
      "[\n",
      "  {\n",
      "    \"@id\": \"file:///Users/jajohnst/Desktop/si676-2024-data/data/xml/jajohnst-foaf.rdf#jesse\",\n",
      "    \"@type\": [\n",
      "      \"http://xmlns.com/foaf/0.1/Person\"\n",
      "    ],\n",
      "    \"http://xmlns.com/foaf/0.1/depiction\": [\n",
      "      {\n",
      "        \"@id\": \"http://lh3.ggpht.com/VJzsbZ4cCNHmdaLDRxDBU14AapsOWxnJ8M-OTLopbw0-SAXxbsbyTyAb4OYN9QAa04WIWtSYy7Zin0rxmpvWYCp7=s200-c\"\n",
      "      }\n",
      "    ],\n",
      "    \"http://xmlns.com/foaf/0.1/family_name\": [\n",
      "      {\n",
      "        \"@value\": \"Johnston\"\n",
      "      }\n",
      "    ],\n",
      "    \"http://xmlns.com/foaf/0.1/firstName\": [\n",
      "      {\n",
      "        \"@value\": \"Jesse\"\n",
      "      }\n",
      "    ],\n",
      "    \"http://xmlns.com/foaf/0.1/homepage\": [\n",
      "      {\n",
      "        \"@id\": \"http://www.jesseajohnston.net/\"\n",
      "      }\n",
      "    ],\n",
      "    \"http://xmlns.com/foaf/0.1/knows\": [\n",
      "      {\n",
      "        \"@id\": \"file:///Users/jajohnst/Desktop/si676-2024-data/data/xml/jajohnst-foaf.rdf#ricky\"\n",
      "      }\n",
      "    ],\n",
      "    \"http://xmlns.com/foaf/0.1/name\": [\n",
      "      {\n",
      "        \"@value\": \"Jesse A. Johnston\"\n",
      "      }\n",
      "    ],\n",
      "    \"http://xmlns.com/foaf/0.1/publications\": [\n",
      "      {\n",
      "        \"@id\": \"file:///Users/jajohnst/Desktop/si676-2024-data/data/xml/jajohnst-foaf.rdf#jamis-2010\"\n",
      "      }\n",
      "    ],\n",
      "    \"http://xmlns.com/foaf/0.1/schoolHomepage\": [\n",
      "      {\n",
      "        \"@id\": \"http://www.umich.edu/\"\n",
      "      }\n",
      "    ],\n",
      "    \"http://xmlns.com/foaf/0.1/title\": [\n",
      "      {\n",
      "        \"@value\": \"Ph.D.\"\n",
      "      }\n",
      "    ],\n",
      "    \"http://xmlns.com/foaf/0.1/workplaceHomepage\": [\n",
      "      {\n",
      "        \"@id\": \"http://www.neh.gov/\"\n",
      "      }\n",
      "    ]\n",
      "  },\n",
      "  {\n",
      "    \"@id\": \"http://deepblue.lib.umich.edu/handle/2027.42/87955\",\n",
      "    \"http://purl.org/dc/elements/1.1/format\": [\n",
      "      {\n",
      "        \"@value\": \"pdf\"\n",
      "      }\n",
      "    ]\n",
      "  },\n",
      "  {\n",
      "    \"@id\": \"file:///Users/jajohnst/Desktop/si676-2024-data/data/xml/jajohnst-foaf.rdf#jamis-2010\",\n",
      "    \"@type\": [\n",
      "      \"http://xmlns.com/foaf/0.1/Document\"\n",
      "    ],\n",
      "    \"http://purl.org/dc/elements/1.1/creator\": [\n",
      "      {\n",
      "        \"@value\": \"Jesse A. Johnston\"\n",
      "      }\n",
      "    ],\n",
      "    \"http://purl.org/dc/elements/1.1/date\": [\n",
      "      {\n",
      "        \"@value\": \"2010\"\n",
      "      }\n",
      "    ],\n",
      "    \"http://purl.org/dc/elements/1.1/description\": [\n",
      "      {\n",
      "        \"@value\": \"This is a journal article published by Jesse A. Johnston in the Journal of the American Musical Instrument Society, volume 36, pages 78-117, published in the year 2010.\"\n",
      "      }\n",
      "    ],\n",
      "    \"http://purl.org/dc/elements/1.1/identifier\": [\n",
      "      {\n",
      "        \"@value\": \"Journal of the American Musical Instrument Society\"\n",
      "      }\n",
      "    ],\n",
      "    \"http://purl.org/dc/elements/1.1/title\": [\n",
      "      {\n",
      "        \"@value\": \"The Cimbál (Cimbalom) and Folk Music in Moravian Slovakia and Valachia\"\n",
      "      }\n",
      "    ],\n",
      "    \"http://purl.org/dc/elements/1.1/type\": [\n",
      "      {\n",
      "        \"@value\": \"Text\"\n",
      "      }\n",
      "    ],\n",
      "    \"http://purl.org/dc/terms/abstract\": [\n",
      "      {\n",
      "        \"@value\": \"This article presents an English-language introduction to the cimbalom, known in Czech as cimbál, as it is played in the Czech Republic. The article presents a holistic perspective on the cimbalom in Moravia, beginning with a descriptive organography, which covers Moravian organology evidence, historical iconography, and ethnographic evidence, with particular attention to the nineteenth-century ethnographic expeditions of Leos Janácek and folkloric nationalism. The article also proceeds to discuss musical style and the cimbalom's role in traditional ensemble music. The article concludes that, while the cimbalom's significance in Moravia has changed over time, the instrument has over the twentieth century become central to Moravian traditional music.\"\n",
      "      }\n",
      "    ],\n",
      "    \"http://purl.org/dc/terms/bibliographicCitation\": [\n",
      "      {\n",
      "        \"@value\": \"Journal of the American Musical Instrument Society 36 (2010): pp. 78–117\"\n",
      "      }\n",
      "    ],\n",
      "    \"http://purl.org/dc/terms/uri\": [\n",
      "      {\n",
      "        \"@id\": \"http://deepblue.lib.umich.edu/handle/2027.42/87955\"\n",
      "      }\n",
      "    ]\n",
      "  },\n",
      "  {\n",
      "    \"@id\": \"file:///Users/jajohnst/Desktop/si676-2024-data/data/xml/jajohnst-foaf.rdf#ricky\",\n",
      "    \"@type\": [\n",
      "      \"http://xmlns.com/foaf/0.1/Person\"\n",
      "    ],\n",
      "    \"http://www.w3.org/2000/01/rdf-schema#seeAlso\": [\n",
      "      {\n",
      "        \"@id\": \"http://www.rpunzalan.com/\"\n",
      "      }\n",
      "    ],\n",
      "    \"http://xmlns.com/foaf/0.1/homepage\": [\n",
      "      {\n",
      "        \"@id\": \"http://www.rpunzalan.com/\"\n",
      "      }\n",
      "    ],\n",
      "    \"http://xmlns.com/foaf/0.1/mbox_sha1sum\": [\n",
      "      {\n",
      "        \"@value\": \"None\"\n",
      "      }\n",
      "    ],\n",
      "    \"http://xmlns.com/foaf/0.1/name\": [\n",
      "      {\n",
      "        \"@value\": \"Ricardo Punzalan\"\n",
      "      }\n",
      "    ]\n",
      "  },\n",
      "  {\n",
      "    \"@id\": \"http://lh3.ggpht.com/VJzsbZ4cCNHmdaLDRxDBU14AapsOWxnJ8M-OTLopbw0-SAXxbsbyTyAb4OYN9QAa04WIWtSYy7Zin0rxmpvWYCp7=s200-c\",\n",
      "    \"@type\": [\n",
      "      \"http://xmlns.com/foaf/0.1/Image\"\n",
      "    ],\n",
      "    \"http://purl.org/dc/elements/1.1/creator\": [\n",
      "      {\n",
      "        \"@value\": \"Ricardo Punzalan\"\n",
      "      }\n",
      "    ],\n",
      "    \"http://purl.org/dc/elements/1.1/date\": [\n",
      "      {\n",
      "        \"@value\": \"2010\"\n",
      "      }\n",
      "    ],\n",
      "    \"http://purl.org/dc/elements/1.1/description\": [\n",
      "      {\n",
      "        \"@value\": \"Photo of Jesse Johnston\"\n",
      "      }\n",
      "    ]\n",
      "  }\n",
      "]\n"
     ]
    }
   ],
   "source": [
    "print(g.serialize(format=\"json-ld\"))"
   ]
  },
  {
   "cell_type": "markdown",
   "metadata": {},
   "source": [
    "# Creating some basic RDF data\n",
    "\n",
    "Reference notebook: `../examples/lod-rdflib-example.ipynb`"
   ]
  },
  {
   "cell_type": "code",
   "execution_count": 7,
   "metadata": {},
   "outputs": [],
   "source": [
    "from rdflib import Graph, Literal, RDF, URIRef, Namespace"
   ]
  },
  {
   "cell_type": "code",
   "execution_count": 8,
   "metadata": {},
   "outputs": [],
   "source": [
    "from rdflib.namespace import DCTERMS, FOAF, RDF"
   ]
  },
  {
   "cell_type": "code",
   "execution_count": 9,
   "metadata": {},
   "outputs": [],
   "source": [
    "# setup namespaces \n",
    "locid = Namespace('http://id.loc.gov')\n",
    "wdt = Namespace('https://www.wikidata.org/wiki/')\n",
    "viaf = Namespace('https://viaf.org/viaf/')"
   ]
  },
  {
   "cell_type": "code",
   "execution_count": 10,
   "metadata": {},
   "outputs": [],
   "source": [
    "# setup a Graph\n",
    "\n",
    "g = Graph()"
   ]
  },
  {
   "cell_type": "code",
   "execution_count": 11,
   "metadata": {},
   "outputs": [],
   "source": [
    "g.bind('locid', locid)\n",
    "g.bind('wdt', wdt)\n",
    "g.bind('viaf', viaf)"
   ]
  },
  {
   "cell_type": "code",
   "execution_count": 12,
   "metadata": {},
   "outputs": [
    {
     "data": {
      "text/plain": [
       "<Graph identifier=Nbb144d8682284b85b9c92015ca385003 (<class 'rdflib.graph.Graph'>)>"
      ]
     },
     "execution_count": 12,
     "metadata": {},
     "output_type": "execute_result"
    }
   ],
   "source": [
    "# add data in statements\n",
    "\n",
    "# define graph name\n",
    "jane = URIRef('http://id.loc.gov/authorities/names/n79032879') # provides URI ref for the name \n",
    "\n",
    "# g.add((s, p, o))\n",
    "g.add((jane, RDF.type, FOAF.Person))\n",
    "g.add((jane, FOAF.name, Literal(\"Jane Austen\",lang=\"en\")))\n",
    "g.add((jane, FOAF.name, wdt.Q36322))\n",
    "g.add((jane, DCTERMS.creator, wdt.Q170583))\n",
    "g.add((jane, DCTERMS.creator, Literal(\"Pride and Prejudice\",lang=\"en\")))"
   ]
  },
  {
   "cell_type": "code",
   "execution_count": 13,
   "metadata": {},
   "outputs": [
    {
     "name": "stdout",
     "output_type": "stream",
     "text": [
      "@prefix ns1: <http://purl.org/dc/terms/> .\n",
      "@prefix ns2: <http://xmlns.com/foaf/0.1/> .\n",
      "@prefix wdt: <https://www.wikidata.org/wiki/> .\n",
      "\n",
      "<http://id.loc.gov/authorities/names/n79032879> a ns2:Person ;\n",
      "    ns1:creator wdt:Q170583,\n",
      "        \"Pride and Prejudice\"@en ;\n",
      "    ns2:name wdt:Q36322,\n",
      "        \"Jane Austen\"@en .\n",
      "\n",
      "\n"
     ]
    }
   ],
   "source": [
    "print(g.serialize(format='ttl'))"
   ]
  },
  {
   "cell_type": "markdown",
   "metadata": {},
   "source": [
    "# Looking at RDF in Omeka S \n",
    "\n"
   ]
  },
  {
   "cell_type": "code",
   "execution_count": 14,
   "metadata": {},
   "outputs": [],
   "source": [
    "import requests"
   ]
  },
  {
   "cell_type": "code",
   "execution_count": 15,
   "metadata": {},
   "outputs": [],
   "source": [
    "url = 'http://jajohnst.si676.si.umich.edu/omeka-s/api/items'\n",
    "\n",
    "parameters = {\n",
    "    'item_set_id': 440\n",
    "}"
   ]
  },
  {
   "cell_type": "code",
   "execution_count": 16,
   "metadata": {},
   "outputs": [
    {
     "name": "stdout",
     "output_type": "stream",
     "text": [
      "http://jajohnst.si676.si.umich.edu/omeka-s/api/items?item_set_id=440\n"
     ]
    }
   ],
   "source": [
    "r = requests.get(url, params=parameters)\n",
    "\n",
    "print(r.url)"
   ]
  },
  {
   "cell_type": "code",
   "execution_count": 17,
   "metadata": {},
   "outputs": [
    {
     "data": {
      "text/plain": [
       "[{'@context': 'http://jajohnst.si676.si.umich.edu/omeka-s/api-context',\n",
       "  '@id': 'http://jajohnst.si676.si.umich.edu/omeka-s/api/items/438',\n",
       "  '@type': ['o:Item', 'dcterms:Agent'],\n",
       "  'o:id': 438,\n",
       "  'o:is_public': True,\n",
       "  'o:owner': {'@id': 'http://jajohnst.si676.si.umich.edu/omeka-s/api/users/1',\n",
       "   'o:id': 1},\n",
       "  'o:resource_class': {'@id': 'http://jajohnst.si676.si.umich.edu/omeka-s/api/resource_classes/1',\n",
       "   'o:id': 1},\n",
       "  'o:resource_template': None,\n",
       "  'o:thumbnail': None,\n",
       "  'o:title': 'Test record for J.D. Salinger RDF example',\n",
       "  'thumbnail_display_urls': {'large': None, 'medium': None, 'square': None},\n",
       "  'o:created': {'@value': '2024-11-18T01:11:42+00:00',\n",
       "   '@type': 'http://www.w3.org/2001/XMLSchema#dateTime'},\n",
       "  'o:modified': {'@value': '2024-11-19T16:53:07+00:00',\n",
       "   '@type': 'http://www.w3.org/2001/XMLSchema#dateTime'},\n",
       "  'o:primary_media': None,\n",
       "  'o:media': [],\n",
       "  'o:item_set': [{'@id': 'http://jajohnst.si676.si.umich.edu/omeka-s/api/item_sets/440',\n",
       "    'o:id': 440}],\n",
       "  'o:site': [{'@id': 'http://jajohnst.si676.si.umich.edu/omeka-s/api/sites/1',\n",
       "    'o:id': 1},\n",
       "   {'@id': 'http://jajohnst.si676.si.umich.edu/omeka-s/api/sites/2',\n",
       "    'o:id': 2}],\n",
       "  'dcterms:title': [{'type': 'literal',\n",
       "    'property_id': 1,\n",
       "    'property_label': 'Title',\n",
       "    'is_public': True,\n",
       "    '@value': 'Test record for J.D. Salinger RDF example'}],\n",
       "  'foaf:name': [{'type': 'literal',\n",
       "    'property_id': 138,\n",
       "    'property_label': 'name',\n",
       "    'is_public': True,\n",
       "    '@value': 'J.D. Salinger'}]},\n",
       " {'@context': 'http://jajohnst.si676.si.umich.edu/omeka-s/api-context',\n",
       "  '@id': 'http://jajohnst.si676.si.umich.edu/omeka-s/api/items/439',\n",
       "  '@type': ['o:Item', 'dcterms:Agent'],\n",
       "  'o:id': 439,\n",
       "  'o:is_public': True,\n",
       "  'o:owner': {'@id': 'http://jajohnst.si676.si.umich.edu/omeka-s/api/users/1',\n",
       "   'o:id': 1},\n",
       "  'o:resource_class': {'@id': 'http://jajohnst.si676.si.umich.edu/omeka-s/api/resource_classes/1',\n",
       "   'o:id': 1},\n",
       "  'o:resource_template': None,\n",
       "  'o:thumbnail': None,\n",
       "  'o:title': 'Test record for Herman Melvill for linked data demonstrations',\n",
       "  'thumbnail_display_urls': {'large': None, 'medium': None, 'square': None},\n",
       "  'o:created': {'@value': '2024-11-18T01:14:13+00:00',\n",
       "   '@type': 'http://www.w3.org/2001/XMLSchema#dateTime'},\n",
       "  'o:modified': {'@value': '2024-11-19T16:53:07+00:00',\n",
       "   '@type': 'http://www.w3.org/2001/XMLSchema#dateTime'},\n",
       "  'o:primary_media': None,\n",
       "  'o:media': [],\n",
       "  'o:item_set': [{'@id': 'http://jajohnst.si676.si.umich.edu/omeka-s/api/item_sets/440',\n",
       "    'o:id': 440}],\n",
       "  'o:site': [{'@id': 'http://jajohnst.si676.si.umich.edu/omeka-s/api/sites/1',\n",
       "    'o:id': 1},\n",
       "   {'@id': 'http://jajohnst.si676.si.umich.edu/omeka-s/api/sites/2',\n",
       "    'o:id': 2}],\n",
       "  'dcterms:title': [{'type': 'literal',\n",
       "    'property_id': 1,\n",
       "    'property_label': 'Title',\n",
       "    'is_public': True,\n",
       "    '@value': 'Test record for Herman Melvill for linked data demonstrations'}],\n",
       "  'foaf:name': [{'type': 'literal',\n",
       "    'property_id': 138,\n",
       "    'property_label': 'name',\n",
       "    'is_public': True,\n",
       "    '@value': 'Herman Melvill'}]},\n",
       " {'@context': 'http://jajohnst.si676.si.umich.edu/omeka-s/api-context',\n",
       "  '@id': 'http://jajohnst.si676.si.umich.edu/omeka-s/api/items/452',\n",
       "  '@type': ['o:Item', 'dctype:Image'],\n",
       "  'o:id': 452,\n",
       "  'o:is_public': True,\n",
       "  'o:owner': {'@id': 'http://jajohnst.si676.si.umich.edu/omeka-s/api/users/1',\n",
       "   'o:id': 1},\n",
       "  'o:resource_class': {'@id': 'http://jajohnst.si676.si.umich.edu/omeka-s/api/resource_classes/26',\n",
       "   'o:id': 26},\n",
       "  'o:resource_template': None,\n",
       "  'o:thumbnail': None,\n",
       "  'o:title': 'An image of an Orca, archived from an old website, and uploaded via the API',\n",
       "  'thumbnail_display_urls': {'large': 'http://jajohnst.si676.si.umich.edu/omeka-s/files/large/6abb0208013fd182d5e5836e445981b1a099c998.jpg',\n",
       "   'medium': 'http://jajohnst.si676.si.umich.edu/omeka-s/files/medium/6abb0208013fd182d5e5836e445981b1a099c998.jpg',\n",
       "   'square': 'http://jajohnst.si676.si.umich.edu/omeka-s/files/square/6abb0208013fd182d5e5836e445981b1a099c998.jpg'},\n",
       "  'o:created': {'@value': '2024-11-19T15:42:08+00:00',\n",
       "   '@type': 'http://www.w3.org/2001/XMLSchema#dateTime'},\n",
       "  'o:modified': {'@value': '2024-11-19T15:51:54+00:00',\n",
       "   '@type': 'http://www.w3.org/2001/XMLSchema#dateTime'},\n",
       "  'o:primary_media': {'@id': 'http://jajohnst.si676.si.umich.edu/omeka-s/api/media/453',\n",
       "   'o:id': 453},\n",
       "  'o:media': [{'@id': 'http://jajohnst.si676.si.umich.edu/omeka-s/api/media/453',\n",
       "    'o:id': 453}],\n",
       "  'o:item_set': [{'@id': 'http://jajohnst.si676.si.umich.edu/omeka-s/api/item_sets/440',\n",
       "    'o:id': 440}],\n",
       "  'o:site': [{'@id': 'http://jajohnst.si676.si.umich.edu/omeka-s/api/sites/1',\n",
       "    'o:id': 1},\n",
       "   {'@id': 'http://jajohnst.si676.si.umich.edu/omeka-s/api/sites/2',\n",
       "    'o:id': 2}],\n",
       "  'dcterms:title': [{'type': 'literal',\n",
       "    'property_id': 1,\n",
       "    'property_label': 'Title',\n",
       "    'is_public': True,\n",
       "    '@value': 'An image of an Orca, archived from an old website, and uploaded via the API'}]},\n",
       " {'@context': 'http://jajohnst.si676.si.umich.edu/omeka-s/api-context',\n",
       "  '@id': 'http://jajohnst.si676.si.umich.edu/omeka-s/api/items/455',\n",
       "  '@type': ['o:Item', 'dctype:Image'],\n",
       "  'o:id': 455,\n",
       "  'o:is_public': True,\n",
       "  'o:owner': {'@id': 'http://jajohnst.si676.si.umich.edu/omeka-s/api/users/1',\n",
       "   'o:id': 1},\n",
       "  'o:resource_class': {'@id': 'http://jajohnst.si676.si.umich.edu/omeka-s/api/resource_classes/26',\n",
       "   'o:id': 26},\n",
       "  'o:resource_template': None,\n",
       "  'o:thumbnail': None,\n",
       "  'o:title': 'An image of an Orca, archived from an old website, and uploaded via the API',\n",
       "  'thumbnail_display_urls': {'large': 'http://jajohnst.si676.si.umich.edu/omeka-s/files/large/de626197ce76c28ac4d55958025a8d662b8cd9a8.jpg',\n",
       "   'medium': 'http://jajohnst.si676.si.umich.edu/omeka-s/files/medium/de626197ce76c28ac4d55958025a8d662b8cd9a8.jpg',\n",
       "   'square': 'http://jajohnst.si676.si.umich.edu/omeka-s/files/square/de626197ce76c28ac4d55958025a8d662b8cd9a8.jpg'},\n",
       "  'o:created': {'@value': '2024-11-19T16:40:00+00:00',\n",
       "   '@type': 'http://www.w3.org/2001/XMLSchema#dateTime'},\n",
       "  'o:modified': {'@value': '2024-11-19T23:56:40+00:00',\n",
       "   '@type': 'http://www.w3.org/2001/XMLSchema#dateTime'},\n",
       "  'o:primary_media': {'@id': 'http://jajohnst.si676.si.umich.edu/omeka-s/api/media/456',\n",
       "   'o:id': 456},\n",
       "  'o:media': [{'@id': 'http://jajohnst.si676.si.umich.edu/omeka-s/api/media/456',\n",
       "    'o:id': 456}],\n",
       "  'o:item_set': [{'@id': 'http://jajohnst.si676.si.umich.edu/omeka-s/api/item_sets/440',\n",
       "    'o:id': 440}],\n",
       "  'o:site': [{'@id': 'http://jajohnst.si676.si.umich.edu/omeka-s/api/sites/1',\n",
       "    'o:id': 1},\n",
       "   {'@id': 'http://jajohnst.si676.si.umich.edu/omeka-s/api/sites/2',\n",
       "    'o:id': 2}],\n",
       "  'dcterms:title': [{'type': 'literal',\n",
       "    'property_id': 1,\n",
       "    'property_label': 'Title',\n",
       "    'is_public': True,\n",
       "    '@value': 'An image of an Orca, archived from an old website, and uploaded via the API'}]},\n",
       " {'@context': 'http://jajohnst.si676.si.umich.edu/omeka-s/api-context',\n",
       "  '@id': 'http://jajohnst.si676.si.umich.edu/omeka-s/api/items/457',\n",
       "  '@type': 'o:Item',\n",
       "  'o:id': 457,\n",
       "  'o:is_public': True,\n",
       "  'o:owner': {'@id': 'http://jajohnst.si676.si.umich.edu/omeka-s/api/users/1',\n",
       "   'o:id': 1},\n",
       "  'o:resource_class': None,\n",
       "  'o:resource_template': None,\n",
       "  'o:thumbnail': None,\n",
       "  'o:title': None,\n",
       "  'thumbnail_display_urls': {'large': 'http://jajohnst.si676.si.umich.edu/omeka-s/files/large/a1eff2ad47dd4058d5f5e059003926abdc244dd0.jpg',\n",
       "   'medium': 'http://jajohnst.si676.si.umich.edu/omeka-s/files/medium/a1eff2ad47dd4058d5f5e059003926abdc244dd0.jpg',\n",
       "   'square': 'http://jajohnst.si676.si.umich.edu/omeka-s/files/square/a1eff2ad47dd4058d5f5e059003926abdc244dd0.jpg'},\n",
       "  'o:created': {'@value': '2024-11-19T23:49:55+00:00',\n",
       "   '@type': 'http://www.w3.org/2001/XMLSchema#dateTime'},\n",
       "  'o:modified': {'@value': '2024-11-19T23:49:55+00:00',\n",
       "   '@type': 'http://www.w3.org/2001/XMLSchema#dateTime'},\n",
       "  'o:primary_media': {'@id': 'http://jajohnst.si676.si.umich.edu/omeka-s/api/media/458',\n",
       "   'o:id': 458},\n",
       "  'o:media': [{'@id': 'http://jajohnst.si676.si.umich.edu/omeka-s/api/media/458',\n",
       "    'o:id': 458}],\n",
       "  'o:item_set': [{'@id': 'http://jajohnst.si676.si.umich.edu/omeka-s/api/item_sets/440',\n",
       "    'o:id': 440}],\n",
       "  'o:site': [{'@id': 'http://jajohnst.si676.si.umich.edu/omeka-s/api/sites/1',\n",
       "    'o:id': 1},\n",
       "   {'@id': 'http://jajohnst.si676.si.umich.edu/omeka-s/api/sites/2',\n",
       "    'o:id': 2}]}]"
      ]
     },
     "execution_count": 17,
     "metadata": {},
     "output_type": "execute_result"
    }
   ],
   "source": [
    "r.json()"
   ]
  },
  {
   "cell_type": "code",
   "execution_count": 18,
   "metadata": {},
   "outputs": [
    {
     "name": "stdout",
     "output_type": "stream",
     "text": [
      "78\n"
     ]
    }
   ],
   "source": [
    "# create the Graph with the respone data\n",
    "g = Graph().parse(data=r.text, format='json-ld')\n",
    "\n",
    "# add FOAF and DC and namespaces\n",
    "g.bind('dcterms',DCTERMS)\n",
    "g.bind('foaf',FOAF)\n",
    "\n",
    "print(len(g))"
   ]
  },
  {
   "cell_type": "code",
   "execution_count": 19,
   "metadata": {},
   "outputs": [
    {
     "name": "stdout",
     "output_type": "stream",
     "text": [
      "http://jajohnst.si676.si.umich.edu/omeka-s/api/items/455 -> http://omeka.org/s/vocabs/o#media -> http://jajohnst.si676.si.umich.edu/omeka-s/api/media/456\n",
      "http://jajohnst.si676.si.umich.edu/omeka-s/api/items/455 -> http://omeka.org/s/vocabs/o#id -> 455\n",
      "http://jajohnst.si676.si.umich.edu/omeka-s/api/media/456 -> http://omeka.org/s/vocabs/o#id -> 456\n",
      "http://jajohnst.si676.si.umich.edu/omeka-s/api/items/457 -> http://omeka.org/s/vocabs/o#site -> http://jajohnst.si676.si.umich.edu/omeka-s/api/sites/2\n",
      "http://jajohnst.si676.si.umich.edu/omeka-s/api/items/455 -> http://omeka.org/s/vocabs/o#item_set -> http://jajohnst.si676.si.umich.edu/omeka-s/api/item_sets/440\n",
      "http://jajohnst.si676.si.umich.edu/omeka-s/api/items/455 -> http://omeka.org/s/vocabs/o#site -> http://jajohnst.si676.si.umich.edu/omeka-s/api/sites/2\n",
      "http://jajohnst.si676.si.umich.edu/omeka-s/api/items/439 -> http://omeka.org/s/vocabs/o#is_public -> true\n",
      "http://jajohnst.si676.si.umich.edu/omeka-s/api/items/457 -> http://omeka.org/s/vocabs/o#media -> http://jajohnst.si676.si.umich.edu/omeka-s/api/media/458\n",
      "http://jajohnst.si676.si.umich.edu/omeka-s/api/items/438 -> http://omeka.org/s/vocabs/o#id -> 438\n",
      "http://jajohnst.si676.si.umich.edu/omeka-s/api/items/452 -> http://www.w3.org/1999/02/22-rdf-syntax-ns#type -> http://purl.org/dc/dcmitype/Image\n",
      "http://jajohnst.si676.si.umich.edu/omeka-s/api/items/438 -> http://omeka.org/s/vocabs/o#site -> http://jajohnst.si676.si.umich.edu/omeka-s/api/sites/2\n",
      "http://jajohnst.si676.si.umich.edu/omeka-s/api/items/452 -> http://omeka.org/s/vocabs/o#id -> 452\n",
      "http://jajohnst.si676.si.umich.edu/omeka-s/api/resource_classes/1 -> http://omeka.org/s/vocabs/o#id -> 1\n",
      "http://jajohnst.si676.si.umich.edu/omeka-s/api/items/457 -> http://omeka.org/s/vocabs/o#item_set -> http://jajohnst.si676.si.umich.edu/omeka-s/api/item_sets/440\n",
      "http://jajohnst.si676.si.umich.edu/omeka-s/api/items/439 -> http://purl.org/dc/terms/title -> Test record for Herman Melvill for linked data demonstrations\n",
      "http://jajohnst.si676.si.umich.edu/omeka-s/api/items/452 -> http://omeka.org/s/vocabs/o#primary_media -> http://jajohnst.si676.si.umich.edu/omeka-s/api/media/453\n",
      "http://jajohnst.si676.si.umich.edu/omeka-s/api/items/455 -> http://www.w3.org/1999/02/22-rdf-syntax-ns#type -> http://omeka.org/s/vocabs/o#Item\n",
      "http://jajohnst.si676.si.umich.edu/omeka-s/api/items/438 -> http://omeka.org/s/vocabs/o#resource_class -> http://jajohnst.si676.si.umich.edu/omeka-s/api/resource_classes/1\n",
      "http://jajohnst.si676.si.umich.edu/omeka-s/api/items/452 -> http://omeka.org/s/vocabs/o#resource_class -> http://jajohnst.si676.si.umich.edu/omeka-s/api/resource_classes/26\n",
      "http://jajohnst.si676.si.umich.edu/omeka-s/api/items/457 -> http://www.w3.org/1999/02/22-rdf-syntax-ns#type -> http://omeka.org/s/vocabs/o#Item\n",
      "http://jajohnst.si676.si.umich.edu/omeka-s/api/items/452 -> http://omeka.org/s/vocabs/o#media -> http://jajohnst.si676.si.umich.edu/omeka-s/api/media/453\n",
      "http://jajohnst.si676.si.umich.edu/omeka-s/api/items/455 -> http://omeka.org/s/vocabs/o#created -> 2024-11-19T16:40:00+00:00\n",
      "http://jajohnst.si676.si.umich.edu/omeka-s/api/sites/2 -> http://omeka.org/s/vocabs/o#id -> 2\n",
      "http://jajohnst.si676.si.umich.edu/omeka-s/api/items/439 -> http://omeka.org/s/vocabs/o#title -> Test record for Herman Melvill for linked data demonstrations\n",
      "http://jajohnst.si676.si.umich.edu/omeka-s/api/items/439 -> http://omeka.org/s/vocabs/o#resource_class -> http://jajohnst.si676.si.umich.edu/omeka-s/api/resource_classes/1\n",
      "http://jajohnst.si676.si.umich.edu/omeka-s/api/items/439 -> http://omeka.org/s/vocabs/o#created -> 2024-11-18T01:14:13+00:00\n",
      "http://jajohnst.si676.si.umich.edu/omeka-s/api/items/452 -> http://omeka.org/s/vocabs/o#owner -> http://jajohnst.si676.si.umich.edu/omeka-s/api/users/1\n",
      "http://jajohnst.si676.si.umich.edu/omeka-s/api/items/457 -> http://omeka.org/s/vocabs/o#site -> http://jajohnst.si676.si.umich.edu/omeka-s/api/sites/1\n",
      "http://jajohnst.si676.si.umich.edu/omeka-s/api/items/455 -> http://omeka.org/s/vocabs/o#is_public -> true\n",
      "http://jajohnst.si676.si.umich.edu/omeka-s/api/items/438 -> http://omeka.org/s/vocabs/o#modified -> 2024-11-19T16:53:07+00:00\n",
      "http://jajohnst.si676.si.umich.edu/omeka-s/api/items/457 -> http://omeka.org/s/vocabs/o#is_public -> true\n",
      "http://jajohnst.si676.si.umich.edu/omeka-s/api/resource_classes/26 -> http://omeka.org/s/vocabs/o#id -> 26\n",
      "http://jajohnst.si676.si.umich.edu/omeka-s/api/items/452 -> http://omeka.org/s/vocabs/o#item_set -> http://jajohnst.si676.si.umich.edu/omeka-s/api/item_sets/440\n",
      "http://jajohnst.si676.si.umich.edu/omeka-s/api/items/452 -> http://omeka.org/s/vocabs/o#created -> 2024-11-19T15:42:08+00:00\n",
      "http://jajohnst.si676.si.umich.edu/omeka-s/api/users/1 -> http://omeka.org/s/vocabs/o#id -> 1\n",
      "http://jajohnst.si676.si.umich.edu/omeka-s/api/items/457 -> http://omeka.org/s/vocabs/o#primary_media -> http://jajohnst.si676.si.umich.edu/omeka-s/api/media/458\n",
      "http://jajohnst.si676.si.umich.edu/omeka-s/api/items/457 -> http://omeka.org/s/vocabs/o#created -> 2024-11-19T23:49:55+00:00\n",
      "http://jajohnst.si676.si.umich.edu/omeka-s/api/items/452 -> http://www.w3.org/1999/02/22-rdf-syntax-ns#type -> http://omeka.org/s/vocabs/o#Item\n",
      "http://jajohnst.si676.si.umich.edu/omeka-s/api/items/457 -> http://omeka.org/s/vocabs/o#owner -> http://jajohnst.si676.si.umich.edu/omeka-s/api/users/1\n",
      "http://jajohnst.si676.si.umich.edu/omeka-s/api/items/455 -> http://omeka.org/s/vocabs/o#primary_media -> http://jajohnst.si676.si.umich.edu/omeka-s/api/media/456\n",
      "http://jajohnst.si676.si.umich.edu/omeka-s/api/items/455 -> http://purl.org/dc/terms/title -> An image of an Orca, archived from an old website, and uploaded via the API\n",
      "http://jajohnst.si676.si.umich.edu/omeka-s/api/items/439 -> http://omeka.org/s/vocabs/o#site -> http://jajohnst.si676.si.umich.edu/omeka-s/api/sites/1\n",
      "http://jajohnst.si676.si.umich.edu/omeka-s/api/items/455 -> http://omeka.org/s/vocabs/o#title -> An image of an Orca, archived from an old website, and uploaded via the API\n",
      "http://jajohnst.si676.si.umich.edu/omeka-s/api/items/438 -> http://omeka.org/s/vocabs/o#owner -> http://jajohnst.si676.si.umich.edu/omeka-s/api/users/1\n",
      "http://jajohnst.si676.si.umich.edu/omeka-s/api/item_sets/440 -> http://omeka.org/s/vocabs/o#id -> 440\n",
      "http://jajohnst.si676.si.umich.edu/omeka-s/api/items/452 -> http://omeka.org/s/vocabs/o#site -> http://jajohnst.si676.si.umich.edu/omeka-s/api/sites/1\n",
      "http://jajohnst.si676.si.umich.edu/omeka-s/api/items/452 -> http://omeka.org/s/vocabs/o#is_public -> true\n",
      "http://jajohnst.si676.si.umich.edu/omeka-s/api/items/439 -> http://omeka.org/s/vocabs/o#owner -> http://jajohnst.si676.si.umich.edu/omeka-s/api/users/1\n",
      "http://jajohnst.si676.si.umich.edu/omeka-s/api/media/458 -> http://omeka.org/s/vocabs/o#id -> 458\n",
      "http://jajohnst.si676.si.umich.edu/omeka-s/api/media/453 -> http://omeka.org/s/vocabs/o#id -> 453\n",
      "http://jajohnst.si676.si.umich.edu/omeka-s/api/items/439 -> http://omeka.org/s/vocabs/o#site -> http://jajohnst.si676.si.umich.edu/omeka-s/api/sites/2\n",
      "http://jajohnst.si676.si.umich.edu/omeka-s/api/items/438 -> http://omeka.org/s/vocabs/o#item_set -> http://jajohnst.si676.si.umich.edu/omeka-s/api/item_sets/440\n",
      "http://jajohnst.si676.si.umich.edu/omeka-s/api/items/455 -> http://omeka.org/s/vocabs/o#modified -> 2024-11-19T23:56:40+00:00\n",
      "http://jajohnst.si676.si.umich.edu/omeka-s/api/items/438 -> http://www.w3.org/1999/02/22-rdf-syntax-ns#type -> http://purl.org/dc/terms/Agent\n",
      "http://jajohnst.si676.si.umich.edu/omeka-s/api/items/455 -> http://www.w3.org/1999/02/22-rdf-syntax-ns#type -> http://purl.org/dc/dcmitype/Image\n",
      "http://jajohnst.si676.si.umich.edu/omeka-s/api/items/452 -> http://purl.org/dc/terms/title -> An image of an Orca, archived from an old website, and uploaded via the API\n",
      "http://jajohnst.si676.si.umich.edu/omeka-s/api/items/452 -> http://omeka.org/s/vocabs/o#site -> http://jajohnst.si676.si.umich.edu/omeka-s/api/sites/2\n",
      "http://jajohnst.si676.si.umich.edu/omeka-s/api/items/452 -> http://omeka.org/s/vocabs/o#modified -> 2024-11-19T15:51:54+00:00\n",
      "http://jajohnst.si676.si.umich.edu/omeka-s/api/items/438 -> http://www.w3.org/1999/02/22-rdf-syntax-ns#type -> http://omeka.org/s/vocabs/o#Item\n",
      "http://jajohnst.si676.si.umich.edu/omeka-s/api/items/438 -> http://purl.org/dc/terms/title -> Test record for J.D. Salinger RDF example\n",
      "http://jajohnst.si676.si.umich.edu/omeka-s/api/items/439 -> http://omeka.org/s/vocabs/o#item_set -> http://jajohnst.si676.si.umich.edu/omeka-s/api/item_sets/440\n",
      "http://jajohnst.si676.si.umich.edu/omeka-s/api/items/439 -> http://omeka.org/s/vocabs/o#id -> 439\n",
      "http://jajohnst.si676.si.umich.edu/omeka-s/api/items/455 -> http://omeka.org/s/vocabs/o#site -> http://jajohnst.si676.si.umich.edu/omeka-s/api/sites/1\n",
      "http://jajohnst.si676.si.umich.edu/omeka-s/api/items/439 -> http://www.w3.org/1999/02/22-rdf-syntax-ns#type -> http://purl.org/dc/terms/Agent\n",
      "http://jajohnst.si676.si.umich.edu/omeka-s/api/items/457 -> http://omeka.org/s/vocabs/o#modified -> 2024-11-19T23:49:55+00:00\n",
      "http://jajohnst.si676.si.umich.edu/omeka-s/api/items/455 -> http://omeka.org/s/vocabs/o#resource_class -> http://jajohnst.si676.si.umich.edu/omeka-s/api/resource_classes/26\n",
      "http://jajohnst.si676.si.umich.edu/omeka-s/api/items/457 -> http://omeka.org/s/vocabs/o#id -> 457\n",
      "http://jajohnst.si676.si.umich.edu/omeka-s/api/items/439 -> http://omeka.org/s/vocabs/o#modified -> 2024-11-19T16:53:07+00:00\n",
      "http://jajohnst.si676.si.umich.edu/omeka-s/api/items/439 -> http://www.w3.org/1999/02/22-rdf-syntax-ns#type -> http://omeka.org/s/vocabs/o#Item\n",
      "http://jajohnst.si676.si.umich.edu/omeka-s/api/items/452 -> http://omeka.org/s/vocabs/o#title -> An image of an Orca, archived from an old website, and uploaded via the API\n",
      "http://jajohnst.si676.si.umich.edu/omeka-s/api/items/438 -> http://omeka.org/s/vocabs/o#site -> http://jajohnst.si676.si.umich.edu/omeka-s/api/sites/1\n",
      "http://jajohnst.si676.si.umich.edu/omeka-s/api/items/439 -> http://xmlns.com/foaf/0.1/name -> Herman Melvill\n",
      "http://jajohnst.si676.si.umich.edu/omeka-s/api/sites/1 -> http://omeka.org/s/vocabs/o#id -> 1\n",
      "http://jajohnst.si676.si.umich.edu/omeka-s/api/items/438 -> http://xmlns.com/foaf/0.1/name -> J.D. Salinger\n",
      "http://jajohnst.si676.si.umich.edu/omeka-s/api/items/438 -> http://omeka.org/s/vocabs/o#title -> Test record for J.D. Salinger RDF example\n",
      "http://jajohnst.si676.si.umich.edu/omeka-s/api/items/438 -> http://omeka.org/s/vocabs/o#is_public -> true\n",
      "http://jajohnst.si676.si.umich.edu/omeka-s/api/items/438 -> http://omeka.org/s/vocabs/o#created -> 2024-11-18T01:11:42+00:00\n",
      "http://jajohnst.si676.si.umich.edu/omeka-s/api/items/455 -> http://omeka.org/s/vocabs/o#owner -> http://jajohnst.si676.si.umich.edu/omeka-s/api/users/1\n"
     ]
    }
   ],
   "source": [
    "for s, p, o in g:\n",
    "    print(f\"{s} -> {p} -> {o}\")"
   ]
  },
  {
   "cell_type": "code",
   "execution_count": 20,
   "metadata": {},
   "outputs": [
    {
     "name": "stdout",
     "output_type": "stream",
     "text": [
      "(rdflib.term.URIRef('http://jajohnst.si676.si.umich.edu/omeka-s/api/items/455'), rdflib.term.URIRef('http://omeka.org/s/vocabs/o#media'), rdflib.term.URIRef('http://jajohnst.si676.si.umich.edu/omeka-s/api/media/456'))\n",
      "(rdflib.term.URIRef('http://jajohnst.si676.si.umich.edu/omeka-s/api/items/455'), rdflib.term.URIRef('http://omeka.org/s/vocabs/o#id'), rdflib.term.Literal('455', datatype=rdflib.term.URIRef('http://www.w3.org/2001/XMLSchema#integer')))\n",
      "(rdflib.term.URIRef('http://jajohnst.si676.si.umich.edu/omeka-s/api/media/456'), rdflib.term.URIRef('http://omeka.org/s/vocabs/o#id'), rdflib.term.Literal('456', datatype=rdflib.term.URIRef('http://www.w3.org/2001/XMLSchema#integer')))\n",
      "(rdflib.term.URIRef('http://jajohnst.si676.si.umich.edu/omeka-s/api/items/457'), rdflib.term.URIRef('http://omeka.org/s/vocabs/o#site'), rdflib.term.URIRef('http://jajohnst.si676.si.umich.edu/omeka-s/api/sites/2'))\n",
      "(rdflib.term.URIRef('http://jajohnst.si676.si.umich.edu/omeka-s/api/items/455'), rdflib.term.URIRef('http://omeka.org/s/vocabs/o#item_set'), rdflib.term.URIRef('http://jajohnst.si676.si.umich.edu/omeka-s/api/item_sets/440'))\n",
      "(rdflib.term.URIRef('http://jajohnst.si676.si.umich.edu/omeka-s/api/items/455'), rdflib.term.URIRef('http://omeka.org/s/vocabs/o#site'), rdflib.term.URIRef('http://jajohnst.si676.si.umich.edu/omeka-s/api/sites/2'))\n",
      "(rdflib.term.URIRef('http://jajohnst.si676.si.umich.edu/omeka-s/api/items/439'), rdflib.term.URIRef('http://omeka.org/s/vocabs/o#is_public'), rdflib.term.Literal('true', datatype=rdflib.term.URIRef('http://www.w3.org/2001/XMLSchema#boolean')))\n",
      "(rdflib.term.URIRef('http://jajohnst.si676.si.umich.edu/omeka-s/api/items/457'), rdflib.term.URIRef('http://omeka.org/s/vocabs/o#media'), rdflib.term.URIRef('http://jajohnst.si676.si.umich.edu/omeka-s/api/media/458'))\n",
      "(rdflib.term.URIRef('http://jajohnst.si676.si.umich.edu/omeka-s/api/items/438'), rdflib.term.URIRef('http://omeka.org/s/vocabs/o#id'), rdflib.term.Literal('438', datatype=rdflib.term.URIRef('http://www.w3.org/2001/XMLSchema#integer')))\n",
      "(rdflib.term.URIRef('http://jajohnst.si676.si.umich.edu/omeka-s/api/items/438'), rdflib.term.URIRef('http://omeka.org/s/vocabs/o#site'), rdflib.term.URIRef('http://jajohnst.si676.si.umich.edu/omeka-s/api/sites/2'))\n",
      "(rdflib.term.URIRef('http://jajohnst.si676.si.umich.edu/omeka-s/api/items/452'), rdflib.term.URIRef('http://omeka.org/s/vocabs/o#id'), rdflib.term.Literal('452', datatype=rdflib.term.URIRef('http://www.w3.org/2001/XMLSchema#integer')))\n",
      "(rdflib.term.URIRef('http://jajohnst.si676.si.umich.edu/omeka-s/api/resource_classes/1'), rdflib.term.URIRef('http://omeka.org/s/vocabs/o#id'), rdflib.term.Literal('1', datatype=rdflib.term.URIRef('http://www.w3.org/2001/XMLSchema#integer')))\n",
      "(rdflib.term.URIRef('http://jajohnst.si676.si.umich.edu/omeka-s/api/items/457'), rdflib.term.URIRef('http://omeka.org/s/vocabs/o#item_set'), rdflib.term.URIRef('http://jajohnst.si676.si.umich.edu/omeka-s/api/item_sets/440'))\n",
      "(rdflib.term.URIRef('http://jajohnst.si676.si.umich.edu/omeka-s/api/items/452'), rdflib.term.URIRef('http://omeka.org/s/vocabs/o#primary_media'), rdflib.term.URIRef('http://jajohnst.si676.si.umich.edu/omeka-s/api/media/453'))\n",
      "(rdflib.term.URIRef('http://jajohnst.si676.si.umich.edu/omeka-s/api/items/438'), rdflib.term.URIRef('http://omeka.org/s/vocabs/o#resource_class'), rdflib.term.URIRef('http://jajohnst.si676.si.umich.edu/omeka-s/api/resource_classes/1'))\n",
      "(rdflib.term.URIRef('http://jajohnst.si676.si.umich.edu/omeka-s/api/items/452'), rdflib.term.URIRef('http://omeka.org/s/vocabs/o#resource_class'), rdflib.term.URIRef('http://jajohnst.si676.si.umich.edu/omeka-s/api/resource_classes/26'))\n",
      "(rdflib.term.URIRef('http://jajohnst.si676.si.umich.edu/omeka-s/api/items/452'), rdflib.term.URIRef('http://omeka.org/s/vocabs/o#media'), rdflib.term.URIRef('http://jajohnst.si676.si.umich.edu/omeka-s/api/media/453'))\n",
      "(rdflib.term.URIRef('http://jajohnst.si676.si.umich.edu/omeka-s/api/items/455'), rdflib.term.URIRef('http://omeka.org/s/vocabs/o#created'), rdflib.term.Literal('2024-11-19T16:40:00+00:00', datatype=rdflib.term.URIRef('http://www.w3.org/2001/XMLSchema#dateTime')))\n",
      "(rdflib.term.URIRef('http://jajohnst.si676.si.umich.edu/omeka-s/api/sites/2'), rdflib.term.URIRef('http://omeka.org/s/vocabs/o#id'), rdflib.term.Literal('2', datatype=rdflib.term.URIRef('http://www.w3.org/2001/XMLSchema#integer')))\n",
      "(rdflib.term.URIRef('http://jajohnst.si676.si.umich.edu/omeka-s/api/items/439'), rdflib.term.URIRef('http://omeka.org/s/vocabs/o#title'), rdflib.term.Literal('Test record for Herman Melvill for linked data demonstrations'))\n",
      "(rdflib.term.URIRef('http://jajohnst.si676.si.umich.edu/omeka-s/api/items/439'), rdflib.term.URIRef('http://omeka.org/s/vocabs/o#resource_class'), rdflib.term.URIRef('http://jajohnst.si676.si.umich.edu/omeka-s/api/resource_classes/1'))\n",
      "(rdflib.term.URIRef('http://jajohnst.si676.si.umich.edu/omeka-s/api/items/439'), rdflib.term.URIRef('http://omeka.org/s/vocabs/o#created'), rdflib.term.Literal('2024-11-18T01:14:13+00:00', datatype=rdflib.term.URIRef('http://www.w3.org/2001/XMLSchema#dateTime')))\n",
      "(rdflib.term.URIRef('http://jajohnst.si676.si.umich.edu/omeka-s/api/items/452'), rdflib.term.URIRef('http://omeka.org/s/vocabs/o#owner'), rdflib.term.URIRef('http://jajohnst.si676.si.umich.edu/omeka-s/api/users/1'))\n",
      "(rdflib.term.URIRef('http://jajohnst.si676.si.umich.edu/omeka-s/api/items/457'), rdflib.term.URIRef('http://omeka.org/s/vocabs/o#site'), rdflib.term.URIRef('http://jajohnst.si676.si.umich.edu/omeka-s/api/sites/1'))\n",
      "(rdflib.term.URIRef('http://jajohnst.si676.si.umich.edu/omeka-s/api/items/455'), rdflib.term.URIRef('http://omeka.org/s/vocabs/o#is_public'), rdflib.term.Literal('true', datatype=rdflib.term.URIRef('http://www.w3.org/2001/XMLSchema#boolean')))\n",
      "(rdflib.term.URIRef('http://jajohnst.si676.si.umich.edu/omeka-s/api/items/438'), rdflib.term.URIRef('http://omeka.org/s/vocabs/o#modified'), rdflib.term.Literal('2024-11-19T16:53:07+00:00', datatype=rdflib.term.URIRef('http://www.w3.org/2001/XMLSchema#dateTime')))\n",
      "(rdflib.term.URIRef('http://jajohnst.si676.si.umich.edu/omeka-s/api/items/457'), rdflib.term.URIRef('http://omeka.org/s/vocabs/o#is_public'), rdflib.term.Literal('true', datatype=rdflib.term.URIRef('http://www.w3.org/2001/XMLSchema#boolean')))\n",
      "(rdflib.term.URIRef('http://jajohnst.si676.si.umich.edu/omeka-s/api/resource_classes/26'), rdflib.term.URIRef('http://omeka.org/s/vocabs/o#id'), rdflib.term.Literal('26', datatype=rdflib.term.URIRef('http://www.w3.org/2001/XMLSchema#integer')))\n",
      "(rdflib.term.URIRef('http://jajohnst.si676.si.umich.edu/omeka-s/api/items/452'), rdflib.term.URIRef('http://omeka.org/s/vocabs/o#item_set'), rdflib.term.URIRef('http://jajohnst.si676.si.umich.edu/omeka-s/api/item_sets/440'))\n",
      "(rdflib.term.URIRef('http://jajohnst.si676.si.umich.edu/omeka-s/api/items/452'), rdflib.term.URIRef('http://omeka.org/s/vocabs/o#created'), rdflib.term.Literal('2024-11-19T15:42:08+00:00', datatype=rdflib.term.URIRef('http://www.w3.org/2001/XMLSchema#dateTime')))\n",
      "(rdflib.term.URIRef('http://jajohnst.si676.si.umich.edu/omeka-s/api/users/1'), rdflib.term.URIRef('http://omeka.org/s/vocabs/o#id'), rdflib.term.Literal('1', datatype=rdflib.term.URIRef('http://www.w3.org/2001/XMLSchema#integer')))\n",
      "(rdflib.term.URIRef('http://jajohnst.si676.si.umich.edu/omeka-s/api/items/457'), rdflib.term.URIRef('http://omeka.org/s/vocabs/o#primary_media'), rdflib.term.URIRef('http://jajohnst.si676.si.umich.edu/omeka-s/api/media/458'))\n",
      "(rdflib.term.URIRef('http://jajohnst.si676.si.umich.edu/omeka-s/api/items/457'), rdflib.term.URIRef('http://omeka.org/s/vocabs/o#created'), rdflib.term.Literal('2024-11-19T23:49:55+00:00', datatype=rdflib.term.URIRef('http://www.w3.org/2001/XMLSchema#dateTime')))\n",
      "(rdflib.term.URIRef('http://jajohnst.si676.si.umich.edu/omeka-s/api/items/457'), rdflib.term.URIRef('http://omeka.org/s/vocabs/o#owner'), rdflib.term.URIRef('http://jajohnst.si676.si.umich.edu/omeka-s/api/users/1'))\n",
      "(rdflib.term.URIRef('http://jajohnst.si676.si.umich.edu/omeka-s/api/items/455'), rdflib.term.URIRef('http://omeka.org/s/vocabs/o#primary_media'), rdflib.term.URIRef('http://jajohnst.si676.si.umich.edu/omeka-s/api/media/456'))\n",
      "(rdflib.term.URIRef('http://jajohnst.si676.si.umich.edu/omeka-s/api/items/439'), rdflib.term.URIRef('http://omeka.org/s/vocabs/o#site'), rdflib.term.URIRef('http://jajohnst.si676.si.umich.edu/omeka-s/api/sites/1'))\n",
      "(rdflib.term.URIRef('http://jajohnst.si676.si.umich.edu/omeka-s/api/items/455'), rdflib.term.URIRef('http://omeka.org/s/vocabs/o#title'), rdflib.term.Literal('An image of an Orca, archived from an old website, and uploaded via the API'))\n",
      "(rdflib.term.URIRef('http://jajohnst.si676.si.umich.edu/omeka-s/api/items/438'), rdflib.term.URIRef('http://omeka.org/s/vocabs/o#owner'), rdflib.term.URIRef('http://jajohnst.si676.si.umich.edu/omeka-s/api/users/1'))\n",
      "(rdflib.term.URIRef('http://jajohnst.si676.si.umich.edu/omeka-s/api/item_sets/440'), rdflib.term.URIRef('http://omeka.org/s/vocabs/o#id'), rdflib.term.Literal('440', datatype=rdflib.term.URIRef('http://www.w3.org/2001/XMLSchema#integer')))\n",
      "(rdflib.term.URIRef('http://jajohnst.si676.si.umich.edu/omeka-s/api/items/452'), rdflib.term.URIRef('http://omeka.org/s/vocabs/o#site'), rdflib.term.URIRef('http://jajohnst.si676.si.umich.edu/omeka-s/api/sites/1'))\n",
      "(rdflib.term.URIRef('http://jajohnst.si676.si.umich.edu/omeka-s/api/items/452'), rdflib.term.URIRef('http://omeka.org/s/vocabs/o#is_public'), rdflib.term.Literal('true', datatype=rdflib.term.URIRef('http://www.w3.org/2001/XMLSchema#boolean')))\n",
      "(rdflib.term.URIRef('http://jajohnst.si676.si.umich.edu/omeka-s/api/items/439'), rdflib.term.URIRef('http://omeka.org/s/vocabs/o#owner'), rdflib.term.URIRef('http://jajohnst.si676.si.umich.edu/omeka-s/api/users/1'))\n",
      "(rdflib.term.URIRef('http://jajohnst.si676.si.umich.edu/omeka-s/api/media/458'), rdflib.term.URIRef('http://omeka.org/s/vocabs/o#id'), rdflib.term.Literal('458', datatype=rdflib.term.URIRef('http://www.w3.org/2001/XMLSchema#integer')))\n",
      "(rdflib.term.URIRef('http://jajohnst.si676.si.umich.edu/omeka-s/api/media/453'), rdflib.term.URIRef('http://omeka.org/s/vocabs/o#id'), rdflib.term.Literal('453', datatype=rdflib.term.URIRef('http://www.w3.org/2001/XMLSchema#integer')))\n",
      "(rdflib.term.URIRef('http://jajohnst.si676.si.umich.edu/omeka-s/api/items/439'), rdflib.term.URIRef('http://omeka.org/s/vocabs/o#site'), rdflib.term.URIRef('http://jajohnst.si676.si.umich.edu/omeka-s/api/sites/2'))\n",
      "(rdflib.term.URIRef('http://jajohnst.si676.si.umich.edu/omeka-s/api/items/438'), rdflib.term.URIRef('http://omeka.org/s/vocabs/o#item_set'), rdflib.term.URIRef('http://jajohnst.si676.si.umich.edu/omeka-s/api/item_sets/440'))\n",
      "(rdflib.term.URIRef('http://jajohnst.si676.si.umich.edu/omeka-s/api/items/455'), rdflib.term.URIRef('http://omeka.org/s/vocabs/o#modified'), rdflib.term.Literal('2024-11-19T23:56:40+00:00', datatype=rdflib.term.URIRef('http://www.w3.org/2001/XMLSchema#dateTime')))\n",
      "(rdflib.term.URIRef('http://jajohnst.si676.si.umich.edu/omeka-s/api/items/452'), rdflib.term.URIRef('http://omeka.org/s/vocabs/o#site'), rdflib.term.URIRef('http://jajohnst.si676.si.umich.edu/omeka-s/api/sites/2'))\n",
      "(rdflib.term.URIRef('http://jajohnst.si676.si.umich.edu/omeka-s/api/items/452'), rdflib.term.URIRef('http://omeka.org/s/vocabs/o#modified'), rdflib.term.Literal('2024-11-19T15:51:54+00:00', datatype=rdflib.term.URIRef('http://www.w3.org/2001/XMLSchema#dateTime')))\n",
      "(rdflib.term.URIRef('http://jajohnst.si676.si.umich.edu/omeka-s/api/items/439'), rdflib.term.URIRef('http://omeka.org/s/vocabs/o#item_set'), rdflib.term.URIRef('http://jajohnst.si676.si.umich.edu/omeka-s/api/item_sets/440'))\n",
      "(rdflib.term.URIRef('http://jajohnst.si676.si.umich.edu/omeka-s/api/items/439'), rdflib.term.URIRef('http://omeka.org/s/vocabs/o#id'), rdflib.term.Literal('439', datatype=rdflib.term.URIRef('http://www.w3.org/2001/XMLSchema#integer')))\n",
      "(rdflib.term.URIRef('http://jajohnst.si676.si.umich.edu/omeka-s/api/items/455'), rdflib.term.URIRef('http://omeka.org/s/vocabs/o#site'), rdflib.term.URIRef('http://jajohnst.si676.si.umich.edu/omeka-s/api/sites/1'))\n",
      "(rdflib.term.URIRef('http://jajohnst.si676.si.umich.edu/omeka-s/api/items/457'), rdflib.term.URIRef('http://omeka.org/s/vocabs/o#modified'), rdflib.term.Literal('2024-11-19T23:49:55+00:00', datatype=rdflib.term.URIRef('http://www.w3.org/2001/XMLSchema#dateTime')))\n",
      "(rdflib.term.URIRef('http://jajohnst.si676.si.umich.edu/omeka-s/api/items/455'), rdflib.term.URIRef('http://omeka.org/s/vocabs/o#resource_class'), rdflib.term.URIRef('http://jajohnst.si676.si.umich.edu/omeka-s/api/resource_classes/26'))\n",
      "(rdflib.term.URIRef('http://jajohnst.si676.si.umich.edu/omeka-s/api/items/457'), rdflib.term.URIRef('http://omeka.org/s/vocabs/o#id'), rdflib.term.Literal('457', datatype=rdflib.term.URIRef('http://www.w3.org/2001/XMLSchema#integer')))\n",
      "(rdflib.term.URIRef('http://jajohnst.si676.si.umich.edu/omeka-s/api/items/439'), rdflib.term.URIRef('http://omeka.org/s/vocabs/o#modified'), rdflib.term.Literal('2024-11-19T16:53:07+00:00', datatype=rdflib.term.URIRef('http://www.w3.org/2001/XMLSchema#dateTime')))\n",
      "(rdflib.term.URIRef('http://jajohnst.si676.si.umich.edu/omeka-s/api/items/452'), rdflib.term.URIRef('http://omeka.org/s/vocabs/o#title'), rdflib.term.Literal('An image of an Orca, archived from an old website, and uploaded via the API'))\n",
      "(rdflib.term.URIRef('http://jajohnst.si676.si.umich.edu/omeka-s/api/items/438'), rdflib.term.URIRef('http://omeka.org/s/vocabs/o#site'), rdflib.term.URIRef('http://jajohnst.si676.si.umich.edu/omeka-s/api/sites/1'))\n",
      "(rdflib.term.URIRef('http://jajohnst.si676.si.umich.edu/omeka-s/api/sites/1'), rdflib.term.URIRef('http://omeka.org/s/vocabs/o#id'), rdflib.term.Literal('1', datatype=rdflib.term.URIRef('http://www.w3.org/2001/XMLSchema#integer')))\n",
      "(rdflib.term.URIRef('http://jajohnst.si676.si.umich.edu/omeka-s/api/items/438'), rdflib.term.URIRef('http://omeka.org/s/vocabs/o#title'), rdflib.term.Literal('Test record for J.D. Salinger RDF example'))\n",
      "(rdflib.term.URIRef('http://jajohnst.si676.si.umich.edu/omeka-s/api/items/438'), rdflib.term.URIRef('http://omeka.org/s/vocabs/o#is_public'), rdflib.term.Literal('true', datatype=rdflib.term.URIRef('http://www.w3.org/2001/XMLSchema#boolean')))\n",
      "(rdflib.term.URIRef('http://jajohnst.si676.si.umich.edu/omeka-s/api/items/438'), rdflib.term.URIRef('http://omeka.org/s/vocabs/o#created'), rdflib.term.Literal('2024-11-18T01:11:42+00:00', datatype=rdflib.term.URIRef('http://www.w3.org/2001/XMLSchema#dateTime')))\n",
      "(rdflib.term.URIRef('http://jajohnst.si676.si.umich.edu/omeka-s/api/items/455'), rdflib.term.URIRef('http://omeka.org/s/vocabs/o#owner'), rdflib.term.URIRef('http://jajohnst.si676.si.umich.edu/omeka-s/api/users/1'))\n"
     ]
    }
   ],
   "source": [
    "for triple in g:\n",
    "    if 'http://omeka.org/s/vocabs/o#' in triple[1]:\n",
    "        print(triple)"
   ]
  },
  {
   "cell_type": "code",
   "execution_count": 21,
   "metadata": {},
   "outputs": [
    {
     "name": "stdout",
     "output_type": "stream",
     "text": [
      "removed 63 statements\n"
     ]
    }
   ],
   "source": [
    "count = 0\n",
    "\n",
    "for triple in g:\n",
    "    if 'http://omeka.org/s/vocabs/o#' in triple[1]:\n",
    "        count += 1\n",
    "        g.remove(triple)\n",
    "\n",
    "print(f'removed {count} statements')"
   ]
  },
  {
   "cell_type": "code",
   "execution_count": 22,
   "metadata": {},
   "outputs": [
    {
     "data": {
      "text/plain": [
       "15"
      ]
     },
     "execution_count": 22,
     "metadata": {},
     "output_type": "execute_result"
    }
   ],
   "source": [
    "len(g)"
   ]
  },
  {
   "cell_type": "code",
   "execution_count": 23,
   "metadata": {},
   "outputs": [
    {
     "name": "stdout",
     "output_type": "stream",
     "text": [
      "@prefix dcterms: <http://purl.org/dc/terms/> .\n",
      "@prefix foaf: <http://xmlns.com/foaf/0.1/> .\n",
      "\n",
      "<http://jajohnst.si676.si.umich.edu/omeka-s/api/items/438> a <http://omeka.org/s/vocabs/o#Item>,\n",
      "        dcterms:Agent ;\n",
      "    dcterms:title \"Test record for J.D. Salinger RDF example\" ;\n",
      "    foaf:name \"J.D. Salinger\" .\n",
      "\n",
      "<http://jajohnst.si676.si.umich.edu/omeka-s/api/items/439> a <http://omeka.org/s/vocabs/o#Item>,\n",
      "        dcterms:Agent ;\n",
      "    dcterms:title \"Test record for Herman Melvill for linked data demonstrations\" ;\n",
      "    foaf:name \"Herman Melvill\" .\n",
      "\n",
      "<http://jajohnst.si676.si.umich.edu/omeka-s/api/items/452> a <http://omeka.org/s/vocabs/o#Item>,\n",
      "        <http://purl.org/dc/dcmitype/Image> ;\n",
      "    dcterms:title \"An image of an Orca, archived from an old website, and uploaded via the API\" .\n",
      "\n",
      "<http://jajohnst.si676.si.umich.edu/omeka-s/api/items/455> a <http://omeka.org/s/vocabs/o#Item>,\n",
      "        <http://purl.org/dc/dcmitype/Image> ;\n",
      "    dcterms:title \"An image of an Orca, archived from an old website, and uploaded via the API\" .\n",
      "\n",
      "<http://jajohnst.si676.si.umich.edu/omeka-s/api/items/457> a <http://omeka.org/s/vocabs/o#Item> .\n",
      "\n",
      "\n"
     ]
    }
   ],
   "source": [
    "print(g.serialize(format='ttl'))"
   ]
  },
  {
   "cell_type": "markdown",
   "metadata": {},
   "source": [
    "### Adding \"new data\"\n",
    "\n",
    "Provide new information, in this case as a dictionary structure.\n",
    "\n",
    "_Note: this only works if these names are already in the Omeka site's data as strings that exactly match the new data below (i.e., they are \"literals\")._"
   ]
  },
  {
   "cell_type": "code",
   "execution_count": 24,
   "metadata": {},
   "outputs": [],
   "source": [
    "newData = {\n",
    "    'J.D. Salinger' :\n",
    "        {\n",
    "        'https://schema.org/deathDate' : 2010,\n",
    "        'https://schema.org/deathPlace': 'https://en.wikipedia.org/New_York_City'\n",
    "        },\n",
    "    'Herman Melvill' :\n",
    "        {\n",
    "            'https://schema.org/deathDate' : 1862,\n",
    "            'https://schema.org/deathPlace': 'https://en.wikipedia.org/New_York_City'\n",
    "        }\n",
    "    }"
   ]
  },
  {
   "cell_type": "code",
   "execution_count": 25,
   "metadata": {},
   "outputs": [],
   "source": [
    "for nameKey in newData:\n",
    "    for s, p, o in g.triples((None, FOAF.name, Literal(nameKey))):\n",
    "        deathDate = newData[o.value]['https://schema.org/deathDate']\n",
    "        g.add((s, URIRef('https://schema.org/deathDate'), Literal(deathDate)))"
   ]
  },
  {
   "cell_type": "code",
   "execution_count": 26,
   "metadata": {},
   "outputs": [
    {
     "name": "stdout",
     "output_type": "stream",
     "text": [
      "@prefix dcterms: <http://purl.org/dc/terms/> .\n",
      "@prefix foaf: <http://xmlns.com/foaf/0.1/> .\n",
      "@prefix ns1: <https://schema.org/> .\n",
      "@prefix xsd: <http://www.w3.org/2001/XMLSchema#> .\n",
      "\n",
      "<http://jajohnst.si676.si.umich.edu/omeka-s/api/items/438> a <http://omeka.org/s/vocabs/o#Item>,\n",
      "        dcterms:Agent ;\n",
      "    dcterms:title \"Test record for J.D. Salinger RDF example\" ;\n",
      "    foaf:name \"J.D. Salinger\" ;\n",
      "    ns1:deathDate 2010 .\n",
      "\n",
      "<http://jajohnst.si676.si.umich.edu/omeka-s/api/items/439> a <http://omeka.org/s/vocabs/o#Item>,\n",
      "        dcterms:Agent ;\n",
      "    dcterms:title \"Test record for Herman Melvill for linked data demonstrations\" ;\n",
      "    foaf:name \"Herman Melvill\" ;\n",
      "    ns1:deathDate 1862 .\n",
      "\n",
      "<http://jajohnst.si676.si.umich.edu/omeka-s/api/items/452> a <http://omeka.org/s/vocabs/o#Item>,\n",
      "        <http://purl.org/dc/dcmitype/Image> ;\n",
      "    dcterms:title \"An image of an Orca, archived from an old website, and uploaded via the API\" .\n",
      "\n",
      "<http://jajohnst.si676.si.umich.edu/omeka-s/api/items/455> a <http://omeka.org/s/vocabs/o#Item>,\n",
      "        <http://purl.org/dc/dcmitype/Image> ;\n",
      "    dcterms:title \"An image of an Orca, archived from an old website, and uploaded via the API\" .\n",
      "\n",
      "<http://jajohnst.si676.si.umich.edu/omeka-s/api/items/457> a <http://omeka.org/s/vocabs/o#Item> .\n",
      "\n",
      "\n"
     ]
    }
   ],
   "source": [
    "print(g.serialize())"
   ]
  },
  {
   "cell_type": "markdown",
   "metadata": {},
   "source": [
    "#### Activity: Make an Octavia Graph"
   ]
  },
  {
   "cell_type": "code",
   "execution_count": 85,
   "metadata": {},
   "outputs": [],
   "source": [
    "# create a graph\n",
    "g = Graph()\n",
    "\n",
    "# add FOAF and DC and namespaces\n",
    "g.bind('dcterms', DCTERMS)\n",
    "g.bind('foaf', FOAF)\n",
    "g.bind('loc', Namespace('http://id.loc.gov'))\n",
    "g.bind('bfwork', Namespace('https://id.loc.gov/resources/works/'))\n",
    "g.bind('wdt', Namespace('https://www.wikidata.org/wiki/'))\n",
    "g.bind('wdtprop', Namespace('https://www.wikidata.org/wiki/Property:'))\n",
    "g.bind('viaf', Namespace('https://viaf.org/viaf/'))"
   ]
  },
  {
   "cell_type": "code",
   "execution_count": 86,
   "metadata": {},
   "outputs": [
    {
     "data": {
      "text/plain": [
       "<Graph identifier=N44b471b06b8848c68ee0e80e727f4e18 (<class 'rdflib.graph.Graph'>)>"
      ]
     },
     "execution_count": 86,
     "metadata": {},
     "output_type": "execute_result"
    }
   ],
   "source": [
    "# assign some values\n",
    "octavia_URI =  URIRef('https://viaf.org/viaf/34453955/')\n",
    "octavia_name = Literal('Octavia E. Butler')\n",
    "\n",
    "parable_URI = URIRef('https://id.loc.gov/resources/works/11780767')\n",
    "parable_name = Literal('Parable of the Sower')\n",
    "\n",
    "# octavia butler, agent statements\n",
    "g.add((octavia_URI, RDF.type, FOAF.Person)) # assert Octavia's URI refers to a person\n",
    "g.add((octavia_URI, FOAF.name, octavia_name)) # provide a name as a string literal\n",
    "#g.add((wdt.Q239739, RDF.type, FOAF.Person)) # assert the wikidata identifier\n",
    "g.add((octavia_URI, DCTERMS.identifier, wdt.Q239739)) # assert name relation as a string literal\n",
    "g.add((octavia_URI, DCTERMS.creator, parable_URI)) # assert bibframe work authorship\n",
    "g.add((octavia_URI, DCTERMS.creator, wdt.Q3823447)) # assert wikidata work authorship\n",
    "g.add((octavia_URI, DCTERMS.identifier, URIRef('http://id.loc.gov/rwo/agents/n79056654'))) # assert Octavia name record\n",
    "\n",
    "# parable of the sower, work statements Q3823447\n",
    "g.add((wdt.Q3823447, URIRef('https://www.wikidata.org/wiki/Property:1476'), parable_name)) #assert title\n",
    "g.add((wdt.Q3823447, URIRef('https://www.wikidata.org/wiki/Property:P50'), octavia_URI)) #assert authorship relationship\n",
    "g.add((wdt.Q3823447, DCTERMS.identifier, parable_URI)) # assert work identifier relation"
   ]
  },
  {
   "cell_type": "code",
   "execution_count": 87,
   "metadata": {},
   "outputs": [
    {
     "name": "stdout",
     "output_type": "stream",
     "text": [
      "@prefix bfwork: <https://id.loc.gov/resources/works/> .\n",
      "@prefix dcterms: <http://purl.org/dc/terms/> .\n",
      "@prefix foaf: <http://xmlns.com/foaf/0.1/> .\n",
      "@prefix wdt: <https://www.wikidata.org/wiki/> .\n",
      "@prefix wdtprop: <https://www.wikidata.org/wiki/Property:> .\n",
      "\n",
      "<https://viaf.org/viaf/34453955/> a foaf:Person ;\n",
      "    dcterms:creator bfwork:11780767,\n",
      "        wdt:Q3823447 ;\n",
      "    dcterms:identifier <http://id.loc.gov/rwo/agents/n79056654>,\n",
      "        wdt:Q239739 ;\n",
      "    foaf:name \"Octavia E. Butler\" .\n",
      "\n",
      "wdt:Q3823447 dcterms:identifier bfwork:11780767 ;\n",
      "    wdtprop:1476 \"Parable of the Sower\" ;\n",
      "    wdtprop:P50 <https://viaf.org/viaf/34453955/> .\n",
      "\n",
      "\n"
     ]
    }
   ],
   "source": [
    "print(g.serialize())"
   ]
  },
  {
   "cell_type": "code",
   "execution_count": 88,
   "metadata": {},
   "outputs": [
    {
     "name": "stdout",
     "output_type": "stream",
     "text": [
      "[\n",
      "  {\n",
      "    \"@id\": \"https://www.wikidata.org/wiki/Q3823447\",\n",
      "    \"http://purl.org/dc/terms/identifier\": [\n",
      "      {\n",
      "        \"@id\": \"https://id.loc.gov/resources/works/11780767\"\n",
      "      }\n",
      "    ],\n",
      "    \"https://www.wikidata.org/wiki/Property:1476\": [\n",
      "      {\n",
      "        \"@value\": \"Parable of the Sower\"\n",
      "      }\n",
      "    ],\n",
      "    \"https://www.wikidata.org/wiki/Property:P50\": [\n",
      "      {\n",
      "        \"@id\": \"https://viaf.org/viaf/34453955/\"\n",
      "      }\n",
      "    ]\n",
      "  },\n",
      "  {\n",
      "    \"@id\": \"https://viaf.org/viaf/34453955/\",\n",
      "    \"@type\": [\n",
      "      \"http://xmlns.com/foaf/0.1/Person\"\n",
      "    ],\n",
      "    \"http://purl.org/dc/terms/creator\": [\n",
      "      {\n",
      "        \"@id\": \"https://id.loc.gov/resources/works/11780767\"\n",
      "      },\n",
      "      {\n",
      "        \"@id\": \"https://www.wikidata.org/wiki/Q3823447\"\n",
      "      }\n",
      "    ],\n",
      "    \"http://purl.org/dc/terms/identifier\": [\n",
      "      {\n",
      "        \"@id\": \"https://www.wikidata.org/wiki/Q239739\"\n",
      "      },\n",
      "      {\n",
      "        \"@id\": \"http://id.loc.gov/rwo/agents/n79056654\"\n",
      "      }\n",
      "    ],\n",
      "    \"http://xmlns.com/foaf/0.1/name\": [\n",
      "      {\n",
      "        \"@value\": \"Octavia E. Butler\"\n",
      "      }\n",
      "    ]\n",
      "  }\n",
      "]\n"
     ]
    }
   ],
   "source": [
    "print(g.serialize(format='json-ld'))"
   ]
  }
 ],
 "metadata": {
  "kernelspec": {
   "display_name": "base",
   "language": "python",
   "name": "python3"
  },
  "language_info": {
   "codemirror_mode": {
    "name": "ipython",
    "version": 3
   },
   "file_extension": ".py",
   "mimetype": "text/x-python",
   "name": "python",
   "nbconvert_exporter": "python",
   "pygments_lexer": "ipython3",
   "version": "3.9.18"
  }
 },
 "nbformat": 4,
 "nbformat_minor": 2
}
