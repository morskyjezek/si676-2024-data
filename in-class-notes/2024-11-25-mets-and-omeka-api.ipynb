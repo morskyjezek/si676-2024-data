{
 "cells": [
  {
   "cell_type": "markdown",
   "metadata": {},
   "source": [
    "# Class Notes\n",
    "\n",
    "_November 25, 2024_\n",
    "\n"
   ]
  },
  {
   "cell_type": "code",
   "execution_count": 5,
   "metadata": {},
   "outputs": [],
   "source": [
    "import xml.etree.ElementTree as ET\n",
    "from os.path import join\n",
    "from lxml import etree "
   ]
  },
  {
   "cell_type": "code",
   "execution_count": 2,
   "metadata": {},
   "outputs": [],
   "source": [
    "mets_path = join('..','data','xml','oac_tf238nb201_mets.xml')"
   ]
  },
  {
   "cell_type": "code",
   "execution_count": 3,
   "metadata": {},
   "outputs": [
    {
     "name": "stdout",
     "output_type": "stream",
     "text": [
      "../data/xml/oac_tf238nb201_mets.xml\n"
     ]
    }
   ],
   "source": [
    "print(mets_path)"
   ]
  },
  {
   "cell_type": "code",
   "execution_count": 4,
   "metadata": {},
   "outputs": [],
   "source": [
    "mets_root = ET.parse(mets_path).getroot()"
   ]
  },
  {
   "cell_type": "code",
   "execution_count": 5,
   "metadata": {},
   "outputs": [
    {
     "data": {
      "text/plain": [
       "xml.etree.ElementTree.Element"
      ]
     },
     "execution_count": 5,
     "metadata": {},
     "output_type": "execute_result"
    }
   ],
   "source": [
    "type(mets_root)"
   ]
  },
  {
   "cell_type": "code",
   "execution_count": 6,
   "metadata": {},
   "outputs": [
    {
     "data": {
      "text/plain": [
       "'{http://www.loc.gov/METS/}mets'"
      ]
     },
     "execution_count": 6,
     "metadata": {},
     "output_type": "execute_result"
    }
   ],
   "source": [
    "mets_root.tag"
   ]
  },
  {
   "cell_type": "code",
   "execution_count": 7,
   "metadata": {},
   "outputs": [
    {
     "data": {
      "text/plain": [
       "{'{http://www.w3.org/2001/XMLSchema-instance}schemaLocation': 'http://www.loc.gov/METS/  http://www.loc.gov/standards/mets/mets.xsd  http://www.loc.gov/standards/rights/METSRights.xsd  http://www.loc.gov/mods/v3/  http://www.loc.gov/standards/mods/v3/mods-3-4.xsd  http://www.loc.gov/mix/v10/  http://www.loc.gov/standards/mix/mix10/mix10.xsd  info:lc/xmlns/premis-v2/  http://www.loc.gov/standards/premis/premis.xsd',\n",
       " 'OBJID': 'ark:/13030/tf238nb201',\n",
       " 'LABEL': 'Cable spinning',\n",
       " 'PROFILE': 'http://www.loc.gov/mets/profiles/00000013.xml',\n",
       " 'TYPE': 'generic'}"
      ]
     },
     "execution_count": 7,
     "metadata": {},
     "output_type": "execute_result"
    }
   ],
   "source": [
    "mets_root.attrib"
   ]
  },
  {
   "cell_type": "code",
   "execution_count": 8,
   "metadata": {},
   "outputs": [],
   "source": [
    "ns = {\n",
    "    'mets':'http://www.loc.gov/METS/', \n",
    "    'mix':'http://www.loc.gov/mix/',\n",
    "    'moa2':'http://sunsite.berkeley.edu/MOA2/',\n",
    "    'cdl':'http://www.cdlib.org/',\n",
    "    'xsi':'http://www.w3.org/2001/XMLSchema-instance',\n",
    "    'premis':'http://www.loc.gov/standards/premis/v2',\n",
    "    'xlink':'http://www.w3.org/1999/xlink',\n",
    "    'rts':'http://cosimo.stanford.edu/sdr/metsrights/',\n",
    "    'mods':'http://www.loc.gov/mods/v3'\n",
    "}"
   ]
  },
  {
   "cell_type": "markdown",
   "metadata": {},
   "source": [
    "Exploring METS"
   ]
  },
  {
   "cell_type": "code",
   "execution_count": 11,
   "metadata": {},
   "outputs": [],
   "source": [
    "mets_root = etree.parse(mets_path).getroot()"
   ]
  },
  {
   "cell_type": "code",
   "execution_count": 12,
   "metadata": {},
   "outputs": [
    {
     "name": "stdout",
     "output_type": "stream",
     "text": [
      "{http://www.loc.gov/METS/}metsHdr {'CREATEDATE': '2009-05-26T02:15:02', 'LASTMODDATE': '2016-05-25T09:38:37'}\n",
      "{http://www.loc.gov/METS/}dmdSec {'ID': 'DMR1'}\n",
      "{http://www.loc.gov/METS/}dmdSec {'ID': 'DMR2'}\n",
      "{http://www.loc.gov/METS/}dmdSec {'ID': 'DM1'}\n",
      "{http://www.loc.gov/METS/}amdSec {}\n",
      "{http://www.loc.gov/METS/}fileSec {}\n",
      "{http://www.loc.gov/METS/}structMap {}\n"
     ]
    }
   ],
   "source": [
    "for top_level in mets_root:\n",
    "    print(top_level.tag, top_level.attrib)"
   ]
  },
  {
   "cell_type": "code",
   "execution_count": 13,
   "metadata": {},
   "outputs": [],
   "source": [
    "structMap = mets_root.find('.//mets:structMap', ns)"
   ]
  },
  {
   "cell_type": "code",
   "execution_count": 14,
   "metadata": {},
   "outputs": [
    {
     "name": "stdout",
     "output_type": "stream",
     "text": [
      "<Element {http://www.loc.gov/METS/}structMap at 0x7fec18996740>\n"
     ]
    }
   ],
   "source": [
    "print(structMap)"
   ]
  },
  {
   "cell_type": "code",
   "execution_count": 15,
   "metadata": {},
   "outputs": [
    {
     "name": "stdout",
     "output_type": "stream",
     "text": [
      "<mets:structMap xmlns:mets=\"http://www.loc.gov/METS/\" xmlns=\"http://www.loc.gov/METS/\" xmlns:mix=\"http://www.loc.gov/mix/\" xmlns:moa2=\"http://sunsite.berkeley.edu/MOA2/\" xmlns:cdl=\"http://www.cdlib.org/\" xmlns:xsi=\"http://www.w3.org/2001/XMLSchema-instance\" xmlns:premis=\"http://www.loc.gov/standards/premis/v2\" xmlns:xlink=\"http://www.w3.org/1999/xlink\" xmlns:rts=\"http://cosimo.stanford.edu/sdr/metsrights/\" xmlns:mods=\"http://www.loc.gov/mods/v3\">\n",
      " <mets:div TYPE=\"item\" LABEL=\"Cable spinning\" ADMID=\"RMD1\" DMDID=\"DMR1 DMR2 DM1\">\n",
      "   <mets:div TYPE=\"image/master\"><mets:fptr FILEID=\"FID1\"/></mets:div>\n",
      "   <mets:div TYPE=\"image/thumbnail\"><mets:fptr FILEID=\"thumbnail\" cdl:X=\"192\" cdl:Y=\"128\"/></mets:div>\n",
      "   <mets:div TYPE=\"image/reference\"><mets:fptr FILEID=\"FID3\" cdl:X=\"768\" cdl:Y=\"512\"/></mets:div>\n",
      "   <mets:div TYPE=\"image/reference\"><mets:fptr FILEID=\"FID4\" cdl:X=\"1536\" cdl:Y=\"1024\"/></mets:div>\n",
      " </mets:div>\n",
      "</mets:structMap>\n",
      "\n",
      "\n",
      "\n"
     ]
    }
   ],
   "source": [
    "print(etree.tostring(structMap, encoding='utf-8', pretty_print=True).decode('utf-8'))"
   ]
  },
  {
   "cell_type": "code",
   "execution_count": 17,
   "metadata": {},
   "outputs": [
    {
     "name": "stdout",
     "output_type": "stream",
     "text": [
      "<mets:metsHdr xmlns:mets=\"http://www.loc.gov/METS/\" xmlns=\"http://www.loc.gov/METS/\" xmlns:mix=\"http://www.loc.gov/mix/\" xmlns:moa2=\"http://sunsite.berkeley.edu/MOA2/\" xmlns:cdl=\"http://www.cdlib.org/\" xmlns:xsi=\"http://www.w3.org/2001/XMLSchema-instance\" xmlns:premis=\"http://www.loc.gov/standards/premis/v2\" xmlns:xlink=\"http://www.w3.org/1999/xlink\" xmlns:rts=\"http://cosimo.stanford.edu/sdr/metsrights/\" xmlns:mods=\"http://www.loc.gov/mods/v3\" CREATEDATE=\"2009-05-26T02:15:02\" LASTMODDATE=\"2016-05-25T09:38:37\">\n",
      "  <mets:agent ROLE=\"CREATOR\" TYPE=\"ORGANIZATION\">\n",
      "   <mets:name>University of California, Berkeley::Bancroft Library</mets:name>\n",
      "  </mets:agent>\n",
      "<altRecordID>http://nma.berkeley.edu/ark:/13030/tf238nb201</altRecordID></mets:metsHdr>\n",
      "\n",
      "\n",
      "\n"
     ]
    }
   ],
   "source": [
    "metsHdr = mets_root.find('.//mets:metsHdr', ns)\n",
    "\n",
    "print(etree.tostring(metsHdr, encoding='utf-8', pretty_print=True).decode('utf-8'))"
   ]
  },
  {
   "cell_type": "code",
   "execution_count": 18,
   "metadata": {},
   "outputs": [
    {
     "name": "stdout",
     "output_type": "stream",
     "text": [
      "found 3\n"
     ]
    }
   ],
   "source": [
    "dmdSecs = mets_root.findall('.//mets:dmdSec', ns)\n",
    "\n",
    "print('found',len(dmdSecs))"
   ]
  },
  {
   "cell_type": "code",
   "execution_count": 19,
   "metadata": {},
   "outputs": [
    {
     "name": "stdout",
     "output_type": "stream",
     "text": [
      "<mets:dmdSec xmlns:mets=\"http://www.loc.gov/METS/\" xmlns=\"http://www.loc.gov/METS/\" xmlns:mix=\"http://www.loc.gov/mix/\" xmlns:moa2=\"http://sunsite.berkeley.edu/MOA2/\" xmlns:cdl=\"http://www.cdlib.org/\" xmlns:xsi=\"http://www.w3.org/2001/XMLSchema-instance\" xmlns:premis=\"http://www.loc.gov/standards/premis/v2\" xmlns:xlink=\"http://www.w3.org/1999/xlink\" xmlns:rts=\"http://cosimo.stanford.edu/sdr/metsrights/\" xmlns:mods=\"http://www.loc.gov/mods/v3\" ID=\"DMR1\">\n",
      "<mets:mdRef xlink:href=\"http://oskicat.berkeley.edu/record=b10707847\" LOCTYPE=\"URL\" MDTYPE=\"MARC\" LABEL=\"Catalog Record\"/>\n",
      "</mets:dmdSec>\n",
      "\n",
      "\n",
      "\n",
      "<mets:dmdSec xmlns:mets=\"http://www.loc.gov/METS/\" xmlns=\"http://www.loc.gov/METS/\" xmlns:mix=\"http://www.loc.gov/mix/\" xmlns:moa2=\"http://sunsite.berkeley.edu/MOA2/\" xmlns:cdl=\"http://www.cdlib.org/\" xmlns:xsi=\"http://www.w3.org/2001/XMLSchema-instance\" xmlns:premis=\"http://www.loc.gov/standards/premis/v2\" xmlns:xlink=\"http://www.w3.org/1999/xlink\" xmlns:rts=\"http://cosimo.stanford.edu/sdr/metsrights/\" xmlns:mods=\"http://www.loc.gov/mods/v3\" ID=\"DMR2\">\n",
      "<mets:mdRef xlink:href=\"http://www.oac.cdlib.org/findaid/ark:/13030/tf6b69p1kk\" XPTR=\"xpointer(id('m252266534'))\" LOCTYPE=\"URL\" MDTYPE=\"EAD\" LABEL=\"Construction Photographs of the Golden Gate Bridge\"/>\n",
      "</mets:dmdSec>\n",
      "\n",
      "\n",
      "\n",
      "<mets:dmdSec xmlns:mets=\"http://www.loc.gov/METS/\" xmlns=\"http://www.loc.gov/METS/\" xmlns:mix=\"http://www.loc.gov/mix/\" xmlns:moa2=\"http://sunsite.berkeley.edu/MOA2/\" xmlns:cdl=\"http://www.cdlib.org/\" xmlns:xsi=\"http://www.w3.org/2001/XMLSchema-instance\" xmlns:premis=\"http://www.loc.gov/standards/premis/v2\" xmlns:xlink=\"http://www.w3.org/1999/xlink\" xmlns:rts=\"http://cosimo.stanford.edu/sdr/metsrights/\" xmlns:mods=\"http://www.loc.gov/mods/v3\" ID=\"DM1\">\n",
      " <mets:mdWrap MDTYPE=\"MODS\" LABEL=\"Cable spinning\">\n",
      "  <mets:xmlData>\n",
      "    <mods:mods><mods:titleInfo>\n",
      "      <mods:title>Cable spinning</mods:title>\n",
      "     </mods:titleInfo><mods:typeOfResource>still image</mods:typeOfResource><mods:relatedItem displayLabel=\"Metacollection\" type=\"host\">\n",
      "      <mods:titleInfo>\n",
      "       <mods:title>California Heritage Collection</mods:title>\n",
      "      </mods:titleInfo>\n",
      "      <mods:identifier type=\"uri\">http://bancroft.berkeley.edu/collections/calheritage.html</mods:identifier>\n",
      "     </mods:relatedItem><mods:relatedItem displayLabel=\"Collection\" type=\"host\">\n",
      "      <mods:titleInfo>\n",
      "       <mods:title>Construction Photographs of the Golden Gate Bridge</mods:title>\n",
      "      </mods:titleInfo>\n",
      "      <mods:identifier type=\"local\">BANC PIC 1905.14251-.14284--PIC</mods:identifier>\n",
      "      <mods:identifier type=\"uri\">http://www.oac.cdlib.org/findaid/ark:/13030/tf6b69p1kk</mods:identifier>\n",
      "     </mods:relatedItem><mods:identifier displayLabel=\"Local Call Number\" type=\"local\">BANC PIC 1905.14253:001--PIC</mods:identifier><mods:identifier type=\"filename\" displayLabel=\"Filename\">I0036656a.tif</mods:identifier><mods:location>\n",
      "    <mods:physicalLocation>The Bancroft Library;;, University of California, Berkeley, Berkeley, CA 94720-6000, Phone: (510) 642-6481, Fax: (510) 642-7589, Email: bancref@library.berkeley.edu;;, URL: http://bancroft.berkeley.edu/</mods:physicalLocation>\n",
      "   </mods:location><mods:accessCondition displayLabel=\"Copyright Note\">Some materials in these collections may be protected by the U.S. Copyright Law (Title 17, U.S.C.). In addition, the reproduction of some materials may be restricted by terms of University of California gift or purchase agreements, donor restrictions, privacy and publicity rights, licensing and trademarks. Transmission or reproduction of materials protected by copyright beyond that allowed by fair use requires the written permission of the copyright owners. Works not in the public domain cannot be commercially exploited without permission of the copyright owner. Responsibility for any use rests exclusively with the user.</mods:accessCondition>\n",
      "<mods:accessCondition displayLabel=\"Copyright Owner Note\">All requests to reproduce, publish, quote from, or otherwise use collection materials must be submitted in writing to the Head of Public Services, The Bancroft Library, University of California, Berkeley 94720-6000. See: http://bancroft.berkeley.edu/reference/permissions.html</mods:accessCondition>\n",
      "</mods:mods>\n",
      "  </mets:xmlData>\n",
      " </mets:mdWrap>\n",
      "</mets:dmdSec>\n",
      "\n",
      "\n",
      "\n"
     ]
    }
   ],
   "source": [
    "for i in range(len(dmdSecs)):\n",
    "    print(etree.tostring(dmdSecs[i], encoding='utf-8', pretty_print=True).decode('utf-8'))"
   ]
  },
  {
   "cell_type": "code",
   "execution_count": 20,
   "metadata": {},
   "outputs": [
    {
     "name": "stdout",
     "output_type": "stream",
     "text": [
      "<mets:amdSec xmlns:mets=\"http://www.loc.gov/METS/\" xmlns=\"http://www.loc.gov/METS/\" xmlns:mix=\"http://www.loc.gov/mix/\" xmlns:moa2=\"http://sunsite.berkeley.edu/MOA2/\" xmlns:cdl=\"http://www.cdlib.org/\" xmlns:xsi=\"http://www.w3.org/2001/XMLSchema-instance\" xmlns:premis=\"http://www.loc.gov/standards/premis/v2\" xmlns:xlink=\"http://www.w3.org/1999/xlink\" xmlns:rts=\"http://cosimo.stanford.edu/sdr/metsrights/\" xmlns:mods=\"http://www.loc.gov/mods/v3\">\n",
      "\n",
      " <mets:techMD ID=\"ADM1\">\n",
      "  <mets:mdWrap MDTYPE=\"NISOIMG\">\n",
      "   <mets:xmlData>\n",
      "    <mix:mix xmlns:mix=\"http://www.loc.gov/mix/v10\">\n",
      "\n",
      "     <mix:BasicDigitalObjectInformation>\n",
      "       <mix:FormatDesignation>\n",
      "   <mix:formatName>image/tiff</mix:formatName>\n",
      "       </mix:FormatDesignation>\n",
      "     </mix:BasicDigitalObjectInformation>\n",
      "\n",
      "    </mix:mix>\n",
      "   </mets:xmlData>\n",
      "  </mets:mdWrap>\n",
      " </mets:techMD>\n",
      "\n",
      " <mets:techMD ID=\"ADM2\">\n",
      "  <mets:mdWrap MDTYPE=\"NISOIMG\">\n",
      "   <mets:xmlData>\n",
      "    <mix:mix xmlns:mix=\"http://www.loc.gov/mix/v10\">\n",
      "\n",
      "     <mix:BasicDigitalObjectInformation>\n",
      "       <mix:FormatDesignation>\n",
      "   <mix:formatName>image/gif</mix:formatName> \n",
      "       </mix:FormatDesignation>\n",
      "       <mix:Compression>\n",
      "   <mix:compressionScheme>LZW</mix:compressionScheme>\n",
      "       </mix:Compression>\n",
      "     </mix:BasicDigitalObjectInformation>\n",
      "     <mix:BasicImageInformation>\n",
      "       <mix:BasicImageCharacteristics>\n",
      "   <mix:PhotometricInterpretation>\n",
      "     <mix:colorSpace>PaletteColor</mix:colorSpace>\n",
      "   </mix:PhotometricInterpretation>\n",
      "       </mix:BasicImageCharacteristics>\n",
      "     </mix:BasicImageInformation>\n",
      "     <mix:ImageAssessmentMetadata>\n",
      "       <mix:ImageColorEncoding>\n",
      "   <mix:bitsPerSample>\n",
      "     <mix:bitsPerSampleValue>8</mix:bitsPerSampleValue>\n",
      "     <mix:bitsPerSampleUnit>integer</mix:bitsPerSampleUnit>\n",
      "   </mix:bitsPerSample>\n",
      "   <mix:samplesPerPixel>1</mix:samplesPerPixel>\n",
      "       </mix:ImageColorEncoding>\n",
      "     </mix:ImageAssessmentMetadata>\n",
      "\n",
      "    </mix:mix>\n",
      "   </mets:xmlData>\n",
      "  </mets:mdWrap>\n",
      " </mets:techMD>\n",
      "\n",
      " <mets:techMD ID=\"ADM3\">\n",
      "  <mets:mdWrap MDTYPE=\"NISOIMG\">\n",
      "   <mets:xmlData>\n",
      "    <mix:mix xmlns:mix=\"http://www.loc.gov/mix/v10\">\n",
      "\n",
      "     <mix:BasicDigitalObjectInformation>\n",
      "       <mix:FormatDesignation>\n",
      "   <mix:formatName>image/jpeg</mix:formatName> \n",
      "       </mix:FormatDesignation>\n",
      "       <mix:Compression>\n",
      "   <mix:compressionScheme>JPEG Baseline Sequential</mix:compressionScheme>\n",
      "       </mix:Compression>\n",
      "     </mix:BasicDigitalObjectInformation>\n",
      "     <mix:BasicImageInformation>\n",
      "       <mix:BasicImageCharacteristics>\n",
      "   <mix:PhotometricInterpretation>\n",
      "     <mix:colorSpace>YCbCr</mix:colorSpace>\n",
      "   </mix:PhotometricInterpretation>\n",
      "       </mix:BasicImageCharacteristics>\n",
      "     </mix:BasicImageInformation>\n",
      "     <mix:ImageAssessmentMetadata>\n",
      "       <mix:ImageColorEncoding>\n",
      "   <mix:bitsPerSample>\n",
      "     <mix:bitsPerSampleValue>8,8,8</mix:bitsPerSampleValue>\n",
      "     <mix:bitsPerSampleUnit>integer</mix:bitsPerSampleUnit>\n",
      "   </mix:bitsPerSample>\n",
      "   <mix:samplesPerPixel>3</mix:samplesPerPixel>\n",
      "       </mix:ImageColorEncoding>\n",
      "     </mix:ImageAssessmentMetadata>\n",
      "\n",
      "    </mix:mix>\n",
      "   </mets:xmlData>\n",
      "  </mets:mdWrap>\n",
      " </mets:techMD>\n",
      "\n",
      " <mets:techMD ID=\"ADM4\">\n",
      "  <mets:mdWrap MDTYPE=\"NISOIMG\">\n",
      "   <mets:xmlData>\n",
      "    <mix:mix xmlns:mix=\"http://www.loc.gov/mix/v10\">\n",
      "     <mix:BasicDigitalObjectInformation>\n",
      "       <mix:ObjectIdentifier>\n",
      "   <mix:objectIdentifierType>ark</mix:objectIdentifierType>\n",
      "   <mix:objectIdentifierValue>ark:/28722/bk000556f23</mix:objectIdentifierValue>\n",
      "       </mix:ObjectIdentifier>\n",
      "     </mix:BasicDigitalObjectInformation>\n",
      "     <mix:BasicImageInformation>\n",
      "       <mix:BasicImageCharacteristics>\n",
      "       </mix:BasicImageCharacteristics>\n",
      "     </mix:BasicImageInformation>\n",
      "     <mix:ImageCaptureMetadata>\n",
      "       <mix:SourceInformation>\n",
      "   <mix:sourceType>still image/item</mix:sourceType>\n",
      "   <mix:SourceID>\n",
      "     <mix:sourceIDType>Local identifier</mix:sourceIDType>\n",
      "     <mix:sourceIDValue>BANC PIC 1905.14253:001--PIC</mix:sourceIDValue>\n",
      "   </mix:SourceID>\n",
      "       </mix:SourceInformation>\n",
      "       <mix:GeneralCaptureInformation>\n",
      "   <mix:dateTimeCreated>2009-05-06</mix:dateTimeCreated>\n",
      "       </mix:GeneralCaptureInformation>\n",
      "     </mix:ImageCaptureMetadata>\n",
      "    </mix:mix>\n",
      "   </mets:xmlData>\n",
      "  </mets:mdWrap>\n",
      " </mets:techMD>\n",
      "\n",
      " <mets:techMD ID=\"ADM5\">\n",
      "  <mets:mdWrap MDTYPE=\"NISOIMG\">\n",
      "   <mets:xmlData>\n",
      "    <mix:mix xmlns:mix=\"http://www.loc.gov/mix/v10\">\n",
      "     <mix:BasicDigitalObjectInformation>\n",
      "       <mix:ObjectIdentifier>\n",
      "   <mix:objectIdentifierType>ark</mix:objectIdentifierType>\n",
      "   <mix:objectIdentifierValue>ark:/28722/bk000556f3n</mix:objectIdentifierValue>\n",
      "       </mix:ObjectIdentifier>\n",
      "     </mix:BasicDigitalObjectInformation>\n",
      "     <mix:BasicImageInformation>\n",
      "       <mix:BasicImageCharacteristics>\n",
      "   <mix:imageWidth>192</mix:imageWidth>\n",
      "   <mix:imageHeight>128</mix:imageHeight>\n",
      "       </mix:BasicImageCharacteristics>\n",
      "     </mix:BasicImageInformation>\n",
      "     <mix:ChangeHistory>\n",
      "       <mix:ImageProcessing>\n",
      "   <mix:dateTimeProcessed>2009-05-06</mix:dateTimeProcessed>\n",
      "   <mix:sourceData>http://nma.berkeley.edu/ark:/28722/bk000556f23</mix:sourceData>\n",
      "       </mix:ImageProcessing>\n",
      "     </mix:ChangeHistory>\n",
      "    </mix:mix>\n",
      "   </mets:xmlData>\n",
      "  </mets:mdWrap>\n",
      " </mets:techMD>\n",
      "\n",
      " <mets:techMD ID=\"ADM6\">\n",
      "  <mets:mdWrap MDTYPE=\"NISOIMG\">\n",
      "   <mets:xmlData>\n",
      "    <mix:mix xmlns:mix=\"http://www.loc.gov/mix/v10\">\n",
      "     <mix:BasicDigitalObjectInformation>\n",
      "       <mix:ObjectIdentifier>\n",
      "   <mix:objectIdentifierType>ark</mix:objectIdentifierType>\n",
      "   <mix:objectIdentifierValue>ark:/28722/bk000556f46</mix:objectIdentifierValue>\n",
      "       </mix:ObjectIdentifier>\n",
      "     </mix:BasicDigitalObjectInformation>\n",
      "     <mix:BasicImageInformation>\n",
      "       <mix:BasicImageCharacteristics>\n",
      "   <mix:imageWidth>768</mix:imageWidth>\n",
      "   <mix:imageHeight>512</mix:imageHeight>\n",
      "       </mix:BasicImageCharacteristics>\n",
      "     </mix:BasicImageInformation>\n",
      "     <mix:ChangeHistory>\n",
      "       <mix:ImageProcessing>\n",
      "   <mix:dateTimeProcessed>2009-05-06</mix:dateTimeProcessed>\n",
      "   <mix:sourceData>http://nma.berkeley.edu/ark:/28722/bk000556f23</mix:sourceData>\n",
      "       </mix:ImageProcessing>\n",
      "     </mix:ChangeHistory>\n",
      "    </mix:mix>\n",
      "   </mets:xmlData>\n",
      "  </mets:mdWrap>\n",
      " </mets:techMD>\n",
      "\n",
      " <mets:techMD ID=\"ADM7\">\n",
      "  <mets:mdWrap MDTYPE=\"NISOIMG\">\n",
      "   <mets:xmlData>\n",
      "    <mix:mix xmlns:mix=\"http://www.loc.gov/mix/v10\">\n",
      "     <mix:BasicDigitalObjectInformation>\n",
      "       <mix:ObjectIdentifier>\n",
      "   <mix:objectIdentifierType>ark</mix:objectIdentifierType>\n",
      "   <mix:objectIdentifierValue>ark:/28722/bk000556f5r</mix:objectIdentifierValue>\n",
      "       </mix:ObjectIdentifier>\n",
      "     </mix:BasicDigitalObjectInformation>\n",
      "     <mix:BasicImageInformation>\n",
      "       <mix:BasicImageCharacteristics>\n",
      "   <mix:imageWidth>1536</mix:imageWidth>\n",
      "   <mix:imageHeight>1024</mix:imageHeight>\n",
      "       </mix:BasicImageCharacteristics>\n",
      "     </mix:BasicImageInformation>\n",
      "     <mix:ChangeHistory>\n",
      "       <mix:ImageProcessing>\n",
      "   <mix:dateTimeProcessed>2009-05-06</mix:dateTimeProcessed>\n",
      "   <mix:sourceData>http://nma.berkeley.edu/ark:/28722/bk000556f23</mix:sourceData>\n",
      "       </mix:ImageProcessing>\n",
      "     </mix:ChangeHistory>\n",
      "    </mix:mix>\n",
      "   </mets:xmlData>\n",
      "  </mets:mdWrap>\n",
      " </mets:techMD>\n",
      "\n",
      " <mets:rightsMD ID=\"RMD1\">\n",
      "  <mets:mdWrap MDTYPE=\"OTHER\" OTHERMDTYPE=\"METSRights\">\n",
      "   <mets:xmlData>\n",
      "    <rts:RightsDeclarationMD RIGHTSCATEGORY=\"OTHER\" OTHERCATEGORYTYPE=\"UNKNOWN\">\n",
      "     <rts:RightsHolder>\n",
      "      <rts:RightsHolderComments>All requests to reproduce, publish, quote from, or otherwise use collection materials must be submitted in writing to the Head of Public Services, The Bancroft Library, University of California, Berkeley 94720-6000. See: http://bancroft.berkeley.edu/reference/permissions.html</rts:RightsHolderComments>\n",
      "     </rts:RightsHolder>\n",
      "     <rts:Context CONTEXTCLASS=\"GENERAL PUBLIC\">\n",
      "      <rts:Constraints>\n",
      "       <rts:ConstraintDescription>Some materials in these collections may be protected by the U.S. Copyright Law (Title 17, U.S.C.). In addition, the reproduction of some materials may be restricted by terms of University of California gift or purchase agreements, donor restrictions, privacy and publicity rights, licensing and trademarks. Transmission or reproduction of materials protected by copyright beyond that allowed by fair use requires the written permission of the copyright owners. Works not in the public domain cannot be commercially exploited without permission of the copyright owner. Responsibility for any use rests exclusively with the user.</rts:ConstraintDescription>\n",
      "      </rts:Constraints>\n",
      "     </rts:Context>\n",
      "    </rts:RightsDeclarationMD>\n",
      "\n",
      "   </mets:xmlData>\n",
      "  </mets:mdWrap>\n",
      " </mets:rightsMD>\n",
      "\n",
      "</mets:amdSec>\n",
      "\n",
      "\n",
      "\n"
     ]
    }
   ],
   "source": [
    "amdSec = mets_root.find('.//mets:amdSec', ns)\n",
    "\n",
    "print(etree.tostring(amdSec, encoding='utf-8', pretty_print=True).decode())"
   ]
  },
  {
   "cell_type": "code",
   "execution_count": 21,
   "metadata": {},
   "outputs": [
    {
     "name": "stdout",
     "output_type": "stream",
     "text": [
      "{http://www.loc.gov/METS/}techMD {'ID': 'ADM1'}\n",
      "{http://www.loc.gov/METS/}techMD {'ID': 'ADM2'}\n",
      "{http://www.loc.gov/METS/}techMD {'ID': 'ADM3'}\n",
      "{http://www.loc.gov/METS/}techMD {'ID': 'ADM4'}\n",
      "{http://www.loc.gov/METS/}techMD {'ID': 'ADM5'}\n",
      "{http://www.loc.gov/METS/}techMD {'ID': 'ADM6'}\n",
      "{http://www.loc.gov/METS/}techMD {'ID': 'ADM7'}\n",
      "{http://www.loc.gov/METS/}rightsMD {'ID': 'RMD1'}\n"
     ]
    }
   ],
   "source": [
    "for subelement in amdSec:\n",
    "    print(subelement.tag, subelement.attrib)"
   ]
  },
  {
   "cell_type": "code",
   "execution_count": 22,
   "metadata": {},
   "outputs": [
    {
     "name": "stdout",
     "output_type": "stream",
     "text": [
      "<mets:fileSec xmlns:mets=\"http://www.loc.gov/METS/\" xmlns=\"http://www.loc.gov/METS/\" xmlns:mix=\"http://www.loc.gov/mix/\" xmlns:moa2=\"http://sunsite.berkeley.edu/MOA2/\" xmlns:cdl=\"http://www.cdlib.org/\" xmlns:xsi=\"http://www.w3.org/2001/XMLSchema-instance\" xmlns:premis=\"http://www.loc.gov/standards/premis/v2\" xmlns:xlink=\"http://www.w3.org/1999/xlink\" xmlns:rts=\"http://cosimo.stanford.edu/sdr/metsrights/\" xmlns:mods=\"http://www.loc.gov/mods/v3\">\n",
      "\n",
      " <mets:fileGrp USE=\"image/master\">\n",
      "   <mets:file ID=\"FID1\" MIMETYPE=\"image/tiff\" SEQ=\"1\" CREATED=\"2009-05-06T15:54:51.77\" ADMID=\"ADM1 ADM4\" GROUPID=\"GID1\">\n",
      "    <mets:FLocat xlink:href=\"http://nma.berkeley.edu/ark:/28722/bk000556f23\" LOCTYPE=\"URL\"/>\n",
      "   </mets:file>\n",
      " </mets:fileGrp>\n",
      "\n",
      " <mets:fileGrp USE=\"image/thumbnail\">\n",
      "   <mets:file ID=\"thumbnail\" MIMETYPE=\"image/gif\" SEQ=\"1\" CREATED=\"2009-05-06T15:54:51.77\" ADMID=\"ADM2\" GROUPID=\"GID1\" SIZE=\"19839\" CHECKSUM=\"69d9fcbe6345176db779b7ff7b5ecd6e5bcd8bc8\" CHECKSUMTYPE=\"SHA-256\">\n",
      "    <FLocat xlink:href=\"http://content.cdlib.org/dynaxml/data/13030/01/tf238nb201/files/tf238nb201-FID2.gif\"/><mets:FLocat xlink:href=\"http://nma.berkeley.edu/ark:/28722/bk000556f3n\" LOCTYPE=\"URL\"/>\n",
      "   </mets:file>\n",
      " </mets:fileGrp>\n",
      "\n",
      " <mets:fileGrp USE=\"image/reference\">\n",
      "   <mets:file ID=\"FID3\" MIMETYPE=\"image/jpeg\" SEQ=\"1\" CREATED=\"2009-05-06T15:54:51.787\" ADMID=\"ADM3\" GROUPID=\"GID1\" SIZE=\"44099\" CHECKSUM=\"d3d2ce953205f9de8618f18b934e12af2920a119\" CHECKSUMTYPE=\"SHA-256\">\n",
      "    <FLocat xlink:href=\"http://content.cdlib.org/dynaxml/data/13030/01/tf238nb201/files/tf238nb201-FID3.jpg\"/><mets:FLocat xlink:href=\"http://nma.berkeley.edu/ark:/28722/bk000556f46\" LOCTYPE=\"URL\"/>\n",
      "   </mets:file>\n",
      " </mets:fileGrp>\n",
      "\n",
      " <mets:fileGrp USE=\"image/reference\">\n",
      "   <mets:file ID=\"FID4\" MIMETYPE=\"image/jpeg\" SEQ=\"1\" CREATED=\"2009-05-06T15:54:51.8\" ADMID=\"ADM3\" GROUPID=\"GID1\" SIZE=\"162167\" CHECKSUM=\"43c50f91bb6b1f45f4bc35a123f3a435b3ea7277\" CHECKSUMTYPE=\"SHA-256\">\n",
      "    <FLocat xlink:href=\"http://content.cdlib.org/dynaxml/data/13030/01/tf238nb201/files/tf238nb201-FID4.jpg\"/><mets:FLocat xlink:href=\"http://nma.berkeley.edu/ark:/28722/bk000556f5r\" LOCTYPE=\"URL\"/>\n",
      "   </mets:file>\n",
      " </mets:fileGrp>\n",
      "\n",
      "</mets:fileSec>\n",
      "\n",
      "\n",
      "\n"
     ]
    }
   ],
   "source": [
    "fileSec = mets_root.find('.//mets:fileSec', ns)\n",
    "\n",
    "print(etree.tostring(fileSec, encoding='utf-8', pretty_print=True).decode('utf-8'))"
   ]
  },
  {
   "cell_type": "code",
   "execution_count": 23,
   "metadata": {},
   "outputs": [],
   "source": [
    "premis_seeking = mets_root.findall('.//premis:*', ns)"
   ]
  },
  {
   "cell_type": "code",
   "execution_count": 24,
   "metadata": {},
   "outputs": [
    {
     "name": "stdout",
     "output_type": "stream",
     "text": [
      "[]\n"
     ]
    }
   ],
   "source": [
    "print(premis_seeking)"
   ]
  },
  {
   "cell_type": "code",
   "execution_count": null,
   "metadata": {},
   "outputs": [
    {
     "name": "stdout",
     "output_type": "stream",
     "text": [
      "19\n"
     ]
    }
   ],
   "source": [
    "mods_seeking = mets_root.findall('.//mods:*', ns)\n",
    "\n",
    "print(len(mods_seeking))"
   ]
  },
  {
   "cell_type": "code",
   "execution_count": 27,
   "metadata": {},
   "outputs": [
    {
     "name": "stdout",
     "output_type": "stream",
     "text": [
      "b'<mods:mods xmlns:mods=\"http://www.loc.gov/mods/v3\" xmlns=\"http://www.loc.gov/METS/\" xmlns:mets=\"http://www.loc.gov/METS/\" xmlns:mix=\"http://www.loc.gov/mix/\" xmlns:moa2=\"http://sunsite.berkeley.edu/MOA2/\" xmlns:cdl=\"http://www.cdlib.org/\" xmlns:xsi=\"http://www.w3.org/2001/XMLSchema-instance\" xmlns:premis=\"http://www.loc.gov/standards/premis/v2\" xmlns:xlink=\"http://www.w3.org/1999/xlink\" xmlns:rts=\"http://cosimo.stanford.edu/sdr/metsrights/\"><mods:titleInfo>\\n      <mods:title>Cable spinning</mods:title>\\n     </mods:titleInfo><mods:typeOfResource>still image</mods:typeOfResource><mods:relatedItem displayLabel=\"Metacollection\" type=\"host\">\\n      <mods:titleInfo>\\n       <mods:title>California Heritage Collection</mods:title>\\n      </mods:titleInfo>\\n      <mods:identifier type=\"uri\">http://bancroft.berkeley.edu/collections/calheritage.html</mods:identifier>\\n     </mods:relatedItem><mods:relatedItem displayLabel=\"Collection\" type=\"host\">\\n      <mods:titleInfo>\\n       <mods:title>Construction Photographs of the Golden Gate Bridge</mods:title>\\n      </mods:titleInfo>\\n      <mods:identifier type=\"local\">BANC PIC 1905.14251-.14284--PIC</mods:identifier>\\n      <mods:identifier type=\"uri\">http://www.oac.cdlib.org/findaid/ark:/13030/tf6b69p1kk</mods:identifier>\\n     </mods:relatedItem><mods:identifier displayLabel=\"Local Call Number\" type=\"local\">BANC PIC 1905.14253:001--PIC</mods:identifier><mods:identifier type=\"filename\" displayLabel=\"Filename\">I0036656a.tif</mods:identifier><mods:location>\\n    <mods:physicalLocation>The Bancroft Library;;, University of California, Berkeley, Berkeley, CA 94720-6000, Phone: (510) 642-6481, Fax: (510) 642-7589, Email: bancref@library.berkeley.edu;;, URL: http://bancroft.berkeley.edu/</mods:physicalLocation>\\n   </mods:location><mods:accessCondition displayLabel=\"Copyright Note\">Some materials in these collections may be protected by the U.S. Copyright Law (Title 17, U.S.C.). In addition, the reproduction of some materials may be restricted by terms of University of California gift or purchase agreements, donor restrictions, privacy and publicity rights, licensing and trademarks. Transmission or reproduction of materials protected by copyright beyond that allowed by fair use requires the written permission of the copyright owners. Works not in the public domain cannot be commercially exploited without permission of the copyright owner. Responsibility for any use rests exclusively with the user.</mods:accessCondition>\\n<mods:accessCondition displayLabel=\"Copyright Owner Note\">All requests to reproduce, publish, quote from, or otherwise use collection materials must be submitted in writing to the Head of Public Services, The Bancroft Library, University of California, Berkeley 94720-6000. See: http://bancroft.berkeley.edu/reference/permissions.html</mods:accessCondition>\\n</mods:mods>\\n  '\n",
      "b'<mods:titleInfo xmlns:mods=\"http://www.loc.gov/mods/v3\" xmlns=\"http://www.loc.gov/METS/\" xmlns:mets=\"http://www.loc.gov/METS/\" xmlns:mix=\"http://www.loc.gov/mix/\" xmlns:moa2=\"http://sunsite.berkeley.edu/MOA2/\" xmlns:cdl=\"http://www.cdlib.org/\" xmlns:xsi=\"http://www.w3.org/2001/XMLSchema-instance\" xmlns:premis=\"http://www.loc.gov/standards/premis/v2\" xmlns:xlink=\"http://www.w3.org/1999/xlink\" xmlns:rts=\"http://cosimo.stanford.edu/sdr/metsrights/\">\\n      <mods:title>Cable spinning</mods:title>\\n     </mods:titleInfo>'\n",
      "b'<mods:title xmlns:mods=\"http://www.loc.gov/mods/v3\" xmlns=\"http://www.loc.gov/METS/\" xmlns:mets=\"http://www.loc.gov/METS/\" xmlns:mix=\"http://www.loc.gov/mix/\" xmlns:moa2=\"http://sunsite.berkeley.edu/MOA2/\" xmlns:cdl=\"http://www.cdlib.org/\" xmlns:xsi=\"http://www.w3.org/2001/XMLSchema-instance\" xmlns:premis=\"http://www.loc.gov/standards/premis/v2\" xmlns:xlink=\"http://www.w3.org/1999/xlink\" xmlns:rts=\"http://cosimo.stanford.edu/sdr/metsrights/\">Cable spinning</mods:title>\\n     '\n",
      "b'<mods:typeOfResource xmlns:mods=\"http://www.loc.gov/mods/v3\" xmlns=\"http://www.loc.gov/METS/\" xmlns:mets=\"http://www.loc.gov/METS/\" xmlns:mix=\"http://www.loc.gov/mix/\" xmlns:moa2=\"http://sunsite.berkeley.edu/MOA2/\" xmlns:cdl=\"http://www.cdlib.org/\" xmlns:xsi=\"http://www.w3.org/2001/XMLSchema-instance\" xmlns:premis=\"http://www.loc.gov/standards/premis/v2\" xmlns:xlink=\"http://www.w3.org/1999/xlink\" xmlns:rts=\"http://cosimo.stanford.edu/sdr/metsrights/\">still image</mods:typeOfResource>'\n",
      "b'<mods:relatedItem xmlns:mods=\"http://www.loc.gov/mods/v3\" xmlns=\"http://www.loc.gov/METS/\" xmlns:mets=\"http://www.loc.gov/METS/\" xmlns:mix=\"http://www.loc.gov/mix/\" xmlns:moa2=\"http://sunsite.berkeley.edu/MOA2/\" xmlns:cdl=\"http://www.cdlib.org/\" xmlns:xsi=\"http://www.w3.org/2001/XMLSchema-instance\" xmlns:premis=\"http://www.loc.gov/standards/premis/v2\" xmlns:xlink=\"http://www.w3.org/1999/xlink\" xmlns:rts=\"http://cosimo.stanford.edu/sdr/metsrights/\" displayLabel=\"Metacollection\" type=\"host\">\\n      <mods:titleInfo>\\n       <mods:title>California Heritage Collection</mods:title>\\n      </mods:titleInfo>\\n      <mods:identifier type=\"uri\">http://bancroft.berkeley.edu/collections/calheritage.html</mods:identifier>\\n     </mods:relatedItem>'\n",
      "b'<mods:titleInfo xmlns:mods=\"http://www.loc.gov/mods/v3\" xmlns=\"http://www.loc.gov/METS/\" xmlns:mets=\"http://www.loc.gov/METS/\" xmlns:mix=\"http://www.loc.gov/mix/\" xmlns:moa2=\"http://sunsite.berkeley.edu/MOA2/\" xmlns:cdl=\"http://www.cdlib.org/\" xmlns:xsi=\"http://www.w3.org/2001/XMLSchema-instance\" xmlns:premis=\"http://www.loc.gov/standards/premis/v2\" xmlns:xlink=\"http://www.w3.org/1999/xlink\" xmlns:rts=\"http://cosimo.stanford.edu/sdr/metsrights/\">\\n       <mods:title>California Heritage Collection</mods:title>\\n      </mods:titleInfo>\\n      '\n",
      "b'<mods:title xmlns:mods=\"http://www.loc.gov/mods/v3\" xmlns=\"http://www.loc.gov/METS/\" xmlns:mets=\"http://www.loc.gov/METS/\" xmlns:mix=\"http://www.loc.gov/mix/\" xmlns:moa2=\"http://sunsite.berkeley.edu/MOA2/\" xmlns:cdl=\"http://www.cdlib.org/\" xmlns:xsi=\"http://www.w3.org/2001/XMLSchema-instance\" xmlns:premis=\"http://www.loc.gov/standards/premis/v2\" xmlns:xlink=\"http://www.w3.org/1999/xlink\" xmlns:rts=\"http://cosimo.stanford.edu/sdr/metsrights/\">California Heritage Collection</mods:title>\\n      '\n",
      "b'<mods:identifier xmlns:mods=\"http://www.loc.gov/mods/v3\" xmlns=\"http://www.loc.gov/METS/\" xmlns:mets=\"http://www.loc.gov/METS/\" xmlns:mix=\"http://www.loc.gov/mix/\" xmlns:moa2=\"http://sunsite.berkeley.edu/MOA2/\" xmlns:cdl=\"http://www.cdlib.org/\" xmlns:xsi=\"http://www.w3.org/2001/XMLSchema-instance\" xmlns:premis=\"http://www.loc.gov/standards/premis/v2\" xmlns:xlink=\"http://www.w3.org/1999/xlink\" xmlns:rts=\"http://cosimo.stanford.edu/sdr/metsrights/\" type=\"uri\">http://bancroft.berkeley.edu/collections/calheritage.html</mods:identifier>\\n     '\n",
      "b'<mods:relatedItem xmlns:mods=\"http://www.loc.gov/mods/v3\" xmlns=\"http://www.loc.gov/METS/\" xmlns:mets=\"http://www.loc.gov/METS/\" xmlns:mix=\"http://www.loc.gov/mix/\" xmlns:moa2=\"http://sunsite.berkeley.edu/MOA2/\" xmlns:cdl=\"http://www.cdlib.org/\" xmlns:xsi=\"http://www.w3.org/2001/XMLSchema-instance\" xmlns:premis=\"http://www.loc.gov/standards/premis/v2\" xmlns:xlink=\"http://www.w3.org/1999/xlink\" xmlns:rts=\"http://cosimo.stanford.edu/sdr/metsrights/\" displayLabel=\"Collection\" type=\"host\">\\n      <mods:titleInfo>\\n       <mods:title>Construction Photographs of the Golden Gate Bridge</mods:title>\\n      </mods:titleInfo>\\n      <mods:identifier type=\"local\">BANC PIC 1905.14251-.14284--PIC</mods:identifier>\\n      <mods:identifier type=\"uri\">http://www.oac.cdlib.org/findaid/ark:/13030/tf6b69p1kk</mods:identifier>\\n     </mods:relatedItem>'\n",
      "b'<mods:titleInfo xmlns:mods=\"http://www.loc.gov/mods/v3\" xmlns=\"http://www.loc.gov/METS/\" xmlns:mets=\"http://www.loc.gov/METS/\" xmlns:mix=\"http://www.loc.gov/mix/\" xmlns:moa2=\"http://sunsite.berkeley.edu/MOA2/\" xmlns:cdl=\"http://www.cdlib.org/\" xmlns:xsi=\"http://www.w3.org/2001/XMLSchema-instance\" xmlns:premis=\"http://www.loc.gov/standards/premis/v2\" xmlns:xlink=\"http://www.w3.org/1999/xlink\" xmlns:rts=\"http://cosimo.stanford.edu/sdr/metsrights/\">\\n       <mods:title>Construction Photographs of the Golden Gate Bridge</mods:title>\\n      </mods:titleInfo>\\n      '\n",
      "b'<mods:title xmlns:mods=\"http://www.loc.gov/mods/v3\" xmlns=\"http://www.loc.gov/METS/\" xmlns:mets=\"http://www.loc.gov/METS/\" xmlns:mix=\"http://www.loc.gov/mix/\" xmlns:moa2=\"http://sunsite.berkeley.edu/MOA2/\" xmlns:cdl=\"http://www.cdlib.org/\" xmlns:xsi=\"http://www.w3.org/2001/XMLSchema-instance\" xmlns:premis=\"http://www.loc.gov/standards/premis/v2\" xmlns:xlink=\"http://www.w3.org/1999/xlink\" xmlns:rts=\"http://cosimo.stanford.edu/sdr/metsrights/\">Construction Photographs of the Golden Gate Bridge</mods:title>\\n      '\n",
      "b'<mods:identifier xmlns:mods=\"http://www.loc.gov/mods/v3\" xmlns=\"http://www.loc.gov/METS/\" xmlns:mets=\"http://www.loc.gov/METS/\" xmlns:mix=\"http://www.loc.gov/mix/\" xmlns:moa2=\"http://sunsite.berkeley.edu/MOA2/\" xmlns:cdl=\"http://www.cdlib.org/\" xmlns:xsi=\"http://www.w3.org/2001/XMLSchema-instance\" xmlns:premis=\"http://www.loc.gov/standards/premis/v2\" xmlns:xlink=\"http://www.w3.org/1999/xlink\" xmlns:rts=\"http://cosimo.stanford.edu/sdr/metsrights/\" type=\"local\">BANC PIC 1905.14251-.14284--PIC</mods:identifier>\\n      '\n",
      "b'<mods:identifier xmlns:mods=\"http://www.loc.gov/mods/v3\" xmlns=\"http://www.loc.gov/METS/\" xmlns:mets=\"http://www.loc.gov/METS/\" xmlns:mix=\"http://www.loc.gov/mix/\" xmlns:moa2=\"http://sunsite.berkeley.edu/MOA2/\" xmlns:cdl=\"http://www.cdlib.org/\" xmlns:xsi=\"http://www.w3.org/2001/XMLSchema-instance\" xmlns:premis=\"http://www.loc.gov/standards/premis/v2\" xmlns:xlink=\"http://www.w3.org/1999/xlink\" xmlns:rts=\"http://cosimo.stanford.edu/sdr/metsrights/\" type=\"uri\">http://www.oac.cdlib.org/findaid/ark:/13030/tf6b69p1kk</mods:identifier>\\n     '\n",
      "b'<mods:identifier xmlns:mods=\"http://www.loc.gov/mods/v3\" xmlns=\"http://www.loc.gov/METS/\" xmlns:mets=\"http://www.loc.gov/METS/\" xmlns:mix=\"http://www.loc.gov/mix/\" xmlns:moa2=\"http://sunsite.berkeley.edu/MOA2/\" xmlns:cdl=\"http://www.cdlib.org/\" xmlns:xsi=\"http://www.w3.org/2001/XMLSchema-instance\" xmlns:premis=\"http://www.loc.gov/standards/premis/v2\" xmlns:xlink=\"http://www.w3.org/1999/xlink\" xmlns:rts=\"http://cosimo.stanford.edu/sdr/metsrights/\" displayLabel=\"Local Call Number\" type=\"local\">BANC PIC 1905.14253:001--PIC</mods:identifier>'\n",
      "b'<mods:identifier xmlns:mods=\"http://www.loc.gov/mods/v3\" xmlns=\"http://www.loc.gov/METS/\" xmlns:mets=\"http://www.loc.gov/METS/\" xmlns:mix=\"http://www.loc.gov/mix/\" xmlns:moa2=\"http://sunsite.berkeley.edu/MOA2/\" xmlns:cdl=\"http://www.cdlib.org/\" xmlns:xsi=\"http://www.w3.org/2001/XMLSchema-instance\" xmlns:premis=\"http://www.loc.gov/standards/premis/v2\" xmlns:xlink=\"http://www.w3.org/1999/xlink\" xmlns:rts=\"http://cosimo.stanford.edu/sdr/metsrights/\" type=\"filename\" displayLabel=\"Filename\">I0036656a.tif</mods:identifier>'\n",
      "b'<mods:location xmlns:mods=\"http://www.loc.gov/mods/v3\" xmlns=\"http://www.loc.gov/METS/\" xmlns:mets=\"http://www.loc.gov/METS/\" xmlns:mix=\"http://www.loc.gov/mix/\" xmlns:moa2=\"http://sunsite.berkeley.edu/MOA2/\" xmlns:cdl=\"http://www.cdlib.org/\" xmlns:xsi=\"http://www.w3.org/2001/XMLSchema-instance\" xmlns:premis=\"http://www.loc.gov/standards/premis/v2\" xmlns:xlink=\"http://www.w3.org/1999/xlink\" xmlns:rts=\"http://cosimo.stanford.edu/sdr/metsrights/\">\\n    <mods:physicalLocation>The Bancroft Library;;, University of California, Berkeley, Berkeley, CA 94720-6000, Phone: (510) 642-6481, Fax: (510) 642-7589, Email: bancref@library.berkeley.edu;;, URL: http://bancroft.berkeley.edu/</mods:physicalLocation>\\n   </mods:location>'\n",
      "b'<mods:physicalLocation xmlns:mods=\"http://www.loc.gov/mods/v3\" xmlns=\"http://www.loc.gov/METS/\" xmlns:mets=\"http://www.loc.gov/METS/\" xmlns:mix=\"http://www.loc.gov/mix/\" xmlns:moa2=\"http://sunsite.berkeley.edu/MOA2/\" xmlns:cdl=\"http://www.cdlib.org/\" xmlns:xsi=\"http://www.w3.org/2001/XMLSchema-instance\" xmlns:premis=\"http://www.loc.gov/standards/premis/v2\" xmlns:xlink=\"http://www.w3.org/1999/xlink\" xmlns:rts=\"http://cosimo.stanford.edu/sdr/metsrights/\">The Bancroft Library;;, University of California, Berkeley, Berkeley, CA 94720-6000, Phone: (510) 642-6481, Fax: (510) 642-7589, Email: bancref@library.berkeley.edu;;, URL: http://bancroft.berkeley.edu/</mods:physicalLocation>\\n   '\n",
      "b'<mods:accessCondition xmlns:mods=\"http://www.loc.gov/mods/v3\" xmlns=\"http://www.loc.gov/METS/\" xmlns:mets=\"http://www.loc.gov/METS/\" xmlns:mix=\"http://www.loc.gov/mix/\" xmlns:moa2=\"http://sunsite.berkeley.edu/MOA2/\" xmlns:cdl=\"http://www.cdlib.org/\" xmlns:xsi=\"http://www.w3.org/2001/XMLSchema-instance\" xmlns:premis=\"http://www.loc.gov/standards/premis/v2\" xmlns:xlink=\"http://www.w3.org/1999/xlink\" xmlns:rts=\"http://cosimo.stanford.edu/sdr/metsrights/\" displayLabel=\"Copyright Note\">Some materials in these collections may be protected by the U.S. Copyright Law (Title 17, U.S.C.). In addition, the reproduction of some materials may be restricted by terms of University of California gift or purchase agreements, donor restrictions, privacy and publicity rights, licensing and trademarks. Transmission or reproduction of materials protected by copyright beyond that allowed by fair use requires the written permission of the copyright owners. Works not in the public domain cannot be commercially exploited without permission of the copyright owner. Responsibility for any use rests exclusively with the user.</mods:accessCondition>\\n'\n",
      "b'<mods:accessCondition xmlns:mods=\"http://www.loc.gov/mods/v3\" xmlns=\"http://www.loc.gov/METS/\" xmlns:mets=\"http://www.loc.gov/METS/\" xmlns:mix=\"http://www.loc.gov/mix/\" xmlns:moa2=\"http://sunsite.berkeley.edu/MOA2/\" xmlns:cdl=\"http://www.cdlib.org/\" xmlns:xsi=\"http://www.w3.org/2001/XMLSchema-instance\" xmlns:premis=\"http://www.loc.gov/standards/premis/v2\" xmlns:xlink=\"http://www.w3.org/1999/xlink\" xmlns:rts=\"http://cosimo.stanford.edu/sdr/metsrights/\" displayLabel=\"Copyright Owner Note\">All requests to reproduce, publish, quote from, or otherwise use collection materials must be submitted in writing to the Head of Public Services, The Bancroft Library, University of California, Berkeley 94720-6000. See: http://bancroft.berkeley.edu/reference/permissions.html</mods:accessCondition>\\n'\n"
     ]
    }
   ],
   "source": [
    "for i in range(len(mods_seeking)):\n",
    "    print(etree.tostring(mods_seeking[i]))"
   ]
  },
  {
   "cell_type": "markdown",
   "metadata": {},
   "source": [
    "## Working with Omeka S API\n",
    "\n",
    "Demonstrating adding an item"
   ]
  },
  {
   "cell_type": "code",
   "execution_count": 2,
   "metadata": {},
   "outputs": [],
   "source": [
    "import json\n",
    "import requests"
   ]
  },
  {
   "cell_type": "code",
   "execution_count": 3,
   "metadata": {},
   "outputs": [],
   "source": [
    "def get_credentials(credential_file_path):\n",
    "    '''Retrieve Omeka S Api credentials from another file. \n",
    "    That file must be a JSON file.'''\n",
    "\n",
    "    with open(credential_file_path, 'r') as credentials:\n",
    "        keys = json.load(credentials)\n",
    "    \n",
    "    return keys['key_identity'], keys['key_credential']"
   ]
  },
  {
   "cell_type": "code",
   "execution_count": 6,
   "metadata": {},
   "outputs": [
    {
     "name": "stdout",
     "output_type": "stream",
     "text": [
      "yAu5NAEEtJCvGx4s8XgJSgvTFjwvLD6j\n"
     ]
    }
   ],
   "source": [
    "key_identity, key_credential = get_credentials(join('..','collection-project','omeka-credentials.json'))\n",
    "\n",
    "print(key_identity)"
   ]
  },
  {
   "cell_type": "code",
   "execution_count": 7,
   "metadata": {},
   "outputs": [],
   "source": [
    "parameters = {\n",
    "    'key_credential':key_credential,\n",
    "    'key_identity': key_identity\n",
    "}"
   ]
  },
  {
   "cell_type": "code",
   "execution_count": 8,
   "metadata": {},
   "outputs": [
    {
     "name": "stdout",
     "output_type": "stream",
     "text": [
      "{\n",
      "  \"dcterms:title\": [\n",
      "    {\n",
      "      \"type\": \"literal\",\n",
      "      \"property_label\": \"Title\",\n",
      "      \"@value\": \"NewItemSetfromAPI\",\n",
      "      \"property_id\": 1\n",
      "    }\n",
      "  ]\n",
      "}\n"
     ]
    }
   ],
   "source": [
    "# create data for a new item, from the template\n",
    "data = join('..','data','json','omeka-s-title-example.json')\n",
    "\n",
    "with open(data, encoding='utf-8') as upload:\n",
    "    metadata = json.load(upload)\n",
    "\n",
    "print(json.dumps(metadata, indent=2))"
   ]
  },
  {
   "cell_type": "code",
   "execution_count": 9,
   "metadata": {},
   "outputs": [],
   "source": [
    "headers = {\n",
    "    'Content-Type':'application/json'\n",
    "}"
   ]
  },
  {
   "cell_type": "code",
   "execution_count": 10,
   "metadata": {},
   "outputs": [
    {
     "name": "stdout",
     "output_type": "stream",
     "text": [
      "200 {\"@context\":\"http:\\/\\/jajohnst.si676.si.umich.edu\\/omeka-s\\/api-context\",\"@id\":\"http:\\/\\/jajohnst.si676.si.umich.edu\\/omeka-s\\/api\\/items\\/460\",\"@type\":\"o:Item\",\"o:id\":460,\"o:is_public\":true,\"o:owner\":{\"@id\":\"http:\\/\\/jajohnst.si676.si.umich.edu\\/omeka-s\\/api\\/users\\/1\",\"o:id\":1},\"o:resource_class\":null,\"o:resource_template\":null,\"o:thumbnail\":null,\"o:title\":\"NewItemSetfromAPI\",\"thumbnail_display_urls\":{\"large\":null,\"medium\":null,\"square\":null},\"o:created\":{\"@value\":\"2024-11-25T20:49:25+00:00\",\"@type\":\"http:\\/\\/www.w3.org\\/2001\\/XMLSchema#dateTime\"},\"o:modified\":{\"@value\":\"2024-11-25T20:49:25+00:00\",\"@type\":\"http:\\/\\/www.w3.org\\/2001\\/XMLSchema#dateTime\"},\"o:primary_media\":null,\"o:media\":[],\"o:item_set\":[],\"o:site\":[{\"@id\":\"http:\\/\\/jajohnst.si676.si.umich.edu\\/omeka-s\\/api\\/sites\\/1\",\"o:id\":1},{\"@id\":\"http:\\/\\/jajohnst.si676.si.umich.edu\\/omeka-s\\/api\\/sites\\/2\",\"o:id\":2}],\"dcterms:title\":[{\"type\":\"literal\",\"property_id\":1,\"property_label\":\"Title\",\"is_public\":true,\"@value\":\"NewItemSetfromAPI\"}]}\n"
     ]
    }
   ],
   "source": [
    "# now, post the data\n",
    "\n",
    "post_item_url = 'http://jajohnst.si676.si.umich.edu/omeka-s/api/items'\n",
    "\n",
    "post = requests.post(post_item_url, params=parameters, headers=headers, data=json.dumps(metadata))\n",
    "\n",
    "print(post.status_code, post.text)"
   ]
  },
  {
   "cell_type": "code",
   "execution_count": 11,
   "metadata": {},
   "outputs": [
    {
     "data": {
      "text/plain": [
       "{'@context': 'http://jajohnst.si676.si.umich.edu/omeka-s/api-context',\n",
       " '@id': 'http://jajohnst.si676.si.umich.edu/omeka-s/api/items/460',\n",
       " '@type': 'o:Item',\n",
       " 'o:id': 460,\n",
       " 'o:is_public': True,\n",
       " 'o:owner': {'@id': 'http://jajohnst.si676.si.umich.edu/omeka-s/api/users/1',\n",
       "  'o:id': 1},\n",
       " 'o:resource_class': None,\n",
       " 'o:resource_template': None,\n",
       " 'o:thumbnail': None,\n",
       " 'o:title': 'NewItemSetfromAPI',\n",
       " 'thumbnail_display_urls': {'large': None, 'medium': None, 'square': None},\n",
       " 'o:created': {'@value': '2024-11-25T20:49:25+00:00',\n",
       "  '@type': 'http://www.w3.org/2001/XMLSchema#dateTime'},\n",
       " 'o:modified': {'@value': '2024-11-25T20:49:25+00:00',\n",
       "  '@type': 'http://www.w3.org/2001/XMLSchema#dateTime'},\n",
       " 'o:primary_media': None,\n",
       " 'o:media': [],\n",
       " 'o:item_set': [],\n",
       " 'o:site': [{'@id': 'http://jajohnst.si676.si.umich.edu/omeka-s/api/sites/1',\n",
       "   'o:id': 1},\n",
       "  {'@id': 'http://jajohnst.si676.si.umich.edu/omeka-s/api/sites/2',\n",
       "   'o:id': 2}],\n",
       " 'dcterms:title': [{'type': 'literal',\n",
       "   'property_id': 1,\n",
       "   'property_label': 'Title',\n",
       "   'is_public': True,\n",
       "   '@value': 'NewItemSetfromAPI'}]}"
      ]
     },
     "execution_count": 11,
     "metadata": {},
     "output_type": "execute_result"
    }
   ],
   "source": [
    "post.json()"
   ]
  },
  {
   "cell_type": "markdown",
   "metadata": {},
   "source": [
    "Here's another example, with a different template. This one wasn't covered in class"
   ]
  },
  {
   "cell_type": "code",
   "execution_count": 12,
   "metadata": {},
   "outputs": [],
   "source": [
    "with open(join('..','data','json','omeka-s-item-example.json'), encoding='utf-8') as d:\n",
    "    new_item_data = json.load(d)"
   ]
  },
  {
   "cell_type": "code",
   "execution_count": 13,
   "metadata": {},
   "outputs": [
    {
     "name": "stdout",
     "output_type": "stream",
     "text": [
      "200\n"
     ]
    }
   ],
   "source": [
    "new_item_post = requests.post(post_item_url, headers=headers, params=parameters, data=json.dumps(new_item_data))\n",
    "\n",
    "print(new_item_post.status_code)"
   ]
  },
  {
   "cell_type": "code",
   "execution_count": 14,
   "metadata": {},
   "outputs": [
    {
     "data": {
      "text/plain": [
       "{'@context': 'http://jajohnst.si676.si.umich.edu/omeka-s/api-context',\n",
       " '@id': 'http://jajohnst.si676.si.umich.edu/omeka-s/api/items/461',\n",
       " '@type': 'o:Item',\n",
       " 'o:id': 461,\n",
       " 'o:is_public': True,\n",
       " 'o:owner': {'@id': 'http://jajohnst.si676.si.umich.edu/omeka-s/api/users/1',\n",
       "  'o:id': 1},\n",
       " 'o:resource_class': None,\n",
       " 'o:resource_template': None,\n",
       " 'o:thumbnail': None,\n",
       " 'o:title': 'A Title of Something Ingested via the API',\n",
       " 'thumbnail_display_urls': {'large': None, 'medium': None, 'square': None},\n",
       " 'o:created': {'@value': '2024-11-25T20:50:20+00:00',\n",
       "  '@type': 'http://www.w3.org/2001/XMLSchema#dateTime'},\n",
       " 'o:modified': {'@value': '2024-11-25T20:50:20+00:00',\n",
       "  '@type': 'http://www.w3.org/2001/XMLSchema#dateTime'},\n",
       " 'o:primary_media': None,\n",
       " 'o:media': [],\n",
       " 'o:item_set': [],\n",
       " 'o:site': [{'@id': 'http://jajohnst.si676.si.umich.edu/omeka-s/api/sites/1',\n",
       "   'o:id': 1},\n",
       "  {'@id': 'http://jajohnst.si676.si.umich.edu/omeka-s/api/sites/2',\n",
       "   'o:id': 2}],\n",
       " 'dcterms:title': [{'type': 'literal',\n",
       "   'property_id': 1,\n",
       "   'property_label': 'Title',\n",
       "   'is_public': True,\n",
       "   '@value': 'A Title of Something Ingested via the API'}],\n",
       " 'dcterms:description': [{'type': 'literal',\n",
       "   'property_id': 4,\n",
       "   'property_label': 'Description',\n",
       "   'is_public': True,\n",
       "   '@value': 'This is a description of an item that you could ingest using the Omeka S API'}],\n",
       " 'dcterms:alternative': [{'type': 'literal',\n",
       "   'property_id': 17,\n",
       "   'property_label': 'Alternative Title',\n",
       "   'is_public': True,\n",
       "   '@value': \"Here's an Alternative Title\"},\n",
       "  {'type': 'literal',\n",
       "   'property_id': 17,\n",
       "   'property_label': 'Alternative Title',\n",
       "   'is_public': True,\n",
       "   '@value': \"Here's another Alternative Title\"}]}"
      ]
     },
     "execution_count": 14,
     "metadata": {},
     "output_type": "execute_result"
    }
   ],
   "source": [
    "new_item_post.json()"
   ]
  },
  {
   "cell_type": "markdown",
   "metadata": {},
   "source": [
    "## Omeka S API - item with media\n",
    "\n",
    "adding an item with media. Note: due to time, we did not cover this in class on Nov 25.\n",
    "Will discuss again on Dec 2."
   ]
  }
 ],
 "metadata": {
  "kernelspec": {
   "display_name": "base",
   "language": "python",
   "name": "python3"
  },
  "language_info": {
   "codemirror_mode": {
    "name": "ipython",
    "version": 3
   },
   "file_extension": ".py",
   "mimetype": "text/x-python",
   "name": "python",
   "nbconvert_exporter": "python",
   "pygments_lexer": "ipython3",
   "version": "3.9.18"
  }
 },
 "nbformat": 4,
 "nbformat_minor": 2
}
